{
 "cells": [
  {
   "cell_type": "code",
   "execution_count": 1,
   "metadata": {},
   "outputs": [],
   "source": [
    "import scipy.io as sio\n",
    "from scipy.io import readsav\n",
    "import numpy as np\n",
    "import pandas as pd"
   ]
  },
  {
   "cell_type": "markdown",
   "metadata": {},
   "source": [
    "This convert the .sav files into .txt files"
   ]
  },
  {
   "cell_type": "code",
   "execution_count": 2,
   "metadata": {},
   "outputs": [],
   "source": [
    "# import os\n",
    "# from scipy.io import readsav\n",
    "# sav_directory = './sav_files'\n",
    "# txt_directory = './txt_files'\n",
    "# if not os.path.exists(txt_directory):\n",
    "#     os.makedirs(txt_directory)\n",
    "# for filename in os.listdir(sav_directory):\n",
    "#     if filename.endswith(\".sav\"):\n",
    "#         sav_path = os.path.join(sav_directory, filename)\n",
    "#         data = readsav(sav_path)\n",
    "#         data_str = str(data)\n",
    "#         txt_path = os.path.join(txt_directory, filename.replace('.sav', '.txt'))\n",
    "#         with open(txt_path, 'w') as txt_file:\n",
    "#             txt_file.write(data_str)\n",
    "#         print(f'Archivo {txt_path} creado.')"
   ]
  },
  {
   "cell_type": "markdown",
   "metadata": {},
   "source": [
    "This gives me the name of all the files in the folder sav_files into a list"
   ]
  },
  {
   "cell_type": "code",
   "execution_count": 3,
   "metadata": {},
   "outputs": [],
   "source": [
    "import os\n",
    "directory = './sav_files'\n",
    "sav_files_directory_ls = []\n",
    "sav_files_ls = [file for file in os.listdir(directory) if file.endswith('.sav')]\n",
    "for file in sav_files_ls:\n",
    "    sav_files_directory_ls.append(os.path.join(directory, file))"
   ]
  },
  {
   "cell_type": "markdown",
   "metadata": {},
   "source": [
    "This gives me the keys of each dictionary saved on each element of the sav_files_directory_ls list"
   ]
  },
  {
   "cell_type": "code",
   "execution_count": 17,
   "metadata": {},
   "outputs": [
    {
     "name": "stdout",
     "output_type": "stream",
     "text": [
      "./sav_files\\1090904016_950to1050.sav\n",
      "dict_keys(['shot', 'ta', 'tb', 'x', 'x_lim', 'x_sep', 'p_wall', 'mu', 't_i', 't_e', 'n_e', 'vx', 'vx1', 'vx2', 'lc', 'd_pipe', 'gammai', 'xh2', 'nh2', 'gammaxh2', 'th2', 'qxh2_total', 'nhp', 'thp', 'sh', 'sp', 'xh', 'nh', 'gammaxh', 'th', 'qxh_total', 'nethsource', 'sion', 'qh_total', 'sidewallh', 'lyman', 'balmer', 'gammahlim', 'pih_xx', 'pih_yy', 'pih_zz', 'rxhcx', 'rxh2_h', 'rxp_h', 'rxw_h', 'ehcx', 'eh2_h', 'ep_h', 'ew_h', 'epara_perph_h', 'sourceh', 'srecomb', 'l_ne', 'l_te', 'l_nh', 'd_eff', 'sep_rmid'])\n",
      "57\n",
      "#######################\n",
      "./sav_files\\1090904016_950to1050_towall.sav\n",
      "dict_keys(['shot', 'ta', 'tb', 'x', 'x_lim', 'x_sep', 'p_wall', 'mu', 't_i', 't_e', 'n_e', 'vx', 'vx1', 'vx2', 'lc', 'd_pipe', 'gammai', 'xh2', 'nh2', 'gammaxh2', 'th2', 'qxh2_total', 'nhp', 'thp', 'sh', 'sp', 'xh', 'nh', 'gammaxh', 'th', 'qxh_total', 'nethsource', 'sion', 'qh_total', 'sidewallh', 'lyman', 'balmer', 'gammahlim', 'pih_xx', 'pih_yy', 'pih_zz', 'rxhcx', 'rxh2_h', 'rxp_h', 'rxw_h', 'ehcx', 'eh2_h', 'ep_h', 'ew_h', 'epara_perph_h', 'sourceh', 'srecomb', 'l_ne', 'l_te', 'l_nh', 'd_eff', 'sep_rmid'])\n",
      "57\n",
      "#######################\n",
      "./sav_files\\1090904018_950to1050.sav\n",
      "dict_keys(['shot', 'ta', 'tb', 'x', 'x_lim', 'x_sep', 'p_wall', 'mu', 't_i', 't_e', 'n_e', 'vx', 'vx1', 'vx2', 'lc', 'd_pipe', 'gammai', 'xh2', 'nh2', 'gammaxh2', 'th2', 'qxh2_total', 'nhp', 'thp', 'sh', 'sp', 'xh', 'nh', 'gammaxh', 'th', 'qxh_total', 'nethsource', 'sion', 'qh_total', 'sidewallh', 'lyman', 'balmer', 'gammahlim', 'pih_xx', 'pih_yy', 'pih_zz', 'rxhcx', 'rxh2_h', 'rxp_h', 'rxw_h', 'ehcx', 'eh2_h', 'ep_h', 'ew_h', 'epara_perph_h', 'sourceh', 'srecomb', 'l_ne', 'l_te', 'l_nh', 'd_eff', 'sep_rmid'])\n",
      "57\n",
      "#######################\n",
      "./sav_files\\1090904018_950to1050_towall.sav\n",
      "dict_keys(['shot', 'ta', 'tb', 'x', 'x_lim', 'x_sep', 'p_wall', 'mu', 't_i', 't_e', 'n_e', 'vx', 'vx1', 'vx2', 'lc', 'd_pipe', 'gammai', 'xh2', 'nh2', 'gammaxh2', 'th2', 'qxh2_total', 'nhp', 'thp', 'sh', 'sp', 'xh', 'nh', 'gammaxh', 'th', 'qxh_total', 'nethsource', 'sion', 'qh_total', 'sidewallh', 'lyman', 'balmer', 'gammahlim', 'pih_xx', 'pih_yy', 'pih_zz', 'rxhcx', 'rxh2_h', 'rxp_h', 'rxw_h', 'ehcx', 'eh2_h', 'ep_h', 'ew_h', 'epara_perph_h', 'sourceh', 'srecomb', 'l_ne', 'l_te', 'l_nh', 'd_eff', 'sep_rmid'])\n",
      "57\n",
      "#######################\n",
      "./sav_files\\1090904024_950to1050.sav\n",
      "dict_keys(['shot', 'ta', 'tb', 'x', 'x_lim', 'x_sep', 'p_wall', 'mu', 't_i', 't_e', 'n_e', 'vx', 'vx1', 'vx2', 'lc', 'd_pipe', 'gammai', 'xh2', 'nh2', 'gammaxh2', 'th2', 'qxh2_total', 'nhp', 'thp', 'sh', 'sp', 'xh', 'nh', 'gammaxh', 'th', 'qxh_total', 'nethsource', 'sion', 'qh_total', 'sidewallh', 'lyman', 'balmer', 'gammahlim', 'pih_xx', 'pih_yy', 'pih_zz', 'rxhcx', 'rxh2_h', 'rxp_h', 'rxw_h', 'ehcx', 'eh2_h', 'ep_h', 'ew_h', 'epara_perph_h', 'sourceh', 'srecomb', 'l_ne', 'l_te', 'l_nh', 'd_eff', 'sep_rmid'])\n",
      "57\n",
      "#######################\n",
      "./sav_files\\1090904024_950to1050_extended.sav\n",
      "dict_keys(['shot', 'ta', 'tb', 'x', 'x_lim', 'x_sep', 'p_wall', 'mu', 't_i', 't_e', 'n_e', 'vx', 'vx1', 'vx2', 'lc', 'd_pipe', 'gammai', 'xh2', 'nh2', 'gammaxh2', 'th2', 'qxh2_total', 'nhp', 'thp', 'sh', 'sp', 'xh', 'nh', 'gammaxh', 'th', 'qxh_total', 'nethsource', 'sion', 'qh_total', 'sidewallh', 'lyman', 'balmer', 'gammahlim', 'pih_xx', 'pih_yy', 'pih_zz', 'rxhcx', 'rxh2_h', 'rxp_h', 'rxw_h', 'ehcx', 'eh2_h', 'ep_h', 'ew_h', 'epara_perph_h', 'sourceh', 'srecomb', 'l_ne', 'l_te', 'l_nh', 'd_eff', 'sep_rmid'])\n",
      "57\n",
      "#######################\n",
      "./sav_files\\1090904024_950to1050_extended_exponential.sav\n",
      "dict_keys(['shot', 'ta', 'tb', 'x', 'x_lim', 'x_sep', 'p_wall', 'mu', 't_i', 't_e', 'n_e', 'vx', 'vx1', 'vx2', 'lc', 'd_pipe', 'gammai', 'xh2', 'nh2', 'gammaxh2', 'th2', 'qxh2_total', 'nhp', 'thp', 'sh', 'sp', 'xh', 'nh', 'gammaxh', 'th', 'qxh_total', 'nethsource', 'sion', 'qh_total', 'sidewallh', 'lyman', 'balmer', 'gammahlim', 'pih_xx', 'pih_yy', 'pih_zz', 'rxhcx', 'rxh2_h', 'rxp_h', 'rxw_h', 'ehcx', 'eh2_h', 'ep_h', 'ew_h', 'epara_perph_h', 'sourceh', 'srecomb', 'l_ne', 'l_te', 'l_nh', 'd_eff', 'sep_rmid'])\n",
      "57\n",
      "#######################\n",
      "./sav_files\\1090904024_950to1050_extended_linear.sav\n",
      "dict_keys(['shot', 'ta', 'tb', 'x', 'x_lim', 'x_sep', 'p_wall', 'mu', 't_i', 't_e', 'n_e', 'vx', 'vx1', 'vx2', 'lc', 'd_pipe', 'gammai', 'xh2', 'nh2', 'gammaxh2', 'th2', 'qxh2_total', 'nhp', 'thp', 'sh', 'sp', 'xh', 'nh', 'gammaxh', 'th', 'qxh_total', 'nethsource', 'sion', 'qh_total', 'sidewallh', 'lyman', 'balmer', 'gammahlim', 'pih_xx', 'pih_yy', 'pih_zz', 'rxhcx', 'rxh2_h', 'rxp_h', 'rxw_h', 'ehcx', 'eh2_h', 'ep_h', 'ew_h', 'epara_perph_h', 'sourceh', 'srecomb', 'l_ne', 'l_te', 'l_nh', 'd_eff', 'sep_rmid'])\n",
      "57\n",
      "#######################\n",
      "./sav_files\\1090904024_950to1050_extended_quadratic.sav\n",
      "dict_keys(['shot', 'ta', 'tb', 'x', 'x_lim', 'x_sep', 'p_wall', 'mu', 't_i', 't_e', 'n_e', 'vx', 'vx1', 'vx2', 'lc', 'd_pipe', 'gammai', 'xh2', 'nh2', 'gammaxh2', 'th2', 'qxh2_total', 'nhp', 'thp', 'sh', 'sp', 'xh', 'nh', 'gammaxh', 'th', 'qxh_total', 'nethsource', 'sion', 'qh_total', 'sidewallh', 'lyman', 'balmer', 'gammahlim', 'pih_xx', 'pih_yy', 'pih_zz', 'rxhcx', 'rxh2_h', 'rxp_h', 'rxw_h', 'ehcx', 'eh2_h', 'ep_h', 'ew_h', 'epara_perph_h', 'sourceh', 'srecomb', 'l_ne', 'l_te', 'l_nh', 'd_eff', 'sep_rmid'])\n",
      "57\n",
      "#######################\n",
      "./sav_files\\1090904024_950to1050_towall.sav\n",
      "dict_keys(['shot', 'ta', 'tb', 'x', 'x_lim', 'x_sep', 'p_wall', 'mu', 't_i', 't_e', 'n_e', 'vx', 'vx1', 'vx2', 'lc', 'd_pipe', 'gammai', 'xh2', 'nh2', 'gammaxh2', 'th2', 'qxh2_total', 'nhp', 'thp', 'sh', 'sp', 'xh', 'nh', 'gammaxh', 'th', 'qxh_total', 'nethsource', 'sion', 'qh_total', 'sidewallh', 'lyman', 'balmer', 'gammahlim', 'pih_xx', 'pih_yy', 'pih_zz', 'rxhcx', 'rxh2_h', 'rxp_h', 'rxw_h', 'ehcx', 'eh2_h', 'ep_h', 'ew_h', 'epara_perph_h', 'sourceh', 'srecomb', 'l_ne', 'l_te', 'l_nh', 'd_eff', 'sep_rmid'])\n",
      "57\n",
      "#######################\n",
      "./sav_files\\1090904024_extended_exponential_distribution_function.sav\n",
      "dict_keys(['fh', 'vr_s', 'vx_s', 'x_s', 'tnorm_s'])\n",
      "5\n",
      "#######################\n",
      "./sav_files\\1090904024_extended_linear_distribution_function.sav\n",
      "dict_keys(['fh', 'vr_s', 'vx_s', 'x_s', 'tnorm_s'])\n",
      "5\n",
      "#######################\n",
      "./sav_files\\1090904024_extended_quadratic_distribution_function.sav\n",
      "dict_keys(['fh', 'vr_s', 'vx_s', 'x_s', 'tnorm_s'])\n",
      "5\n",
      "#######################\n",
      "./sav_files\\1090904029_950to1050.sav\n",
      "dict_keys(['shot', 'ta', 'tb', 'x', 'x_lim', 'x_sep', 'p_wall', 'mu', 't_i', 't_e', 'n_e', 'vx', 'vx1', 'vx2', 'lc', 'd_pipe', 'gammai', 'xh2', 'nh2', 'gammaxh2', 'th2', 'qxh2_total', 'nhp', 'thp', 'sh', 'sp', 'xh', 'nh', 'gammaxh', 'th', 'qxh_total', 'nethsource', 'sion', 'qh_total', 'sidewallh', 'lyman', 'balmer', 'gammahlim', 'pih_xx', 'pih_yy', 'pih_zz', 'rxhcx', 'rxh2_h', 'rxp_h', 'rxw_h', 'ehcx', 'eh2_h', 'ep_h', 'ew_h', 'epara_perph_h', 'sourceh', 'srecomb', 'l_ne', 'l_te', 'l_nh', 'd_eff', 'sep_rmid'])\n",
      "57\n",
      "#######################\n",
      "./sav_files\\1090904029_950to1050_towall.sav\n",
      "dict_keys(['shot', 'ta', 'tb', 'x', 'x_lim', 'x_sep', 'p_wall', 'mu', 't_i', 't_e', 'n_e', 'vx', 'vx1', 'vx2', 'lc', 'd_pipe', 'gammai', 'xh2', 'nh2', 'gammaxh2', 'th2', 'qxh2_total', 'nhp', 'thp', 'sh', 'sp', 'xh', 'nh', 'gammaxh', 'th', 'qxh_total', 'nethsource', 'sion', 'qh_total', 'sidewallh', 'lyman', 'balmer', 'gammahlim', 'pih_xx', 'pih_yy', 'pih_zz', 'rxhcx', 'rxh2_h', 'rxp_h', 'rxw_h', 'ehcx', 'eh2_h', 'ep_h', 'ew_h', 'epara_perph_h', 'sourceh', 'srecomb', 'l_ne', 'l_te', 'l_nh', 'd_eff', 'sep_rmid'])\n",
      "57\n",
      "#######################\n",
      "./sav_files\\kn1d_test_inputs.sav\n",
      "dict_keys(['x', 'x_lim', 'x_sep', 'p_wall', 'mu', 't_i', 't_e', 'n_e', 'vx', 'lc', 'd_pipe'])\n",
      "11\n",
      "#######################\n"
     ]
    }
   ],
   "source": [
    "for file in sav_files_directory_ls:\n",
    "    print(file)\n",
    "    print(readsav(file).keys())\n",
    "    print(len(readsav(file).keys()))\n",
    "    print(\"#######################\")"
   ]
  },
  {
   "cell_type": "code",
   "execution_count": null,
   "metadata": {},
   "outputs": [],
   "source": []
  },
  {
   "cell_type": "code",
   "execution_count": null,
   "metadata": {},
   "outputs": [],
   "source": []
  }
 ],
 "metadata": {
  "kernelspec": {
   "display_name": "venv_kn1d",
   "language": "python",
   "name": "python3"
  },
  "language_info": {
   "codemirror_mode": {
    "name": "ipython",
    "version": 3
   },
   "file_extension": ".py",
   "mimetype": "text/x-python",
   "name": "python",
   "nbconvert_exporter": "python",
   "pygments_lexer": "ipython3",
   "version": "3.12.4"
  }
 },
 "nbformat": 4,
 "nbformat_minor": 2
}
