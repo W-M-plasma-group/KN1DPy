{
 "cells": [
  {
   "cell_type": "code",
   "execution_count": 1,
   "metadata": {},
   "outputs": [],
   "source": [
    "import numpy as np\n",
    "import copy\n",
    "from tqdm import tqdm"
   ]
  },
  {
   "cell_type": "markdown",
   "metadata": {},
   "source": [
    "# Start of the debugging"
   ]
  },
  {
   "cell_type": "code",
   "execution_count": 2,
   "metadata": {},
   "outputs": [
    {
     "name": "stdout",
     "output_type": "stream",
     "text": [
      "(40,)\n"
     ]
    }
   ],
   "source": [
    "# Definir vr y vx\n",
    "vr = np.array([0.07025444373403009, 0.14139327496887916, 0.21341649370454718, \n",
    "               0.2863240999410342, 0.3601160936783402, 0.43479247491646505, \n",
    "               0.510353243655409, 0.5867983998951719, 0.6641279436357537, \n",
    "               0.7423418748771545, 0.8214401936193743, 0.901422899862413, \n",
    "               0.9822899936062708, 1.0640414748509475, 1.146677343596443, \n",
    "               1.230197599842758, 1.3146022435898914, 1.3998912748378438, \n",
    "               1.4860646935866155, 1.5731224998362061, 1.6610646935866153, \n",
    "               1.749891274837844, 1.8396022435898913, 1.9301975998427576, \n",
    "               2.0216773435964432, 2.1140414748509473, 2.207289993606271, \n",
    "               2.301422899862413, 2.396440193619374, 2.4923418748771544, \n",
    "               2.5891279436357535, 2.6867983998951717, 2.785353243655409, \n",
    "               2.8847924749164653, 2.9851160936783403, 3.086324099941034, \n",
    "               3.1884164937045467, 3.291393274968879, 3.39525444373403, 3.5])\n",
    "\n",
    "vx = np.array([-3.5, -3.39525444373403, -3.291393274968879, -3.1884164937045467, \n",
    "               -3.086324099941034, -2.9851160936783403, -2.8847924749164653, \n",
    "               -2.785353243655409, -2.6867983998951717, -2.5891279436357535, \n",
    "               -2.4923418748771544, -2.396440193619374, -2.301422899862413, \n",
    "               -2.207289993606271, -2.1140414748509473, -2.0216773435964432, \n",
    "               -1.9301975998427576, -1.8396022435898913, -1.749891274837844, \n",
    "               -1.6610646935866153, -1.5731224998362061, -1.4860646935866155, \n",
    "               -1.3998912748378438, -1.3146022435898914, -1.230197599842758, \n",
    "               -1.146677343596443, -1.0640414748509475, -0.9822899936062708, \n",
    "               -0.901422899862413, -0.8214401936193743, -0.7423418748771545, \n",
    "               -0.6641279436357537, -0.5867983998951719, -0.510353243655409, \n",
    "               -0.43479247491646505, -0.3601160936783402, -0.2863240999410342, \n",
    "               -0.21341649370454718, -0.14139327496887916, -0.07025444373403009, \n",
    "               0.07025444373403009, 0.14139327496887916, 0.21341649370454718, \n",
    "               0.2863240999410342, 0.3601160936783402, 0.43479247491646505, \n",
    "               0.510353243655409, 0.5867983998951719, 0.6641279436357537, \n",
    "               0.7423418748771545, 0.8214401936193743, 0.901422899862413, \n",
    "               0.9822899936062708, 1.0640414748509475, 1.146677343596443, \n",
    "               1.230197599842758, 1.3146022435898914, 1.3998912748378438, \n",
    "               1.4860646935866155, 1.5731224998362061, 1.6610646935866153, \n",
    "               1.749891274837844, 1.8396022435898913, 1.9301975998427576, \n",
    "               2.0216773435964432, 2.1140414748509473, 2.207289993606271, \n",
    "               2.301422899862413, 2.396440193619374, 2.4923418748771544, \n",
    "               2.5891279436357535, 2.6867983998951717, 2.785353243655409, \n",
    "               2.8847924749164653, 2.9851160936783403, 3.086324099941034, \n",
    "               3.1884164937045467, 3.291393274968879, 3.39525444373403, 3.5])\n",
    "\n",
    "# IDL> help, vol \n",
    "# VOL             DOUBLE    = Array[40, 80]\n",
    "\n",
    "\n",
    "print(vr.shape)"
   ]
  },
  {
   "cell_type": "code",
   "execution_count": 3,
   "metadata": {},
   "outputs": [
    {
     "name": "stderr",
     "output_type": "stream",
     "text": [
      "Make_dVr_dVx: calc. vol: 100%|██████████| 40/40 [00:00<00:00, 39747.02it/s]\n",
      "Make_dVr_dVx: calc. vth & vx: 100%|██████████| 40/40 [00:00<00:00, 35560.02it/s]\n",
      "Make_dVr_dVx: calc. vr: 100%|██████████| 80/80 [00:00<00:00, 79929.57it/s]\n"
     ]
    }
   ],
   "source": [
    "''' \n",
    "Version 01\n",
    "Authors: Julio Balbin, Carlo Becerra\n",
    "Date: August 17th, 2024\n",
    "'''\n",
    "def Make_dVr_dVx(vr: np.ndarray\n",
    "                ,vx: np.ndarray):\n",
    "    ''' \n",
    "    vr & vx are from:\n",
    "    -> 1090904024_950to1050.sav\n",
    "\n",
    "    Constructs velocity space differentials for distribution functions\n",
    "    used by Kinetic_Neutrals.pro, Kinetic_H2.pro, Kinetic_H2.pro\n",
    "\n",
    "    The abs(difference) between vol variable in python & IDL is in the range: \n",
    "    <(np.float64(1.433306555442826e-06), np.float64(6.70904781382986e-12)>\n",
    "    '''\n",
    "\n",
    "    # nvr & nvx are taking the shape of vr & vx respectively\n",
    "    nvr = vr.size\n",
    "    nvx = vx.size\n",
    "\n",
    "    # Calculations for r-dimension\n",
    "    _vr     = np.append(vr, 2 * vr[-1] - vr[-2])\n",
    "    vr_mid  = np.concatenate(([0.0], 0.5 * (_vr + np.roll(_vr, -1))))\n",
    "\n",
    "    vrR = np.roll(vr_mid, -1)[0:nvr]\n",
    "    vrL = copy.copy(vr_mid)[0:nvr]\n",
    "\n",
    "    Vr2pidVr    =         np.pi * (vrR**2 - vrL**2)\n",
    "    VrVr4pidVr  = (4/3) * np.pi * (vrR**3 - vrL**3)\n",
    "\n",
    "    # Calculations for x-dimension\n",
    "    _vx = np.concatenate(([2 * vx[0] - vx[1]], vx, [2 * vx[-1] - vx[-2]]))\n",
    "\n",
    "    vxR = 0.5 * (np.roll(_vx, -1) + _vx)[1:nvx+1]\n",
    "    vxL = 0.5 * (np.roll(_vx,  1) + _vx)[1:nvx+1]\n",
    "\n",
    "    dVx = vxR - vxL\n",
    "\n",
    "    # Calc. volumen\n",
    "    vol = np.zeros((nvr, nvx), dtype=np.float64)\n",
    "    for i in tqdm(range(nvr), desc=f\"Make_dVr_dVx: calc. vol\"): \n",
    "        vol[i, :] = Vr2pidVr[i] * dVx\n",
    "        \n",
    "    Deltavx = vxR - vxL\n",
    "    Deltavr = vrR - vrL\n",
    "\n",
    "    vth_Deltavx =np.zeros((nvr+2,nvx+2))\n",
    "    vx_Deltavx  =np.zeros((nvr+2,nvx+2))\n",
    "    vr_Deltavr  =np.zeros((nvr+2,nvx+2))\n",
    "\n",
    "    for j in tqdm(range(1,nvr+1),desc=f\"Make_dVr_dVx: calc. vth & vx\"):\n",
    "        vth_Deltavx[j,1:nvx+1] = 1.0/Deltavx    # vth_Deltavx(i,1:nvx)=1.0/Deltavx\n",
    "        vx_Deltavx[ j,1:nvx+1] =  vx/Deltavx     #  vx_Deltavx(i,1:nvx)= vx/Deltavx\n",
    "\n",
    "    for k in tqdm(range(1,nvx+1),desc=f\"Make_dVr_dVx: calc. vr\"):\n",
    "        vr_Deltavr[ 1:nvr+1,k] =  vr/Deltavr     #  vr_Deltavr(1:nvr,j)=vr/Deltavr\n",
    "    \n",
    "    # Compute v^2\n",
    "    vr2vx2=np.zeros((nvr,nvx), dtype=np.float64)\n",
    "    for l in range(0,nvr):\n",
    "        vr2vx2[l,:] = vr[l]**2 + vx**2\n",
    "\n",
    "    # vx's positive index\n",
    "    jp = copy.copy(np.where(vx>0)[0])   # This saves the positives index of vx\n",
    "    jpa = int(jp[0])                    # This saves the first index of jp\n",
    "    jpb = int(jp[len(jp)-1])            # This saves the last index of jp\n",
    "\n",
    "    # vx's negative index   \n",
    "    jn = copy.copy(np.where(vx<0)[0])   # This saves the negatives index of vx\n",
    "    jna = int(jn[0])                    # This saves the first index of jp\n",
    "    jnb = int(jn[len(jn)-1])            # This saves the last index of jp\n",
    "\n",
    "    return Vr2pidVr, VrVr4pidVr,dVx,vrL,vrR,vxL,vxR,\\\n",
    "           vol,vth_Deltavx,vx_Deltavx,vr_Deltavr,vr2vx2,\\\n",
    "           jpa,jpb,jna,jnb\n",
    "\n",
    "\n",
    "Vr2pidVr, VrVr4pidVr,dVx,vrL,vrR,vxL,vxR,\\\n",
    "           vol,vth_Deltavx,vx_Deltavx,vr_Deltavr,vr2vx2,\\\n",
    "           jpa,jpb,jna,jnb = Make_dVr_dVx(vr,vx)\n",
    "\n"
   ]
  },
  {
   "cell_type": "code",
   "execution_count": 4,
   "metadata": {},
   "outputs": [
    {
     "data": {
      "text/plain": [
       "array([[0.00368514, 0.00366957, 0.00363845, ..., 0.00363845, 0.00366957,\n",
       "        0.00368514],\n",
       "       [0.00667148, 0.00664329, 0.00658696, ..., 0.00658696, 0.00664329,\n",
       "        0.00667148],\n",
       "       [0.01018885, 0.01014581, 0.01005977, ..., 0.01005977, 0.01014581,\n",
       "        0.01018885],\n",
       "       ...,\n",
       "       [0.22403994, 0.22309346, 0.22120155, ..., 0.22120155, 0.22309346,\n",
       "        0.22403994],\n",
       "       [0.23308562, 0.23210093, 0.23013262, ..., 0.23013262, 0.23210093,\n",
       "        0.23308562],\n",
       "       [0.24128021, 0.24026091, 0.23822342, ..., 0.23822342, 0.24026091,\n",
       "        0.24128021]])"
      ]
     },
     "execution_count": 4,
     "metadata": {},
     "output_type": "execute_result"
    }
   ],
   "source": [
    "# Import values from IDL version\n",
    "# Only for validation purpouses\n",
    "# we're looking for the min & max errors\n",
    "vol_sp = np.loadtxt('vol.txt')\n",
    "vol_sp = vol_sp.reshape((40,80))\n",
    "vol_db = np.loadtxt('draft_Make_dVr_dVx_vol.dat')\n",
    "vol_db = vol_db.reshape((40,80))\n",
    "vol_db"
   ]
  },
  {
   "cell_type": "code",
   "execution_count": 11,
   "metadata": {},
   "outputs": [
    {
     "data": {
      "image/png": "[encoded data removed]",
      "text/plain": [
       "<Figure size 640x480 with 2 Axes>"
      ]
     },
     "metadata": {},
     "output_type": "display_data"
    }
   ],
   "source": [
    "import numpy as np\n",
    "import matplotlib.pyplot as plt\n",
    "from matplotlib.colors import LogNorm\n",
    "import matplotlib.colors as mplc\n",
    "\n",
    "diferencia = vol_db -vol\n",
    "diferencia_absoluta = np.abs(diferencia)\n",
    "\n",
    "# plt.imshow(diferencia, cmap='coolwarm', interpolation='nearest')\n",
    "# plt.colorbar(label='Diferencia')\n",
    "my_cmap = plt.cm.coolwarm\n",
    "plt.imshow(diferencia, cmap=my_cmap, interpolation='nearest',norm=mplc.LogNorm())\n",
    "plt.colorbar(label='Diferencia')\n",
    "plt.title(\"Mapa de diferencias entre vol1 y vol2\")\n",
    "\n",
    "plt.show()\n"
   ]
  },
  {
   "cell_type": "code",
   "execution_count": 6,
   "metadata": {},
   "outputs": [
    {
     "data": {
      "text/plain": [
       "(np.float64(1.433306555442826e-06), np.float64(6.70904781382986e-12))"
      ]
     },
     "execution_count": 6,
     "metadata": {},
     "output_type": "execute_result"
    }
   ],
   "source": [
    "diferencia_absoluta.max(),diferencia_absoluta.min()"
   ]
  }
 ],
 "metadata": {
  "kernelspec": {
   "display_name": "venv_kn1d",
   "language": "python",
   "name": "python3"
  },
  "language_info": {
   "codemirror_mode": {
    "name": "ipython",
    "version": 3
   },
   "file_extension": ".py",
   "mimetype": "text/x-python",
   "name": "python",
   "nbconvert_exporter": "python",
   "pygments_lexer": "ipython3",
   "version": "3.11.2"
  }
 },
 "nbformat": 4,
 "nbformat_minor": 2
}
