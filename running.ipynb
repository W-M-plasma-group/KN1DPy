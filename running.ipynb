{
 "cells": [
  {
   "cell_type": "code",
   "execution_count": 6,
   "metadata": {},
   "outputs": [],
   "source": [
    "#%run kn1d_test.py\n",
    "####\n",
    "## For python 3.12.4 is not running\n",
    "##\n",
    "####\n",
    "## For fixed the updates on the routines, a test with input files is performed\n",
    "##\n",
    "## --> Version on this ipynb is 3.12.4"
   ]
  },
  {
   "cell_type": "code",
   "execution_count": 9,
   "metadata": {},
   "outputs": [
    {
     "name": "stdout",
     "output_type": "stream",
     "text": [
      "test \n",
      "\n"
     ]
    }
   ],
   "source": [
    "from KN1D import KN1D\n",
    "import scipy.io as sio\n",
    "from scipy.io import readsav\n",
    "import numpy as np\n",
    "print('test','\\n')\n",
    "import matplotlib.pyplot as plt\n",
    "from scipy import interpolate\n",
    "import time\n",
    "\n",
    "#fileloc=\"C:\\\\Users\\\\nholl\\\\OneDrive\\\\Documents\\\\School Work\\\\Research Info\\\\ADAS Outputs\\\\\"\n",
    "\n",
    "testidl=True\n",
    "\n",
    "def read_sav(file_name):\n",
    "\n",
    "# This function will print the data from an IDL .sav file\n",
    "# Inputs:\n",
    "#   file name - the name of the .sav file\n",
    "# Outputs:\n",
    "#   sav_data - a dictionary containing all of the data\n",
    "    path = file_name\n",
    "    sav_data = readsav(path)\n",
    "    return sav_data\n",
    "\n",
    "fname='1090904024_950to1050'\n",
    "fname2='test_qcx_h0'\n",
    "#fname2='No_collisions'"
   ]
  },
  {
   "cell_type": "code",
   "execution_count": 10,
   "metadata": {},
   "outputs": [],
   "source": [
    "data_file = read_sav(fname+'.sav')\n",
    "\n",
    "keys = data_file.keys() # gets the keys from the dictionary  \n",
    "keys_list = list(keys)  # puts the keys into a list \n",
    "#print(keys_list)\n",
    "#print(keys_list[0])\n",
    "\n",
    "values = data_file.values() # gets the values from the dictionary \n",
    "values_list = list(values)  # puts the values into a list \n",
    "#print(values_list)\n",
    "#print('x', values_list[3])\n",
    "#print('xlim', values_list[4])\n",
    "#print('xsept', values_list[5])\n",
    "#print('GuageH2', 50)\n",
    "#print('mu', values_list[7])\n",
    "#print('vx', values_list[11])\n",
    "#print('LC', values_list[12])\n",
    "#print('PipeDia', values_list[13])\n",
    "#print(keys_list[3])\n",
    "#raise Exception('check')\n",
    "for i in keys_list:\n",
    "    #print(i,data_file[i])\n",
    "        pass\n",
    "\n",
    "#interpfunc=interpolate.interp1d(data_file['x'],data_file['n_e'])\n",
    "#x=np.linspace(data_file['x'][0],data_file['x'][-1],1000)\n",
    "\n",
    "#plt.plot(x,interpfunc(x))\n",
    "#plt.xlabel(r'Distance (m)')\n",
    "#plt.ylabel(r'Density (m$^{-3}$)')\n",
    "\n",
    "#plt.show()\n",
    "# x  = values_list[3] # this calls the x np.array from the list of values \n",
    "# print(x)\n",
    "# KN1D(x, xlimiter, xsep, GaugeH2, mu, Ti, Te, n, vxi, LC, PipeDia, \\\n",
    "#         truncate = 1.0e-3, refine = 0, File = '', NewFile = 0, ReadInput = 0, \\\n",
    "#         error = 0, compute_errors = 0, plot = 0, debug = 0, debreif = 0, pause = 0, \\\n",
    "#         Hplot = 0, Hdebug = 0, Hdebreif = 0, Hpause = 0, \\\n",
    "#         H2plot = 0, H2debug = 0, H2debreif = 0, H2pause = 0)\n",
    "#print(data_file['nH2'])\n",
    "for i in ['x','x_lim','x_sep','guageH2','mu','t_i','t_e','n_e','vx','lc','d_pipe']:\n",
    "    #print(i,':',data_file.get(i,50))\n",
    "    pass"
   ]
  },
  {
   "cell_type": "code",
   "execution_count": 11,
   "metadata": {},
   "outputs": [
    {
     "ename": "ValueError",
     "evalue": "operands could not be broadcast together with shapes (20,) (6,) ",
     "output_type": "error",
     "traceback": [
      "\u001b[1;31m---------------------------------------------------------------------------\u001b[0m",
      "\u001b[1;31mValueError\u001b[0m                                Traceback (most recent call last)",
      "Cell \u001b[1;32mIn[11], line 4\u001b[0m\n\u001b[0;32m      1\u001b[0m xH2, nH2, GammaxH2, TH2, qxH2_total, nHP, THP, SH, SP, \\\n\u001b[0;32m      2\u001b[0m                 xH, nH, GammaxH, TH, qxH_total, NetHSource, \\\n\u001b[0;32m      3\u001b[0m                     Sion, QH_total, SideWallH, Lyman, Balmer\u001b[38;5;241m=\u001b[39m\\\n\u001b[1;32m----> 4\u001b[0m                 \u001b[43mKN1D\u001b[49m\u001b[43m(\u001b[49m\u001b[43m \u001b[49m\u001b[43mdata_file\u001b[49m\u001b[43m[\u001b[49m\u001b[38;5;124;43m'\u001b[39;49m\u001b[38;5;124;43mx\u001b[39;49m\u001b[38;5;124;43m'\u001b[39;49m\u001b[43m]\u001b[49m\u001b[43m,\u001b[49m\u001b[43m \u001b[49m\u001b[43mdata_file\u001b[49m\u001b[43m[\u001b[49m\u001b[38;5;124;43m'\u001b[39;49m\u001b[38;5;124;43mx_lim\u001b[39;49m\u001b[38;5;124;43m'\u001b[39;49m\u001b[43m]\u001b[49m\u001b[43m,\u001b[49m\u001b[43m \u001b[49m\u001b[43mdata_file\u001b[49m\u001b[43m[\u001b[49m\u001b[38;5;124;43m'\u001b[39;49m\u001b[38;5;124;43mx_sep\u001b[39;49m\u001b[38;5;124;43m'\u001b[39;49m\u001b[43m]\u001b[49m\u001b[43m,\u001b[49m\u001b[43m \u001b[49m\u001b[43m\\\u001b[49m\n\u001b[0;32m      5\u001b[0m \u001b[43m                     \u001b[49m\u001b[43mdata_file\u001b[49m\u001b[43m[\u001b[49m\u001b[38;5;124;43m'\u001b[39;49m\u001b[38;5;124;43mp_wall\u001b[39;49m\u001b[38;5;124;43m'\u001b[39;49m\u001b[43m]\u001b[49m\u001b[43m,\u001b[49m\u001b[43m \u001b[49m\u001b[43mdata_file\u001b[49m\u001b[43m[\u001b[49m\u001b[38;5;124;43m'\u001b[39;49m\u001b[38;5;124;43mmu\u001b[39;49m\u001b[38;5;124;43m'\u001b[39;49m\u001b[43m]\u001b[49m\u001b[43m,\u001b[49m\u001b[43m \u001b[49m\u001b[43mdata_file\u001b[49m\u001b[43m[\u001b[49m\u001b[38;5;124;43m'\u001b[39;49m\u001b[38;5;124;43mt_i\u001b[39;49m\u001b[38;5;124;43m'\u001b[39;49m\u001b[43m]\u001b[49m\u001b[43m,\u001b[49m\u001b[43m \u001b[49m\u001b[43m\\\u001b[49m\n\u001b[0;32m      6\u001b[0m \u001b[43m                        \u001b[49m\u001b[43mdata_file\u001b[49m\u001b[43m[\u001b[49m\u001b[38;5;124;43m'\u001b[39;49m\u001b[38;5;124;43mt_e\u001b[39;49m\u001b[38;5;124;43m'\u001b[39;49m\u001b[43m]\u001b[49m\u001b[43m,\u001b[49m\u001b[43m \u001b[49m\u001b[43mdata_file\u001b[49m\u001b[43m[\u001b[49m\u001b[38;5;124;43m'\u001b[39;49m\u001b[38;5;124;43mn_e\u001b[39;49m\u001b[38;5;124;43m'\u001b[39;49m\u001b[43m]\u001b[49m\u001b[43m,\u001b[49m\u001b[43m \u001b[49m\u001b[43mdata_file\u001b[49m\u001b[43m[\u001b[49m\u001b[38;5;124;43m'\u001b[39;49m\u001b[38;5;124;43mvx\u001b[39;49m\u001b[38;5;124;43m'\u001b[39;49m\u001b[43m]\u001b[49m\u001b[43m,\u001b[49m\u001b[43m \u001b[49m\u001b[43m\\\u001b[49m\n\u001b[0;32m      7\u001b[0m \u001b[43m                            \u001b[49m\u001b[43mdata_file\u001b[49m\u001b[43m[\u001b[49m\u001b[38;5;124;43m'\u001b[39;49m\u001b[38;5;124;43mlc\u001b[39;49m\u001b[38;5;124;43m'\u001b[39;49m\u001b[43m]\u001b[49m\u001b[43m,\u001b[49m\u001b[43m \u001b[49m\u001b[43mdata_file\u001b[49m\u001b[43m[\u001b[49m\u001b[38;5;124;43m'\u001b[39;49m\u001b[38;5;124;43md_pipe\u001b[39;49m\u001b[38;5;124;43m'\u001b[39;49m\u001b[43m]\u001b[49m\u001b[43m)\u001b[49m\n",
      "File \u001b[1;32m~\\projects_git\\kn1d_gl2\\kn1d_python\\KN1D.py:449\u001b[0m, in \u001b[0;36mKN1D\u001b[1;34m(x, xlimiter, xsep, GaugeH2, mu, Ti, Te, n, vxi, LC, PipeDia, truncate, refine, File, NewFile, ReadInput, error, compute_errors, plot, debug, debrief, pause, Hplot, Hdebug, Hdebrief, Hpause, H2plot, H2debug, H2debrief, H2pause, adas_rec_h1s, adas_ion_h0, adas_qcx_h0)\u001b[0m\n\u001b[0;32m    447\u001b[0m \u001b[38;5;66;03m# Interpolate H2 data onto H mesh: fH2 -> fH2A, fSH -> fSHA, nHP -> nHPA, THP -> THPA\u001b[39;00m\n\u001b[0;32m    448\u001b[0m do_warn \u001b[38;5;241m=\u001b[39m \u001b[38;5;241m5.0E-3\u001b[39m\n\u001b[1;32m--> 449\u001b[0m fH2A \u001b[38;5;241m=\u001b[39m np\u001b[38;5;241m.\u001b[39mmaximum(\u001b[43minterp_fvrvxx\u001b[49m\u001b[43m(\u001b[49m\u001b[43mfH2\u001b[49m\u001b[43m,\u001b[49m\u001b[43mvrM\u001b[49m\u001b[43m,\u001b[49m\u001b[43mvxM\u001b[49m\u001b[43m,\u001b[49m\u001b[43mxH2\u001b[49m\u001b[43m,\u001b[49m\u001b[43mTnormM\u001b[49m\u001b[43m,\u001b[49m\u001b[43mvrA\u001b[49m\u001b[43m,\u001b[49m\u001b[43mvxA\u001b[49m\u001b[43m,\u001b[49m\u001b[43mxH\u001b[49m\u001b[43m,\u001b[49m\u001b[43mTnormA\u001b[49m\u001b[43m,\u001b[49m\u001b[43m \u001b[49m\u001b[43mdo_warn\u001b[49m\u001b[38;5;241;43m=\u001b[39;49m\u001b[43mdo_warn\u001b[49m\u001b[43m,\u001b[49m\u001b[43m \u001b[49m\u001b[43mdebug\u001b[49m\u001b[38;5;241;43m=\u001b[39;49m\u001b[43minterp_debug\u001b[49m\u001b[43m,\u001b[49m\u001b[43m \u001b[49m\u001b[43mg\u001b[49m\u001b[38;5;241;43m=\u001b[39;49m\u001b[43mg\u001b[49m\u001b[43m)\u001b[49m,\u001b[38;5;241m0\u001b[39m )\n\u001b[0;32m    450\u001b[0m fSHA \u001b[38;5;241m=\u001b[39m np\u001b[38;5;241m.\u001b[39mmaximum(interp_fvrvxx(fSH,vrM,vxM,xH2,TnormM,vrA,vxA,xH,TnormA, do_warn\u001b[38;5;241m=\u001b[39mdo_warn, debug\u001b[38;5;241m=\u001b[39minterp_debug, g\u001b[38;5;241m=\u001b[39mg) ,\u001b[38;5;241m0\u001b[39m)\n\u001b[0;32m    451\u001b[0m nHPA \u001b[38;5;241m=\u001b[39m interp_scalarx(nHP,xH2,xH, do_warn\u001b[38;5;241m=\u001b[39mdo_warn, debug\u001b[38;5;241m=\u001b[39minterp_debug) \n",
      "File \u001b[1;32m~\\projects_git\\kn1d_gl2\\kn1d_python\\interp_fvrvxx.py:120\u001b[0m, in \u001b[0;36minterp_fvrvxx\u001b[1;34m(fa, Vra, Vxa, Xa, Tnorma, Vrb, Vxb, Xb, Tnormb, do_warn, debug, correct, g)\u001b[0m\n\u001b[0;32m    117\u001b[0m w1_active\u001b[38;5;241m=\u001b[39m\u001b[38;5;241m1\u001b[39m\n\u001b[0;32m    118\u001b[0m test\u001b[38;5;241m=\u001b[39m\u001b[38;5;241m0\u001b[39m\n\u001b[1;32m--> 120\u001b[0m test\u001b[38;5;241m+\u001b[39m\u001b[38;5;241m=\u001b[39mvra1[\u001b[43mvra1\u001b[49m\u001b[38;5;241;43m!=\u001b[39;49m\u001b[43mVra\u001b[49m]\u001b[38;5;241m.\u001b[39msize\n\u001b[0;32m    121\u001b[0m test\u001b[38;5;241m+\u001b[39m\u001b[38;5;241m=\u001b[39mvxa1[vxa1\u001b[38;5;241m!=\u001b[39mVxa]\u001b[38;5;241m.\u001b[39msize\n\u001b[0;32m    123\u001b[0m test\u001b[38;5;241m+\u001b[39m\u001b[38;5;241m=\u001b[39mTnorma1[Tnorma1\u001b[38;5;241m!=\u001b[39mTnorma]\u001b[38;5;241m.\u001b[39msize\n",
      "\u001b[1;31mValueError\u001b[0m: operands could not be broadcast together with shapes (20,) (6,) "
     ]
    }
   ],
   "source": [
    "xH2, nH2, GammaxH2, TH2, qxH2_total, nHP, THP, SH, SP, \\\n",
    "                xH, nH, GammaxH, TH, qxH_total, NetHSource, \\\n",
    "                    Sion, QH_total, SideWallH, Lyman, Balmer=\\\n",
    "                KN1D( data_file['x'], data_file['x_lim'], data_file['x_sep'], \\\n",
    "                     data_file['p_wall'], data_file['mu'], data_file['t_i'], \\\n",
    "                        data_file['t_e'], data_file['n_e'], data_file['vx'], \\\n",
    "                            data_file['lc'], data_file['d_pipe'])"
   ]
  },
  {
   "cell_type": "code",
   "execution_count": 14,
   "metadata": {},
   "outputs": [],
   "source": [
    "#def KN1D(x, xlimiter, xsep, \\\n",
    "#         GaugeH2, mu, Ti, \\ --->  GaugeH2 == p_wall\n",
    "#         Te, n, vxi, \\\n",
    "#         LC, PipeDia, truncate = 1.0e-3, \\\n",
    "#         refine = 0, File = '', NewFile = 0, \\\n",
    "#         ReadInput = 0, error = 0, compute_errors = 0, \\\n",
    "#         plot = 0, debug = 0, debrief = 0, \\\n",
    "#         pause = 0, Hplot = 0, Hdebug = 0, \\\n",
    "#         Hdebrief = 0, Hpause = 0, H2plot = 0, \\\n",
    "#         H2debug = 0, H2debrief = 0, H2pause = 0, \\\n",
    "#         adas_rec_h1s=None, adas_ion_h0=None, adas_qcx_h0=None):  # deleted what i added before dont know what I was thinking?? - GG 2/19, corrected typos\n"
   ]
  },
  {
   "cell_type": "code",
   "execution_count": null,
   "metadata": {},
   "outputs": [],
   "source": [
    "####\n",
    "## inputs from files .sav\n",
    "##\n",
    "x = copy.copy() \n",
    "xlimiter = copy.copy() \n",
    "xsep = copy.copy()\n",
    "GaugeH2 = copy.copy() \n",
    "mu = copy.copy() \n",
    "Ti = copy.copy() \n",
    "Te = copy.copy() \n",
    "n = copy.copy() \n",
    "vxi = copy.copy() \n",
    "LC = copy.copy() \n",
    "PipeDia = copy.copy()\n",
    "####\n",
    "## By default \n",
    "##  \n",
    "truncate = 1.0e-3\n",
    "refine = 0, File = '', NewFile = 0\n",
    "ReadInput = 0, error = 0, compute_errors = 0\n",
    "plot = 0, debug = 0, debrief = 0\n",
    "pause = 0, Hplot = 0, Hdebug = 0\n",
    "Hdebrief = 0, Hpause = 0, H2plot = 0\n",
    "H2debug = 0, H2debrief = 0, H2pause = 0\n",
    "adas_rec_h1s=None, adas_ion_h0=None, adas_qcx_h0=None"
   ]
  }
 ],
 "metadata": {
  "kernelspec": {
   "display_name": "Python 3",
   "language": "python",
   "name": "python3"
  },
  "language_info": {
   "codemirror_mode": {
    "name": "ipython",
    "version": 3
   },
   "file_extension": ".py",
   "mimetype": "text/x-python",
   "name": "python",
   "nbconvert_exporter": "python",
   "pygments_lexer": "ipython3",
   "version": "3.12.4"
  }
 },
 "nbformat": 4,
 "nbformat_minor": 2
}
