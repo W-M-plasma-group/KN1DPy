{
 "cells": [
  {
   "cell_type": "code",
   "execution_count": 6,
   "metadata": {},
   "outputs": [],
   "source": [
    "#%run kn1d_test.py\n",
    "####\n",
    "## For python 3.12.4 is not running\n",
    "##\n",
    "####\n",
    "## For fixed the updates on the routines, a test with input files is performed\n",
    "##\n",
    "## --> Version on this ipynb is 3.12.4"
   ]
  },
  {
   "cell_type": "code",
   "execution_count": 9,
   "metadata": {},
   "outputs": [
    {
     "name": "stdout",
     "output_type": "stream",
     "text": [
      "test \n",
      "\n"
     ]
    }
   ],
   "source": [
    "from KN1D import KN1D\n",
    "import scipy.io as sio\n",
    "from scipy.io import readsav\n",
    "import numpy as np\n",
    "print('test','\\n')\n",
    "import matplotlib.pyplot as plt\n",
    "from scipy import interpolate\n",
    "import time\n",
    "\n",
    "#fileloc=\"C:\\\\Users\\\\nholl\\\\OneDrive\\\\Documents\\\\School Work\\\\Research Info\\\\ADAS Outputs\\\\\"\n",
    "\n",
    "testidl=True\n",
    "\n",
    "def read_sav(file_name):\n",
    "\n",
    "# This function will print the data from an IDL .sav file\n",
    "# Inputs:\n",
    "#   file name - the name of the .sav file\n",
    "# Outputs:\n",
    "#   sav_data - a dictionary containing all of the data\n",
    "    path = file_name\n",
    "    sav_data = readsav(path)\n",
    "    return sav_data\n",
    "\n",
    "fname='1090904024_950to1050'\n",
    "fname2='test_qcx_h0'\n",
    "#fname2='No_collisions'"
   ]
  },
  {
   "cell_type": "code",
   "execution_count": 10,
   "metadata": {},
   "outputs": [],
   "source": [
    "data_file = read_sav(fname+'.sav')\n",
    "\n",
    "keys = data_file.keys() # gets the keys from the dictionary  \n",
    "keys_list = list(keys)  # puts the keys into a list \n",
    "#print(keys_list)\n",
    "#print(keys_list[0])\n",
    "\n",
    "values = data_file.values() # gets the values from the dictionary \n",
    "values_list = list(values)  # puts the values into a list \n",
    "#print(values_list)\n",
    "#print('x', values_list[3])\n",
    "#print('xlim', values_list[4])\n",
    "#print('xsept', values_list[5])\n",
    "#print('GuageH2', 50)\n",
    "#print('mu', values_list[7])\n",
    "#print('vx', values_list[11])\n",
    "#print('LC', values_list[12])\n",
    "#print('PipeDia', values_list[13])\n",
    "#print(keys_list[3])\n",
    "#raise Exception('check')\n",
    "for i in keys_list:\n",
    "    #print(i,data_file[i])\n",
    "        pass\n",
    "\n",
    "#interpfunc=interpolate.interp1d(data_file['x'],data_file['n_e'])\n",
    "#x=np.linspace(data_file['x'][0],data_file['x'][-1],1000)\n",
    "\n",
    "#plt.plot(x,interpfunc(x))\n",
    "#plt.xlabel(r'Distance (m)')\n",
    "#plt.ylabel(r'Density (m$^{-3}$)')\n",
    "\n",
    "#plt.show()\n",
    "# x  = values_list[3] # this calls the x np.array from the list of values \n",
    "# print(x)\n",
    "# KN1D(x, xlimiter, xsep, GaugeH2, mu, Ti, Te, n, vxi, LC, PipeDia, \\\n",
    "#         truncate = 1.0e-3, refine = 0, File = '', NewFile = 0, ReadInput = 0, \\\n",
    "#         error = 0, compute_errors = 0, plot = 0, debug = 0, debreif = 0, pause = 0, \\\n",
    "#         Hplot = 0, Hdebug = 0, Hdebreif = 0, Hpause = 0, \\\n",
    "#         H2plot = 0, H2debug = 0, H2debreif = 0, H2pause = 0)\n",
    "#print(data_file['nH2'])\n",
    "for i in ['x','x_lim','x_sep','guageH2','mu','t_i','t_e','n_e','vx','lc','d_pipe']:\n",
    "    #print(i,':',data_file.get(i,50))\n",
    "    pass"
   ]
  },
  {
   "cell_type": "code",
   "execution_count": 11,
   "metadata": {},
   "outputs": [
    {
     "ename": "ValueError",
     "evalue": "operands could not be broadcast together with shapes (20,) (6,) ",
     "output_type": "error",
     "traceback": [
      "\u001b[1;31m---------------------------------------------------------------------------\u001b[0m",
      "\u001b[1;31mValueError\u001b[0m                                Traceback (most recent call last)",
      "Cell \u001b[1;32mIn[11], line 4\u001b[0m\n\u001b[0;32m      1\u001b[0m xH2, nH2, GammaxH2, TH2, qxH2_total, nHP, THP, SH, SP, \\\n\u001b[0;32m      2\u001b[0m                 xH, nH, GammaxH, TH, qxH_total, NetHSource, \\\n\u001b[0;32m      3\u001b[0m                     Sion, QH_total, SideWallH, Lyman, Balmer\u001b[38;5;241m=\u001b[39m\\\n\u001b[1;32m----> 4\u001b[0m                 \u001b[43mKN1D\u001b[49m\u001b[43m(\u001b[49m\u001b[43m \u001b[49m\u001b[43mdata_file\u001b[49m\u001b[43m[\u001b[49m\u001b[38;5;124;43m'\u001b[39;49m\u001b[38;5;124;43mx\u001b[39;49m\u001b[38;5;124;43m'\u001b[39;49m\u001b[43m]\u001b[49m\u001b[43m,\u001b[49m\u001b[43m \u001b[49m\u001b[43mdata_file\u001b[49m\u001b[43m[\u001b[49m\u001b[38;5;124;43m'\u001b[39;49m\u001b[38;5;124;43mx_lim\u001b[39;49m\u001b[38;5;124;43m'\u001b[39;49m\u001b[43m]\u001b[49m\u001b[43m,\u001b[49m\u001b[43m \u001b[49m\u001b[43mdata_file\u001b[49m\u001b[43m[\u001b[49m\u001b[38;5;124;43m'\u001b[39;49m\u001b[38;5;124;43mx_sep\u001b[39;49m\u001b[38;5;124;43m'\u001b[39;49m\u001b[43m]\u001b[49m\u001b[43m,\u001b[49m\u001b[43m \u001b[49m\u001b[43m\\\u001b[49m\n\u001b[0;32m      5\u001b[0m \u001b[43m                     \u001b[49m\u001b[43mdata_file\u001b[49m\u001b[43m[\u001b[49m\u001b[38;5;124;43m'\u001b[39;49m\u001b[38;5;124;43mp_wall\u001b[39;49m\u001b[38;5;124;43m'\u001b[39;49m\u001b[43m]\u001b[49m\u001b[43m,\u001b[49m\u001b[43m \u001b[49m\u001b[43mdata_file\u001b[49m\u001b[43m[\u001b[49m\u001b[38;5;124;43m'\u001b[39;49m\u001b[38;5;124;43mmu\u001b[39;49m\u001b[38;5;124;43m'\u001b[39;49m\u001b[43m]\u001b[49m\u001b[43m,\u001b[49m\u001b[43m \u001b[49m\u001b[43mdata_file\u001b[49m\u001b[43m[\u001b[49m\u001b[38;5;124;43m'\u001b[39;49m\u001b[38;5;124;43mt_i\u001b[39;49m\u001b[38;5;124;43m'\u001b[39;49m\u001b[43m]\u001b[49m\u001b[43m,\u001b[49m\u001b[43m \u001b[49m\u001b[43m\\\u001b[49m\n\u001b[0;32m      6\u001b[0m \u001b[43m                        \u001b[49m\u001b[43mdata_file\u001b[49m\u001b[43m[\u001b[49m\u001b[38;5;124;43m'\u001b[39;49m\u001b[38;5;124;43mt_e\u001b[39;49m\u001b[38;5;124;43m'\u001b[39;49m\u001b[43m]\u001b[49m\u001b[43m,\u001b[49m\u001b[43m \u001b[49m\u001b[43mdata_file\u001b[49m\u001b[43m[\u001b[49m\u001b[38;5;124;43m'\u001b[39;49m\u001b[38;5;124;43mn_e\u001b[39;49m\u001b[38;5;124;43m'\u001b[39;49m\u001b[43m]\u001b[49m\u001b[43m,\u001b[49m\u001b[43m \u001b[49m\u001b[43mdata_file\u001b[49m\u001b[43m[\u001b[49m\u001b[38;5;124;43m'\u001b[39;49m\u001b[38;5;124;43mvx\u001b[39;49m\u001b[38;5;124;43m'\u001b[39;49m\u001b[43m]\u001b[49m\u001b[43m,\u001b[49m\u001b[43m \u001b[49m\u001b[43m\\\u001b[49m\n\u001b[0;32m      7\u001b[0m \u001b[43m                            \u001b[49m\u001b[43mdata_file\u001b[49m\u001b[43m[\u001b[49m\u001b[38;5;124;43m'\u001b[39;49m\u001b[38;5;124;43mlc\u001b[39;49m\u001b[38;5;124;43m'\u001b[39;49m\u001b[43m]\u001b[49m\u001b[43m,\u001b[49m\u001b[43m \u001b[49m\u001b[43mdata_file\u001b[49m\u001b[43m[\u001b[49m\u001b[38;5;124;43m'\u001b[39;49m\u001b[38;5;124;43md_pipe\u001b[39;49m\u001b[38;5;124;43m'\u001b[39;49m\u001b[43m]\u001b[49m\u001b[43m)\u001b[49m\n",
      "File \u001b[1;32m~\\projects_git\\kn1d_gl2\\kn1d_python\\KN1D.py:449\u001b[0m, in \u001b[0;36mKN1D\u001b[1;34m(x, xlimiter, xsep, GaugeH2, mu, Ti, Te, n, vxi, LC, PipeDia, truncate, refine, File, NewFile, ReadInput, error, compute_errors, plot, debug, debrief, pause, Hplot, Hdebug, Hdebrief, Hpause, H2plot, H2debug, H2debrief, H2pause, adas_rec_h1s, adas_ion_h0, adas_qcx_h0)\u001b[0m\n\u001b[0;32m    447\u001b[0m \u001b[38;5;66;03m# Interpolate H2 data onto H mesh: fH2 -> fH2A, fSH -> fSHA, nHP -> nHPA, THP -> THPA\u001b[39;00m\n\u001b[0;32m    448\u001b[0m do_warn \u001b[38;5;241m=\u001b[39m \u001b[38;5;241m5.0E-3\u001b[39m\n\u001b[1;32m--> 449\u001b[0m fH2A \u001b[38;5;241m=\u001b[39m np\u001b[38;5;241m.\u001b[39mmaximum(\u001b[43minterp_fvrvxx\u001b[49m\u001b[43m(\u001b[49m\u001b[43mfH2\u001b[49m\u001b[43m,\u001b[49m\u001b[43mvrM\u001b[49m\u001b[43m,\u001b[49m\u001b[43mvxM\u001b[49m\u001b[43m,\u001b[49m\u001b[43mxH2\u001b[49m\u001b[43m,\u001b[49m\u001b[43mTnormM\u001b[49m\u001b[43m,\u001b[49m\u001b[43mvrA\u001b[49m\u001b[43m,\u001b[49m\u001b[43mvxA\u001b[49m\u001b[43m,\u001b[49m\u001b[43mxH\u001b[49m\u001b[43m,\u001b[49m\u001b[43mTnormA\u001b[49m\u001b[43m,\u001b[49m\u001b[43m \u001b[49m\u001b[43mdo_warn\u001b[49m\u001b[38;5;241;43m=\u001b[39;49m\u001b[43mdo_warn\u001b[49m\u001b[43m,\u001b[49m\u001b[43m \u001b[49m\u001b[43mdebug\u001b[49m\u001b[38;5;241;43m=\u001b[39;49m\u001b[43minterp_debug\u001b[49m\u001b[43m,\u001b[49m\u001b[43m \u001b[49m\u001b[43mg\u001b[49m\u001b[38;5;241;43m=\u001b[39;49m\u001b[43mg\u001b[49m\u001b[43m)\u001b[49m,\u001b[38;5;241m0\u001b[39m )\n\u001b[0;32m    450\u001b[0m fSHA \u001b[38;5;241m=\u001b[39m np\u001b[38;5;241m.\u001b[39mmaximum(interp_fvrvxx(fSH,vrM,vxM,xH2,TnormM,vrA,vxA,xH,TnormA, do_warn\u001b[38;5;241m=\u001b[39mdo_warn, debug\u001b[38;5;241m=\u001b[39minterp_debug, g\u001b[38;5;241m=\u001b[39mg) ,\u001b[38;5;241m0\u001b[39m)\n\u001b[0;32m    451\u001b[0m nHPA \u001b[38;5;241m=\u001b[39m interp_scalarx(nHP,xH2,xH, do_warn\u001b[38;5;241m=\u001b[39mdo_warn, debug\u001b[38;5;241m=\u001b[39minterp_debug) \n",
      "File \u001b[1;32m~\\projects_git\\kn1d_gl2\\kn1d_python\\interp_fvrvxx.py:120\u001b[0m, in \u001b[0;36minterp_fvrvxx\u001b[1;34m(fa, Vra, Vxa, Xa, Tnorma, Vrb, Vxb, Xb, Tnormb, do_warn, debug, correct, g)\u001b[0m\n\u001b[0;32m    117\u001b[0m w1_active\u001b[38;5;241m=\u001b[39m\u001b[38;5;241m1\u001b[39m\n\u001b[0;32m    118\u001b[0m test\u001b[38;5;241m=\u001b[39m\u001b[38;5;241m0\u001b[39m\n\u001b[1;32m--> 120\u001b[0m test\u001b[38;5;241m+\u001b[39m\u001b[38;5;241m=\u001b[39mvra1[\u001b[43mvra1\u001b[49m\u001b[38;5;241;43m!=\u001b[39;49m\u001b[43mVra\u001b[49m]\u001b[38;5;241m.\u001b[39msize\n\u001b[0;32m    121\u001b[0m test\u001b[38;5;241m+\u001b[39m\u001b[38;5;241m=\u001b[39mvxa1[vxa1\u001b[38;5;241m!=\u001b[39mVxa]\u001b[38;5;241m.\u001b[39msize\n\u001b[0;32m    123\u001b[0m test\u001b[38;5;241m+\u001b[39m\u001b[38;5;241m=\u001b[39mTnorma1[Tnorma1\u001b[38;5;241m!=\u001b[39mTnorma]\u001b[38;5;241m.\u001b[39msize\n",
      "\u001b[1;31mValueError\u001b[0m: operands could not be broadcast together with shapes (20,) (6,) "
     ]
    }
   ],
   "source": [
    "xH2, nH2, GammaxH2, TH2, qxH2_total, nHP, THP, SH, SP, \\\n",
    "                xH, nH, GammaxH, TH, qxH_total, NetHSource, \\\n",
    "                    Sion, QH_total, SideWallH, Lyman, Balmer=\\\n",
    "                KN1D( data_file['x'], data_file['x_lim'], data_file['x_sep'], \\\n",
    "                     data_file['p_wall'], data_file['mu'], data_file['t_i'], \\\n",
    "                        data_file['t_e'], data_file['n_e'], data_file['vx'], \\\n",
    "                            data_file['lc'], data_file['d_pipe'])"
   ]
  },
  {
   "cell_type": "code",
   "execution_count": 14,
   "metadata": {},
   "outputs": [],
   "source": [
    "#def KN1D(x, xlimiter, xsep, \\\n",
    "#         GaugeH2, mu, Ti, \\ --->  GaugeH2 == p_wall\n",
    "#         Te, n, vxi, \\\n",
    "#         LC, PipeDia, truncate = 1.0e-3, \\\n",
    "#         refine = 0, File = '', NewFile = 0, \\\n",
    "#         ReadInput = 0, error = 0, compute_errors = 0, \\\n",
    "#         plot = 0, debug = 0, debrief = 0, \\\n",
    "#         pause = 0, Hplot = 0, Hdebug = 0, \\\n",
    "#         Hdebrief = 0, Hpause = 0, H2plot = 0, \\\n",
    "#         H2debug = 0, H2debrief = 0, H2pause = 0, \\\n",
    "#         adas_rec_h1s=None, adas_ion_h0=None, adas_qcx_h0=None):  # deleted what i added before dont know what I was thinking?? - GG 2/19, corrected typos\n"
   ]
  },
  {
   "cell_type": "code",
   "execution_count": 15,
   "metadata": {},
   "outputs": [],
   "source": [
    "####\n",
    "## Libraries for KN1D\n",
    "##\n",
    "import numpy as np \n",
    "import os\n",
    "from scipy import interpolate\n",
    "\n",
    "from read import sav_read, nc_read\n",
    "from edit_keys import edit_keys\n",
    "from create_kinetic_h2_mesh import create_kinetic_h2_mesh\n",
    "from create_shifted_maxwellian import create_shifted_maxwellian # fixed function name - nh\n",
    "from integ_bl import integ_bl\n",
    "from Make_dVr_dVx import Make_dVr_dVx\n",
    "from sval import sval\n",
    "from interp_fvrvxx import interp_fvrvxx\n",
    "from create_kinetic_h_mesh import create_kinetic_h_mesh\n",
    "from kinetic_h import kinetic_h \n",
    "from kinetic_h2 import Kinetic_H2 \n",
    "from interp_scalarx import interp_scalarx \n",
    "from lyman_alpha import Lyman_Alpha\n",
    "from balmer_alpha import Balmer_Alpha \n",
    "\n",
    "from global_vars import mH, q, k_boltz, Twall\n",
    "from global_vars import global_vars\n",
    "\n",
    "import copy"
   ]
  },
  {
   "cell_type": "code",
   "execution_count": 16,
   "metadata": {},
   "outputs": [],
   "source": [
    "####\n",
    "## inputs from files .sav\n",
    "##\n",
    "#data_file['x'], data_file['x_lim'], data_file['x_sep'], \\\n",
    "#                     data_file['p_wall'], data_file['mu'], data_file['t_i'], \\\n",
    "#                        data_file['t_e'], data_file['n_e'], data_file['vx'], \\\n",
    "#                            data_file['lc'], data_file['d_pipe']\n",
    "##\n",
    "x = copy.copy(data_file['x']) \n",
    "xlimiter = copy.copy(data_file['x_lim']) \n",
    "xsep = copy.copy(data_file['x_sep'])\n",
    "GaugeH2 = copy.copy(data_file['p_wall']) \n",
    "mu = copy.copy(data_file['mu']) \n",
    "Ti = copy.copy(data_file['t_i']) \n",
    "Te = copy.copy(data_file['t_e']) \n",
    "n = copy.copy(data_file['n_e']) \n",
    "vxi = copy.copy(data_file['vx']) \n",
    "LC = copy.copy(data_file['lc']) \n",
    "PipeDia = copy.copy(data_file['d_pipe'])"
   ]
  },
  {
   "cell_type": "code",
   "execution_count": 17,
   "metadata": {},
   "outputs": [],
   "source": [
    "####\n",
    "## By default \n",
    "##  \n",
    "truncate = 1.0e-3\n",
    "refine = 0 \n",
    "File = '' \n",
    "NewFile = 0\n",
    "ReadInput = 0 \n",
    "error = 0 \n",
    "compute_errors = 0\n",
    "plot = 0 \n",
    "debug = 0 \n",
    "debrief = 0\n",
    "pause = 0 \n",
    "Hplot = 0 \n",
    "Hdebug = 0\n",
    "Hdebrief = 0 \n",
    "Hpause = 0 \n",
    "H2plot = 0\n",
    "H2debug = 0 \n",
    "H2debrief = 0 \n",
    "H2pause = 0\n",
    "adas_rec_h1s=None \n",
    "adas_ion_h0=None \n",
    "adas_qcx_h0=None"
   ]
  },
  {
   "cell_type": "code",
   "execution_count": 18,
   "metadata": {},
   "outputs": [],
   "source": [
    "g = global_vars() # moved global_vars decleration up"
   ]
  },
  {
   "cell_type": "code",
   "execution_count": 19,
   "metadata": {},
   "outputs": [],
   "source": [
    "# KN1D_Collisions common block - GG 2/15\n",
    "H2_H2_EL = g.KN1D_Collisions_H2_H2_EL # fixed typo - GG 2/19\n",
    "H2_P_EL = g.KN1D_Collisions_H2_P_EL\n",
    "H2_H_EL = g.KN1D_Collisions_H2_H_EL\n",
    "H2_HP_CX = g.KN1D_Collisions_H2_HP_CX\n",
    "H_H_EL = g.KN1D_Collisions_H_H_EL\n",
    "H_P_EL = g.KN1D_Collisions_H_P_EL\n",
    "H_P_CX = g.KN1D_Collisions_H_P_CX\n",
    "Simple_CX = g.KN1D_Collisions_Simple_CX"
   ]
  },
  {
   "cell_type": "code",
   "execution_count": 20,
   "metadata": {},
   "outputs": [],
   "source": [
    "prompt = 'KN1D => '"
   ]
  },
  {
   "cell_type": "code",
   "execution_count": 21,
   "metadata": {},
   "outputs": [],
   "source": [
    "#   KN1D_internal common block - GG 2/15\n",
    "fH_s = g.KN1D_internal_fH_s\n",
    "fH2_s = g.KN1D_internal_fH2_s\n",
    "nH2_s = g.KN1D_internal_nH2_s\n",
    "SpH2_s = g.KN1D_internal_SpH2_s\n",
    "nHP_s = g.KN1D_internal_nHP_s\n",
    "THP_s = g.KN1D_internal_THP_s"
   ]
  },
  {
   "cell_type": "code",
   "execution_count": 22,
   "metadata": {},
   "outputs": [],
   "source": [
    "# Set defaults - GG - 2/15\n",
    "interp_debug = 0 \n",
    "max_gen = 100\n",
    "error = 1 # This i think should be moved to the keyword in the call line"
   ]
  },
  {
   "cell_type": "code",
   "execution_count": 23,
   "metadata": {},
   "outputs": [],
   "source": [
    "# Option: Read input parameters stored in file from previous run\n",
    "if ReadInput: \n",
    "    input = File\n",
    "    fp = os.path.exists(input)\n",
    "    if fp:\n",
    "        if debrief:\n",
    "            print(prompt, ' Reading input variables stored in ', input)\n",
    "            if File[ len(File) - 4 : len(File) ] == '.sav':\n",
    "                input_dict = sav_read(File, '//Users/Gwen/Desktop/test.nc')\n",
    "            elif File[ len(File) - 3 : len(File)]=='.nc': # fixed typo\n",
    "                input_dict = nc_read(File)\n",
    "            else: \n",
    "                if debug:\n",
    "                    print(prompt, ' Error reading the file') # may be missing some statements \n",
    "                    print(prompt, ' finished')\n",
    "                    # Press_return\n",
    "#                    return \n",
    "    else:\n",
    "        try:\n",
    "            input_dict=sav_read(File+'.KN1D_input',File+'_asnetcdf.nc') # allows for old-style inputs, might be removed later - nh\n",
    "        except:\n",
    "            print(prompt, 'Error reading the file')\n",
    "            if debug:\n",
    "                print(prompt, ' Finished ')\n",
    "#                return \n",
    "    # edit keys for C-Mod Files \n",
    "    edit_keys(input_dict) # Not sure if we need this in the final code - not sure the C-Mod files are really intended to be used as inputs - nh\n",
    "    \n",
    "    #for i in ['xH2','TiM','TeM','nM','PipeDiaM','vxM','vrM','TnormM','xH','TiA','TeA','nA','PipeDiaA','vxA','vrA','TnormA']:\n",
    "    #    globals()[i]=input_dict[i.lower()] # Takes entries from input_dict and defines them as variables \n",
    "        #   slightly messy, but should solve comment below - nh\n",
    "    # i think in the end we will have to use the dictionary to manually define the variables\n",
    "else:\n",
    "    # determine optimized vr, vx, grid for kinetc_h2 (molecules, M)\n",
    "    nv = 6\n",
    "    Eneut = np.array([0.003,0.01,0.03,0.1,0.3,1.0,3.0])\n",
    "    fctr = 0.3\n",
    "    if GaugeH2 > 15.0:\n",
    "        fctr = fctr * 15 / GaugeH2\n",
    "    xH2,TiM,TeM,nM,PipeDiaM,vxM,vrM,TnormM = create_kinetic_h2_mesh(nv, mu, x, Ti, Te, n, PipeDia, E0 = Eneut, ixE0 = 0 ,irE0 = 0,fctr = fctr) # replaced function inputs, split output list into variables - nh // fixed keyword inputs - GG\n",
    "    \n",
    "    # determine optimized vr, vx grid for kinetic_h (atoms, A)\n",
    "    nv = 10\n",
    "    fctr = 0.3\n",
    "    if GaugeH2 > 30.0 :\n",
    "        fctr = fctr * 30 / GaugeH2\n",
    "    xH,TiA,TeA,nA,PipeDiaA,vxA,vrA,TnormA= create_kinetic_h_mesh(nv,mu,x,Ti,Te,n,PipeDia, E0 = 0, ixE0 = 0 ,irE0 = 0,fctr = fctr, g=g) # finished line since create_kinetic_h_mesh has been programmed - nh // fixed capitalization - GG // fixed keyword inputs - GG\n",
    "    \n",
    "if mu==1:\n",
    "    _p='H!U+!N'\n",
    "    _H='H!U0!N'\n",
    "    _H1s='H(1s)'\n",
    "    _Hs='H!U*!N(2s)'\n",
    "    _Hp='H!U*!N(2p)'\n",
    "    _Hn2='H!U*!N(n=2)'\n",
    "    _Hn3='H!U*!N(n=3)'\n",
    "    _Hn='H!U*!N(n>=2)'\n",
    "    _HH='H!D2!N'\n",
    "    _Hp='H!D2!U+!N'\n",
    "else:\n",
    "    _p='D!U+!N'\n",
    "    _H='D!U0!N'\n",
    "    _H1s='D(1s)'\n",
    "    _Hs='D!U*!N(2s)'\n",
    "    _Hp='D!U*!N(2p)'\n",
    "    _Hn2='D!U*!N(n=2)'\n",
    "    _Hn3='D!U*!N(n=3)'\n",
    "    _Hn='D!U*!N(n>=2)'\n",
    "    _HH='D!D2!N'\n",
    "    _Hp='D!D2!U+!N'\n",
    "\n",
    "plus=' + '\n",
    "arrow=' -> '\n",
    "elastic=' (elastic)'\n",
    "_e='e!U-!N'\n",
    "_hv='hv'\n",
    "\n",
    "v0_bar=np.sqrt(8.0*Twall*q/(np.pi*2*mu*mH))"
   ]
  },
  {
   "cell_type": "code",
   "execution_count": 24,
   "metadata": {},
   "outputs": [],
   "source": [
    "#   Set up molecular flux BC from inputted neutral pressure\n",
    "\n",
    "ipM=(vxM>0).nonzero()[0]\n",
    "inM=(vxM<0).nonzero()[0]\n",
    "nvrM=vrM.size\n",
    "nvxM=vxM.size\n",
    "nxH2=xH2.size\n",
    "        \n",
    "#   Code below uses variables defined in create_kinetic_h_mesh\n",
    "        \n",
    "ipA=(vxA>0).nonzero()[0]\n",
    "inA=(vxA<0).nonzero()[0]\n",
    "nvrA=vrA.size\n",
    "nvxA=vxA.size\n",
    "nxH=xH.size"
   ]
  },
  {
   "cell_type": "code",
   "execution_count": 28,
   "metadata": {},
   "outputs": [
    {
     "data": {
      "text/plain": [
       "20"
      ]
     },
     "execution_count": 28,
     "metadata": {},
     "output_type": "execute_result"
    }
   ],
   "source": [
    "nvrA"
   ]
  },
  {
   "cell_type": "code",
   "execution_count": 29,
   "metadata": {},
   "outputs": [
    {
     "data": {
      "text/plain": [
       "40"
      ]
     },
     "execution_count": 29,
     "metadata": {},
     "output_type": "execute_result"
    }
   ],
   "source": [
    "nvxA"
   ]
  },
  {
   "cell_type": "code",
   "execution_count": 30,
   "metadata": {},
   "outputs": [
    {
     "data": {
      "text/plain": [
       "145"
      ]
     },
     "execution_count": 30,
     "metadata": {},
     "output_type": "execute_result"
    }
   ],
   "source": [
    "nxH"
   ]
  },
  {
   "cell_type": "code",
   "execution_count": 31,
   "metadata": {},
   "outputs": [],
   "source": [
    "#  Code blocks below use common block variables, should be filled in later\n",
    "#  Initialize fH and fH2 (these may be over-written by data from and old run below)\n",
    "        \n",
    "if refine: # sets values to previously computed values, maybe we wont do this at least not necessary now - GG\n",
    "    if fH_s == None: # updated it via common block - GG 2/15\n",
    "        fH = np.zeros((nvrA,nvxA,nxH)).T\n",
    "    else:\n",
    "        fH = fH_s\n",
    "    if fH2_s == None: \n",
    "        fH2 = np.zeros((nvrM,nvxM,nxH2)).T\n",
    "    else:\n",
    "        fH2 = fH2_s\n",
    "    if nH2_s == None:\n",
    "        nH2 = np.zeros(nxH2)\n",
    "    else:\n",
    "        nH2 = nH2_s\n",
    "    if nHP_s == None:\n",
    "        nHP = np.zeros(nxH2)\n",
    "    else:\n",
    "        nHP = nHP_s\n",
    "    if THP_s == None:\n",
    "        THP = np.zeros(nxH2)\n",
    "    else:\n",
    "        THP = THP_s\n",
    "else:\n",
    "    fH = np.zeros((nvrA,nvxA,nxH)).T\n",
    "    fH2 = np.zeros((nvrM,nvxM,nxH2)).T\n",
    "    nH2 = np.zeros(nxH2)\n",
    "    nHP = np.zeros(nxH2)\n",
    "    THP = np.zeros(nxH2)\n",
    "         \n",
    "#   Convert pressure (mtorr) to molecular density and flux\n",
    "\n",
    "fh2BC=np.zeros((nvxM,nvrM)) # fixed mistake in defining the array - GG\n",
    "DensM=3.537e19*GaugeH2\n",
    "GammaxH2BC=0.25*DensM*v0_bar\n",
    "Tmaxwell=np.full(nvxM, Twall) # changed list to numpy array \n",
    "vx_shift=np.zeros(nvxM) # fixed size of arrays, its unclear in the original code if this is whats supposed to be done but the for loop in create shifted_maxwellian_include wont owrk otherwise - G\n",
    "mol=2\n",
    "Maxwell=create_shifted_maxwellian(vrM,vxM,Tmaxwell,vx_shift,mu,mol,TnormM)\n",
    "fh2BC[ipM]=Maxwell[0,ipM] # fixed indexing - GG\n",
    "\n",
    "# Compute NuLoss:\n",
    "    # NuLoss = Cs/LC\n",
    "Cs_LC=np.zeros(LC.size)\n",
    "for ii in range(LC.size):\n",
    "    if LC[ii]>0:\n",
    "        Cs_LC[ii]=np.sqrt(q*(Ti[ii]+Te[ii])/(mu*mH))/LC[ii] # fixed notation of indexing arrays - GG\n",
    "interpfunc = interpolate.interp1d(x,Cs_LC) # fixed the way interpolation was called - GG\n",
    "NuLoss = interpfunc(xH2)"
   ]
  },
  {
   "cell_type": "code",
   "execution_count": 32,
   "metadata": {},
   "outputs": [],
   "source": [
    "#  Compute first guess SpH2\n",
    "\n",
    "#   If plasma recycling accounts for molecular source, then SpH2 = 1/2 n Cs/LC (1/2 accounts for H2 versus H)\n",
    "#   But, allow for SpH2 to be proportional to this function:\n",
    "#      SpH2 = beta n Cs/LC \n",
    "#   with beta being an adjustable parameter, set by achieving a net H flux of zero onto the wall.\n",
    "#   For first guess of beta, set the total molecular source according to the formula\n",
    "        \n",
    "# (See notes \"Procedure to adjust the normalization of the molecular source at the \n",
    "#   limiters (SpH2) to attain a net zero atom/molecule flux from wall\")\n",
    "        \n",
    "#\tIntegral{SpH2}dx =  (2/3) GammaxH2BC = beta Integral{n Cs/LC}dx\n",
    "        \n",
    "nCs_LC=n*Cs_LC\n",
    "\n",
    "interpfunc = interpolate.interp1d(x,nCs_LC,fill_value=\"extrapolate\",bounds_error=False) # fixed the way interpolation was called - GG\n",
    "SpH2_hat=interpfunc(xH2)\n",
    "\n",
    "SpH2_hat=SpH2_hat/integ_bl(xH2,SpH2_hat,value_only=1) # not sure if this line is correct\n",
    "beta=2/3*GammaxH2BC\n",
    "if refine: # readded this section now that we have the internal common block called - GG 2/15\n",
    "    if SpH2_s!=None:\n",
    "        SpH2=SpH2_s # from kn1d_internal common block\n",
    "    else:\n",
    "        SpH2=beta*SpH2_hat\n",
    "else:\n",
    "    SpH2=beta*SpH2_hat\n",
    "SH2=copy.deepcopy(SpH2)\n",
    "\n",
    "#   Interpolate for vxiM and vxiA\n",
    "\n",
    "interpfunc = interpolate.interp1d(x,vxi,fill_value=\"extrapolate\")\n",
    "vxiM = interpfunc(xH2)\n",
    "\n",
    "interpfunc = interpolate.interp1d(x,vxi,fill_value=\"extrapolate\")\n",
    "vxiA = interpfunc(xH)\n",
    "\n",
    "iter=0\n",
    "EH_hist=np.array([0.0])\n",
    "SI_hist=np.array([0.0])\n",
    "oldrun=0"
   ]
  },
  {
   "cell_type": "code",
   "execution_count": 33,
   "metadata": {},
   "outputs": [],
   "source": [
    "#   Option: Read results from previous run\n",
    "\n",
    "    #   Will do later after discussing save/restore\n",
    "\n",
    "#   Starting back at line 378 from IDL code\n",
    "#   Test for v0_bar consistency in the numerics by computing it from a half maxwellian at the wall temperature\n",
    "\n",
    "vthM=np.sqrt(2*q*TnormM/(mu*mH))\n",
    "Vr2pidVrM,VrVr4pidVrM,dVxM=Make_dVr_dVx(vrM,vxM)[0:3]\n",
    "vthA=np.sqrt(2*q*TnormA/(mu*mH))\n",
    "Vr2pidVrA,VrVr4pidVrA,dVxA=Make_dVr_dVx(vrA,vxA)[0:3]\n",
    "\n",
    "nbarHMax=np.sum(Vr2pidVrM*np.matmul(dVxM,fh2BC))\n",
    "vbarM=2*vthM*np.sum(Vr2pidVrM*np.matmul(vxM*dVxM,fh2BC))/nbarHMax\n",
    "vbarM_error=abs(vbarM-v0_bar)/max(vbarM,v0_bar)\n",
    "\n",
    "nvrM=vrM.size\n",
    "nvxM=vxM.size\n",
    "vr2vx2_ran2=np.zeros((nvrM,nvxM)).T # fixed indexing - GG\n",
    "\n",
    "mwell=Maxwell[0,:,:] #  variable named 'Max' in original code; changed here to avoid sharing name with built in function\n",
    "\n",
    "nbarMax=np.sum(Vr2pidVrM*np.matmul(dVxM,mwell))\n",
    "UxMax=vthM*np.sum(Vr2pidVrM*np.matmul(vxM*dVxM,mwell))/nbarMax\n",
    "for i in range(nvrM):\n",
    "    vr2vx2_ran2[:,i]=vrM[i]**2+(vxM-UxMax/vthM)**2\n",
    "TMax=2*mu*mH*vthM**2*np.sum(Vr2pidVrM*np.matmul(dVxM,vr2vx2_ran2*mwell))/(3*q*nbarMax)\n",
    "\n",
    "UxHMax=vthM*np.sum(Vr2pidVrM*np.matmul(vxM*dVxM,fh2BC))/nbarHMax\n",
    "for i in range(nvrM):\n",
    "    vr2vx2_ran2[:,i]=vrM[i]**2+(vxM-UxHMax/vthM)**2\n",
    "THMax=(2*mu*mH)*vthM**2*np.sum(Vr2pidVrM*np.matmul(dVxM,vr2vx2_ran2*fh2BC))/(3*q*nbarHMax)\n",
    "\n",
    "if compute_errors and debrief:\n",
    "    print(prompt+'VbarM_error: '+sval(vbarM_error))\n",
    "    print(prompt+'TWall Maxwellian: '+sval(TMax))\n",
    "    print(prompt+'TWall Half Maxwellian: '+sval(THMax))"
   ]
  },
  {
   "cell_type": "code",
   "execution_count": 34,
   "metadata": {},
   "outputs": [],
   "source": [
    "#   Option to view inputted profiles\n",
    "\n",
    "    #   Plotting - will maybe add later\n",
    "\n",
    "#   Starting back at line 429 from IDL code\n",
    "            \n",
    "if oldrun:\n",
    "    # checks if the previous run satisfies the required conditions \n",
    "    if debrief: \n",
    "        print(prompt, 'Maximum Normalized change in nH2: ', sval(nDelta_nH2))\n",
    "#    if debrief and pause: \n",
    "        # press_return \n",
    "#        return\n",
    "    if nDelta_nH2 > truncate: # --> verifies after a first run in the original code\n",
    "        # goto fH_fH2_iterate I think we will have to make fH_fH2_iterate a function \n",
    "        # since we wont be reading old runs right now I am going to leave this as is \n",
    "        pass\n",
    "else:\n",
    "    #   Entry point for fH_fH2 iteration : iterates through solving fh and fh2 until they satisfy boltzmans equation\n",
    "    nDelta_nH2 = truncate + 1\n",
    "    ##while nDelta_nH2 > truncate: # Used goto statements in IDL; changed here to while loop\n",
    "    ##    if debrief: \n",
    "    ##        print(prompt, 'Maximum Normalized change in nH2: ', sval(nDelta_nH2))\n",
    "    ##    if debrief and pause: \n",
    "            # press_return\n",
    "    ##        pass\n",
    "\n",
    "        # iter+=1 I dont think this line is necessary \n",
    "    ##    if debrief:\n",
    "    ##        print(prompt+'fH/fH2 Iteration: '+sval(iter))\n",
    "    ##    nH2s = copy.deepcopy(nH2)"
   ]
  },
  {
   "cell_type": "code",
   "execution_count": 35,
   "metadata": {},
   "outputs": [],
   "source": [
    "# interpolate fH data onto H2 mesh: fH -> fHM\n",
    "do_warn=5e-3\n",
    "fHM=np.maximum(interp_fvrvxx(fH,vrA,vxA,xH,TnormA,vrM,vxM,xH2,TnormM,do_warn=do_warn, debug=interp_debug, g=g) ,0)\n",
    "\n",
    "# Compute fH2 using Kinetic_H2\n",
    "ni_correct=1\n",
    "Compute_H_Source=1\n",
    "H2compute_errors=compute_errors and H2debrief # is this accurate, how can it be equal to both? - GG 2/15\n",
    "fH2, nHP, THP, nH2, GammaxH2, VxH2, pH2, TH2, qxH2, qxH2_total, Sloss, \\\n",
    "    QH2, RxH2, QH2_total, AlbedoH2, WallH2, fSH, SH, SP, SHP, NuE, NuDis, ESH, Eaxis, error = Kinetic_H2(\\\n",
    "        vxM, vrM, xH2, TnormM, mu, TiM, TeM, nM, vxiM, fh2BC, GammaxH2BC, NuLoss, PipeDiaM, fHM, SH2, fH2, nH2, THP, \\\n",
    "        truncate=truncate, Simple_CX=Simple_CX, Max_Gen=max_gen, Compute_H_Source=Compute_H_Source,\\\n",
    "        H2_H2_EL=H2_H2_EL,H2_P_EL=H2_P_EL,H2_H_EL=H2_H_EL,H2_HP_CX=H2_HP_CX, ni_correct=ni_correct,\\\n",
    "        Compute_Errors=H2compute_errors, plot=H2plot,debug=H2debug,debrief=H2debrief,pause=H2pause, g=g) # fixed inputs - GG 2/26\n",
    "\n",
    "# Kinetic_H2_Ouput common block- GG 2/15\n",
    "piH2_xx = g.Kinetic_H2_Output_piH2_xx\n",
    "piH2_yy = g.Kinetic_H2_Output_piH2_yy\n",
    "piH2_zz = g.Kinetic_H2_Output_piH2_zz\n",
    "RxH2CX = g.Kinetic_H2_Output_RxH2CX\n",
    "RxH_H2 = g.Kinetic_H2_Output_RxH_H2\n",
    "RxP_H2 = g.Kinetic_H2_Output_RxP_H2\n",
    "RxW_H2 = g.Kinetic_H2_Output_RxW_H2\n",
    "EH2CX = g.Kinetic_H2_Output_EH2CX\n",
    "EH_H2 = g.Kinetic_H2_Output_EH_H2\n",
    "EP_H2 = g.Kinetic_H2_Output_EP_H2\n",
    "EW_H2 = g.Kinetic_H2_Output_EW_H2\n",
    "Epara_PerpH2_H2 = g.Kinetic_H2_Output_Epara_PerpH2_H2       \n",
    "\n",
    "# kinetic_h2_moments common block - GG 2/15\n",
    "nHM = g.Kinetic_H2_H_moments_nH\n",
    "VxHM = g.Kinetic_H2_H_moments_VxH\n",
    "THM = g.Kinetic_H2_H_moments_TH\n",
    "\n",
    "# Interpolate H2 data onto H mesh: fH2 -> fH2A, fSH -> fSHA, nHP -> nHPA, THP -> THPA\n",
    "do_warn = 5.0E-3\n"
   ]
  },
  {
   "cell_type": "code",
   "execution_count": 50,
   "metadata": {},
   "outputs": [
    {
     "data": {
      "text/plain": [
       "array([[[2.94515433e+14, 2.94501205e+14, 2.94481790e+14, 2.94463161e+14,\n",
       "         2.94449661e+14, 2.94442006e+14],\n",
       "        [3.61686261e+14, 3.61618434e+14, 3.61526351e+14, 3.61438821e+14,\n",
       "         3.61376613e+14, 3.61342965e+14],\n",
       "        [4.62395081e+14, 4.62131262e+14, 4.61777255e+14, 4.61443343e+14,\n",
       "         4.61208053e+14, 4.61082948e+14],\n",
       "        [6.29253128e+14, 6.28267600e+14, 6.27081250e+14, 6.26003727e+14,\n",
       "         6.25251503e+14, 6.24854850e+14],\n",
       "        [9.57151119e+14, 9.51893000e+14, 9.47798561e+14, 9.44620851e+14,\n",
       "         9.42450752e+14, 9.41312214e+14],\n",
       "        [1.87264942e+15, 1.83720645e+15, 1.82086113e+15, 1.81100317e+15,\n",
       "         1.80446126e+15, 1.80103210e+15],\n",
       "        [1.63521212e+15, 1.63521212e+15, 1.63521212e+15, 1.63521212e+15,\n",
       "         1.63521212e+15, 1.63521212e+15],\n",
       "        [1.63521212e+15, 1.63521212e+15, 1.63521212e+15, 1.63521212e+15,\n",
       "         1.63521212e+15, 1.63521212e+15],\n",
       "        [1.63521212e+15, 1.63521212e+15, 1.63521212e+15, 1.63521212e+15,\n",
       "         1.63521212e+15, 1.63521212e+15],\n",
       "        [1.63521212e+15, 1.63521212e+15, 1.63521212e+15, 1.63521212e+15,\n",
       "         1.63521212e+15, 1.63521212e+15],\n",
       "        [1.63521212e+15, 1.63521212e+15, 1.63521212e+15, 1.63521212e+15,\n",
       "         1.63521212e+15, 1.63521212e+15],\n",
       "        [1.63521212e+15, 1.63521212e+15, 1.63521212e+15, 1.63521212e+15,\n",
       "         1.63521212e+15, 1.63521212e+15]],\n",
       "\n",
       "       [[2.92367863e+14, 2.92353846e+14, 2.92334731e+14, 2.92316405e+14,\n",
       "         2.92303151e+14, 2.92295666e+14],\n",
       "        [3.59056801e+14, 3.58989797e+14, 3.58898858e+14, 3.58812463e+14,\n",
       "         3.58751126e+14, 3.58718019e+14],\n",
       "        [4.59048756e+14, 4.58787597e+14, 4.58437265e+14, 4.58106961e+14,\n",
       "         4.57874381e+14, 4.57750882e+14],\n",
       "        [6.24737310e+14, 6.23759965e+14, 6.22583817e+14, 6.21516166e+14,\n",
       "         6.20771289e+14, 6.20378913e+14],\n",
       "        [9.50351720e+14, 9.45182966e+14, 9.41122238e+14, 9.37969222e+14,\n",
       "         9.35817392e+14, 9.34689466e+14],\n",
       "        [1.85896024e+15, 1.82485459e+15, 1.80872989e+15, 1.79893766e+15,\n",
       "         1.79244338e+15, 1.78904253e+15],\n",
       "        [1.64943793e+15, 1.64801591e+15, 1.64773711e+15, 1.64762590e+15,\n",
       "         1.64754621e+15, 1.64750054e+15],\n",
       "        [1.64145149e+15, 1.64134066e+15, 1.64128011e+15, 1.64122987e+15,\n",
       "         1.64119282e+15, 1.64117153e+15],\n",
       "        [1.63917231e+15, 1.63915165e+15, 1.63912426e+15, 1.63909757e+15,\n",
       "         1.63907773e+15, 1.63906625e+15],\n",
       "        [1.63807106e+15, 1.63806115e+15, 1.63804742e+15, 1.63803394e+15,\n",
       "         1.63802384e+15, 1.63801789e+15],\n",
       "        [1.63741630e+15, 1.63741194e+15, 1.63740588e+15, 1.63739987e+15,\n",
       "         1.63739531e+15, 1.63739252e+15],\n",
       "        [1.63698780e+15, 1.63698618e+15, 1.63698392e+15, 1.63698164e+15,\n",
       "         1.63697985e+15, 1.63697867e+15]],\n",
       "\n",
       "       [[2.55956166e+14, 2.55945153e+14, 2.55930197e+14, 2.55915971e+14,\n",
       "         2.55905819e+14, 2.55900228e+14],\n",
       "        [3.14436456e+14, 3.14381894e+14, 3.14308085e+14, 3.14238361e+14,\n",
       "         3.14189320e+14, 3.14163270e+14],\n",
       "        [4.02188816e+14, 4.01969617e+14, 4.01676850e+14, 4.01402266e+14,\n",
       "         4.01210386e+14, 4.01109732e+14],\n",
       "        [5.47834739e+14, 5.46981867e+14, 5.45969777e+14, 5.45060099e+14,\n",
       "         5.44430172e+14, 5.44101790e+14],\n",
       "        [8.34808558e+14, 8.30407000e+14, 8.26816833e+14, 8.24068624e+14,\n",
       "         8.22211159e+14, 8.21247044e+14],\n",
       "        [1.63673686e+15, 1.61183813e+15, 1.59777951e+15, 1.58906572e+15,\n",
       "         1.58335638e+15, 1.58039768e+15],\n",
       "        [1.86974600e+15, 1.85815122e+15, 1.85489603e+15, 1.85296019e+15,\n",
       "         1.85157359e+15, 1.85080533e+15],\n",
       "        [1.74521804e+15, 1.74396822e+15, 1.74295809e+15, 1.74204976e+15,\n",
       "         1.74139081e+15, 1.74102543e+15],\n",
       "        [1.70584738e+15, 1.70547217e+15, 1.70496582e+15, 1.70447678e+15,\n",
       "         1.70412075e+15, 1.70392269e+15],\n",
       "        [1.68630861e+15, 1.68612256e+15, 1.68586678e+15, 1.68561884e+15,\n",
       "         1.68543772e+15, 1.68533623e+15],\n",
       "        [1.67464408e+15, 1.67456237e+15, 1.67444985e+15, 1.67434043e+15,\n",
       "         1.67425996e+15, 1.67421412e+15],\n",
       "        [1.66699847e+15, 1.66696876e+15, 1.66692771e+15, 1.66688750e+15,\n",
       "         1.66685744e+15, 1.66683961e+15]],\n",
       "\n",
       "       [[1.14254334e+14, 1.14248978e+14, 1.14241753e+14, 1.14234960e+14,\n",
       "         1.14230202e+14, 1.14227665e+14],\n",
       "        [1.40418079e+14, 1.40389759e+14, 1.40351680e+14, 1.40316064e+14,\n",
       "         1.40291389e+14, 1.40278586e+14],\n",
       "        [1.79772111e+14, 1.79651009e+14, 1.79490902e+14, 1.79342386e+14,\n",
       "         1.79240056e+14, 1.79187454e+14],\n",
       "        [2.45419821e+14, 2.44909001e+14, 2.44319098e+14, 2.43800313e+14,\n",
       "         2.43446722e+14, 2.43265903e+14],\n",
       "        [3.75987152e+14, 3.73317337e+14, 3.71089974e+14, 3.69434791e+14,\n",
       "         3.68339603e+14, 3.67782158e+14],\n",
       "        [7.44699361e+14, 7.31157997e+14, 7.22155011e+14, 7.16546802e+14,\n",
       "         7.12964525e+14, 7.11147930e+14],\n",
       "        [2.51694962e+15, 2.49335666e+15, 2.48268746e+15, 2.47549692e+15,\n",
       "         2.47051430e+15, 2.46783726e+15],\n",
       "        [2.08478682e+15, 2.08045593e+15, 2.07625479e+15, 2.07253994e+15,\n",
       "         2.06991445e+15, 2.06850464e+15],\n",
       "        [1.93078454e+15, 1.92909494e+15, 1.92685027e+15, 1.92472372e+15,\n",
       "         1.92321159e+15, 1.92239884e+15],\n",
       "        [1.85135629e+15, 1.85048098e+15, 1.84929005e+15, 1.84815444e+15,\n",
       "         1.84734540e+15, 1.84690920e+15],\n",
       "        [1.80302349e+15, 1.80262149e+15, 1.80207378e+15, 1.80155069e+15,\n",
       "         1.80117690e+15, 1.80097376e+15],\n",
       "        [1.77097270e+15, 1.77082129e+15, 1.77061469e+15, 1.77041673e+15,\n",
       "         1.77027418e+15, 1.77019505e+15]],\n",
       "\n",
       "       [[0.00000000e+00, 0.00000000e+00, 0.00000000e+00, 0.00000000e+00,\n",
       "         0.00000000e+00, 0.00000000e+00],\n",
       "        [0.00000000e+00, 0.00000000e+00, 0.00000000e+00, 0.00000000e+00,\n",
       "         0.00000000e+00, 0.00000000e+00],\n",
       "        [0.00000000e+00, 0.00000000e+00, 0.00000000e+00, 0.00000000e+00,\n",
       "         0.00000000e+00, 0.00000000e+00],\n",
       "        [0.00000000e+00, 0.00000000e+00, 0.00000000e+00, 0.00000000e+00,\n",
       "         0.00000000e+00, 0.00000000e+00],\n",
       "        [0.00000000e+00, 0.00000000e+00, 0.00000000e+00, 0.00000000e+00,\n",
       "         0.00000000e+00, 0.00000000e+00],\n",
       "        [0.00000000e+00, 0.00000000e+00, 0.00000000e+00, 0.00000000e+00,\n",
       "         0.00000000e+00, 0.00000000e+00],\n",
       "        [2.44477144e+15, 2.41285804e+15, 2.39305062e+15, 2.37908758e+15,\n",
       "         2.36972375e+15, 2.36485404e+15],\n",
       "        [2.11449056e+15, 2.10544038e+15, 2.09595728e+15, 2.08771431e+15,\n",
       "         2.08204347e+15, 2.07909414e+15],\n",
       "        [1.96578646e+15, 1.96161178e+15, 1.95613419e+15, 1.95104495e+15,\n",
       "         1.94751544e+15, 1.94567981e+15],\n",
       "        [1.88161287e+15, 1.87932455e+15, 1.87624674e+15, 1.87336403e+15,\n",
       "         1.87136189e+15, 1.87031933e+15],\n",
       "        [1.82772942e+15, 1.82662608e+15, 1.82513984e+15, 1.82374632e+15,\n",
       "         1.82277698e+15, 1.82226987e+15],\n",
       "        [1.79130151e+15, 1.79086918e+15, 1.79028631e+15, 1.78973880e+15,\n",
       "         1.78935616e+15, 1.78915315e+15]]])"
      ]
     },
     "execution_count": 50,
     "metadata": {},
     "output_type": "execute_result"
    }
   ],
   "source": [
    "fH2\n"
   ]
  },
  {
   "cell_type": "code",
   "execution_count": 38,
   "metadata": {},
   "outputs": [
    {
     "data": {
      "text/plain": [
       "array([0.50368813, 1.03923433, 1.60663863, 2.205901  , 2.83702146,\n",
       "       3.5       ])"
      ]
     },
     "execution_count": 38,
     "metadata": {},
     "output_type": "execute_result"
    }
   ],
   "source": [
    "vrM\n"
   ]
  },
  {
   "cell_type": "code",
   "execution_count": 39,
   "metadata": {},
   "outputs": [
    {
     "data": {
      "text/plain": [
       "array([-3.5       , -2.83702146, -2.205901  , -1.60663863, -1.03923433,\n",
       "       -0.50368813,  0.50368813,  1.03923433,  1.60663863,  2.205901  ,\n",
       "        2.83702146,  3.5       ])"
      ]
     },
     "execution_count": 39,
     "metadata": {},
     "output_type": "execute_result"
    }
   ],
   "source": [
    "vxM\n"
   ]
  },
  {
   "cell_type": "code",
   "execution_count": 40,
   "metadata": {},
   "outputs": [
    {
     "data": {
      "text/plain": [
       "array([0.13734576, 0.13835662, 0.14435662, 0.15035662, 0.15635662])"
      ]
     },
     "execution_count": 40,
     "metadata": {},
     "output_type": "execute_result"
    }
   ],
   "source": [
    "xH2\n"
   ]
  },
  {
   "cell_type": "code",
   "execution_count": 41,
   "metadata": {},
   "outputs": [
    {
     "data": {
      "text/plain": [
       "np.float64(12.21783729943014)"
      ]
     },
     "execution_count": 41,
     "metadata": {},
     "output_type": "execute_result"
    }
   ],
   "source": [
    "TnormM\n"
   ]
  },
  {
   "cell_type": "code",
   "execution_count": 42,
   "metadata": {},
   "outputs": [
    {
     "data": {
      "text/plain": [
       "array([0.06271081, 0.13724153, 0.22359217, 0.32176272, 0.43175319,\n",
       "       0.55356357, 0.68719387, 0.83264408, 0.98991421, 1.15900425,\n",
       "       1.33991421, 1.53264408, 1.73719387, 1.95356357, 2.18175319,\n",
       "       2.42176272, 2.67359217, 2.93724153, 3.21271081, 3.5       ])"
      ]
     },
     "execution_count": 42,
     "metadata": {},
     "output_type": "execute_result"
    }
   ],
   "source": [
    "vrA"
   ]
  },
  {
   "cell_type": "code",
   "execution_count": 43,
   "metadata": {},
   "outputs": [
    {
     "data": {
      "text/plain": [
       "array([-3.5       , -3.21271081, -2.93724153, -2.67359217, -2.42176272,\n",
       "       -2.18175319, -1.95356357, -1.73719387, -1.53264408, -1.33991421,\n",
       "       -1.15900425, -0.98991421, -0.83264408, -0.68719387, -0.55356357,\n",
       "       -0.43175319, -0.32176272, -0.22359217, -0.13724153, -0.06271081,\n",
       "        0.06271081,  0.13724153,  0.22359217,  0.32176272,  0.43175319,\n",
       "        0.55356357,  0.68719387,  0.83264408,  0.98991421,  1.15900425,\n",
       "        1.33991421,  1.53264408,  1.73719387,  1.95356357,  2.18175319,\n",
       "        2.42176272,  2.67359217,  2.93724153,  3.21271081,  3.5       ])"
      ]
     },
     "execution_count": 43,
     "metadata": {},
     "output_type": "execute_result"
    }
   ],
   "source": [
    "vxA"
   ]
  },
  {
   "cell_type": "code",
   "execution_count": 44,
   "metadata": {},
   "outputs": [
    {
     "data": {
      "text/plain": [
       "array([0.13734576, 0.1376182 , 0.1380182 , 0.1384182 , 0.1388182 ,\n",
       "       0.1392182 , 0.1396182 , 0.1400182 , 0.1404182 , 0.1408182 ,\n",
       "       0.1412182 , 0.1416182 , 0.1420182 , 0.1424182 , 0.1428182 ,\n",
       "       0.1432182 , 0.1436182 , 0.1440182 , 0.1444182 , 0.1448182 ,\n",
       "       0.1452182 , 0.1456182 , 0.1460182 , 0.1464182 , 0.1468182 ,\n",
       "       0.1472182 , 0.1476182 , 0.1480182 , 0.1484182 , 0.1488182 ,\n",
       "       0.1492182 , 0.1496182 , 0.1500182 , 0.1504182 , 0.1508182 ,\n",
       "       0.1512182 , 0.1516182 , 0.1520182 , 0.1524182 , 0.1528182 ,\n",
       "       0.1532182 , 0.1536182 , 0.1540182 , 0.1544182 , 0.1548182 ,\n",
       "       0.1552182 , 0.1556182 , 0.1560182 , 0.1564182 , 0.1568182 ,\n",
       "       0.1572182 , 0.1576182 , 0.1580182 , 0.1584182 , 0.1588182 ,\n",
       "       0.1592182 , 0.1596182 , 0.1600182 , 0.1604182 , 0.1608182 ,\n",
       "       0.1612182 , 0.1616182 , 0.1620182 , 0.1624182 , 0.1628182 ,\n",
       "       0.1632182 , 0.1636182 , 0.1640182 , 0.1644182 , 0.1648182 ,\n",
       "       0.1652182 , 0.1656182 , 0.1660182 , 0.1664182 , 0.1668182 ,\n",
       "       0.1672182 , 0.1676182 , 0.1680182 , 0.1684182 , 0.1688182 ,\n",
       "       0.1692182 , 0.1696182 , 0.1700182 , 0.1704182 , 0.1708182 ,\n",
       "       0.1712182 , 0.1716182 , 0.1720182 , 0.1724182 , 0.1728182 ,\n",
       "       0.1732182 , 0.1736182 , 0.1740182 , 0.1744182 , 0.1748182 ,\n",
       "       0.1752182 , 0.1756182 , 0.1760182 , 0.1764182 , 0.1768182 ,\n",
       "       0.1772182 , 0.1776182 , 0.1780182 , 0.1784182 , 0.1788182 ,\n",
       "       0.1792182 , 0.1796182 , 0.1800182 , 0.1804182 , 0.1808182 ,\n",
       "       0.1812182 , 0.1816182 , 0.1820182 , 0.1824182 , 0.1828182 ,\n",
       "       0.1832182 , 0.1836182 , 0.1840182 , 0.1844182 , 0.1848182 ,\n",
       "       0.1852182 , 0.1856182 , 0.1860182 , 0.1864182 , 0.1868182 ,\n",
       "       0.1872182 , 0.1876182 , 0.1880182 , 0.1884182 , 0.1888182 ,\n",
       "       0.1892182 , 0.1896182 , 0.1900182 , 0.1904182 , 0.1908182 ,\n",
       "       0.1912182 , 0.1916182 , 0.1920182 , 0.1924182 , 0.1928182 ,\n",
       "       0.1932182 , 0.1936182 , 0.1940182 , 0.1944182 , 0.1948182 ])"
      ]
     },
     "execution_count": 44,
     "metadata": {},
     "output_type": "execute_result"
    }
   ],
   "source": [
    "xH\n"
   ]
  },
  {
   "cell_type": "code",
   "execution_count": 45,
   "metadata": {},
   "outputs": [
    {
     "data": {
      "text/plain": [
       "np.float64(74.3173496215798)"
      ]
     },
     "execution_count": 45,
     "metadata": {},
     "output_type": "execute_result"
    }
   ],
   "source": [
    "TnormA\n"
   ]
  },
  {
   "cell_type": "code",
   "execution_count": 46,
   "metadata": {},
   "outputs": [
    {
     "data": {
      "text/plain": [
       "0.005"
      ]
     },
     "execution_count": 46,
     "metadata": {},
     "output_type": "execute_result"
    }
   ],
   "source": [
    "#do_warn=do_warn\n",
    "do_warn"
   ]
  },
  {
   "cell_type": "code",
   "execution_count": 47,
   "metadata": {},
   "outputs": [
    {
     "data": {
      "text/plain": [
       "0"
      ]
     },
     "execution_count": 47,
     "metadata": {},
     "output_type": "execute_result"
    }
   ],
   "source": [
    "#debug=interp_debug\n",
    "interp_debug"
   ]
  },
  {
   "cell_type": "code",
   "execution_count": 48,
   "metadata": {},
   "outputs": [
    {
     "data": {
      "text/plain": [
       "<global_vars.global_vars at 0x191c3b59490>"
      ]
     },
     "execution_count": 48,
     "metadata": {},
     "output_type": "execute_result"
    }
   ],
   "source": [
    "#g=g\n",
    "g"
   ]
  },
  {
   "cell_type": "code",
   "execution_count": 49,
   "metadata": {},
   "outputs": [
    {
     "ename": "ValueError",
     "evalue": "operands could not be broadcast together with shapes (20,) (6,) ",
     "output_type": "error",
     "traceback": [
      "\u001b[1;31m---------------------------------------------------------------------------\u001b[0m",
      "\u001b[1;31mValueError\u001b[0m                                Traceback (most recent call last)",
      "Cell \u001b[1;32mIn[49], line 1\u001b[0m\n\u001b[1;32m----> 1\u001b[0m fH2A \u001b[38;5;241m=\u001b[39m np\u001b[38;5;241m.\u001b[39mmaximum(\u001b[43minterp_fvrvxx\u001b[49m\u001b[43m(\u001b[49m\u001b[43mfH2\u001b[49m\u001b[43m,\u001b[49m\u001b[43mvrM\u001b[49m\u001b[43m,\u001b[49m\u001b[43mvxM\u001b[49m\u001b[43m,\u001b[49m\u001b[43mxH2\u001b[49m\u001b[43m,\u001b[49m\u001b[43mTnormM\u001b[49m\u001b[43m,\u001b[49m\u001b[43mvrA\u001b[49m\u001b[43m,\u001b[49m\u001b[43mvxA\u001b[49m\u001b[43m,\u001b[49m\u001b[43mxH\u001b[49m\u001b[43m,\u001b[49m\u001b[43mTnormA\u001b[49m\u001b[43m,\u001b[49m\u001b[43m \u001b[49m\u001b[43mdo_warn\u001b[49m\u001b[38;5;241;43m=\u001b[39;49m\u001b[43mdo_warn\u001b[49m\u001b[43m,\u001b[49m\u001b[43m \u001b[49m\u001b[43mdebug\u001b[49m\u001b[38;5;241;43m=\u001b[39;49m\u001b[43minterp_debug\u001b[49m\u001b[43m,\u001b[49m\u001b[43m \u001b[49m\u001b[43mg\u001b[49m\u001b[38;5;241;43m=\u001b[39;49m\u001b[43mg\u001b[49m\u001b[43m)\u001b[49m,\u001b[38;5;241m0\u001b[39m )\n",
      "File \u001b[1;32m~\\projects_git\\kn1d_gl2\\kn1d_python\\interp_fvrvxx.py:120\u001b[0m, in \u001b[0;36minterp_fvrvxx\u001b[1;34m(fa, Vra, Vxa, Xa, Tnorma, Vrb, Vxb, Xb, Tnormb, do_warn, debug, correct, g)\u001b[0m\n\u001b[0;32m    117\u001b[0m w1_active\u001b[38;5;241m=\u001b[39m\u001b[38;5;241m1\u001b[39m\n\u001b[0;32m    118\u001b[0m test\u001b[38;5;241m=\u001b[39m\u001b[38;5;241m0\u001b[39m\n\u001b[1;32m--> 120\u001b[0m test\u001b[38;5;241m+\u001b[39m\u001b[38;5;241m=\u001b[39mvra1[\u001b[43mvra1\u001b[49m\u001b[38;5;241;43m!=\u001b[39;49m\u001b[43mVra\u001b[49m]\u001b[38;5;241m.\u001b[39msize\n\u001b[0;32m    121\u001b[0m test\u001b[38;5;241m+\u001b[39m\u001b[38;5;241m=\u001b[39mvxa1[vxa1\u001b[38;5;241m!=\u001b[39mVxa]\u001b[38;5;241m.\u001b[39msize\n\u001b[0;32m    123\u001b[0m test\u001b[38;5;241m+\u001b[39m\u001b[38;5;241m=\u001b[39mTnorma1[Tnorma1\u001b[38;5;241m!=\u001b[39mTnorma]\u001b[38;5;241m.\u001b[39msize\n",
      "\u001b[1;31mValueError\u001b[0m: operands could not be broadcast together with shapes (20,) (6,) "
     ]
    }
   ],
   "source": [
    "fH2A = np.maximum(interp_fvrvxx(fH2,vrM,vxM,xH2,TnormM,vrA,vxA,xH,TnormA, do_warn=do_warn, debug=interp_debug, g=g),0 )\n"
   ]
  },
  {
   "cell_type": "code",
   "execution_count": 51,
   "metadata": {},
   "outputs": [
    {
     "ename": "ValueError",
     "evalue": "operands could not be broadcast together with shapes (20,) (6,) ",
     "output_type": "error",
     "traceback": [
      "\u001b[1;31m---------------------------------------------------------------------------\u001b[0m",
      "\u001b[1;31mValueError\u001b[0m                                Traceback (most recent call last)",
      "Cell \u001b[1;32mIn[51], line 4\u001b[0m\n\u001b[0;32m      1\u001b[0m \u001b[38;5;66;03m####\u001b[39;00m\n\u001b[0;32m      2\u001b[0m \u001b[38;5;66;03m## Analizing \u001b[39;00m\n\u001b[0;32m      3\u001b[0m \u001b[38;5;66;03m##\u001b[39;00m\n\u001b[1;32m----> 4\u001b[0m \u001b[43minterp_fvrvxx\u001b[49m\u001b[43m(\u001b[49m\u001b[43mfH2\u001b[49m\u001b[43m,\u001b[49m\u001b[43mvrM\u001b[49m\u001b[43m,\u001b[49m\u001b[43mvxM\u001b[49m\u001b[43m,\u001b[49m\u001b[43mxH2\u001b[49m\u001b[43m,\u001b[49m\u001b[43mTnormM\u001b[49m\u001b[43m,\u001b[49m\u001b[43mvrA\u001b[49m\u001b[43m,\u001b[49m\u001b[43mvxA\u001b[49m\u001b[43m,\u001b[49m\u001b[43mxH\u001b[49m\u001b[43m,\u001b[49m\u001b[43m\\\u001b[49m\n\u001b[0;32m      5\u001b[0m \u001b[43m              \u001b[49m\u001b[43mTnormA\u001b[49m\u001b[43m,\u001b[49m\u001b[43m \u001b[49m\u001b[43mdo_warn\u001b[49m\u001b[38;5;241;43m=\u001b[39;49m\u001b[43mdo_warn\u001b[49m\u001b[43m,\u001b[49m\u001b[43m \u001b[49m\u001b[43mdebug\u001b[49m\u001b[38;5;241;43m=\u001b[39;49m\u001b[43minterp_debug\u001b[49m\u001b[43m,\u001b[49m\u001b[43m \u001b[49m\u001b[43mg\u001b[49m\u001b[38;5;241;43m=\u001b[39;49m\u001b[43mg\u001b[49m\u001b[43m)\u001b[49m\n",
      "File \u001b[1;32m~\\projects_git\\kn1d_gl2\\kn1d_python\\interp_fvrvxx.py:120\u001b[0m, in \u001b[0;36minterp_fvrvxx\u001b[1;34m(fa, Vra, Vxa, Xa, Tnorma, Vrb, Vxb, Xb, Tnormb, do_warn, debug, correct, g)\u001b[0m\n\u001b[0;32m    117\u001b[0m w1_active\u001b[38;5;241m=\u001b[39m\u001b[38;5;241m1\u001b[39m\n\u001b[0;32m    118\u001b[0m test\u001b[38;5;241m=\u001b[39m\u001b[38;5;241m0\u001b[39m\n\u001b[1;32m--> 120\u001b[0m test\u001b[38;5;241m+\u001b[39m\u001b[38;5;241m=\u001b[39mvra1[\u001b[43mvra1\u001b[49m\u001b[38;5;241;43m!=\u001b[39;49m\u001b[43mVra\u001b[49m]\u001b[38;5;241m.\u001b[39msize\n\u001b[0;32m    121\u001b[0m test\u001b[38;5;241m+\u001b[39m\u001b[38;5;241m=\u001b[39mvxa1[vxa1\u001b[38;5;241m!=\u001b[39mVxa]\u001b[38;5;241m.\u001b[39msize\n\u001b[0;32m    123\u001b[0m test\u001b[38;5;241m+\u001b[39m\u001b[38;5;241m=\u001b[39mTnorma1[Tnorma1\u001b[38;5;241m!=\u001b[39mTnorma]\u001b[38;5;241m.\u001b[39msize\n",
      "\u001b[1;31mValueError\u001b[0m: operands could not be broadcast together with shapes (20,) (6,) "
     ]
    }
   ],
   "source": [
    "####\n",
    "## Analizing \n",
    "##\n",
    "interp_fvrvxx(fH2,vrM,vxM,xH2,TnormM,vrA,vxA,xH,\\\n",
    "              TnormA, do_warn=do_warn, debug=interp_debug, g=g)"
   ]
  },
  {
   "cell_type": "code",
   "execution_count": 52,
   "metadata": {},
   "outputs": [],
   "source": [
    "####\n",
    "## Going inside interp_fvrvxx.py \n",
    "##"
   ]
  },
  {
   "cell_type": "code",
   "execution_count": 53,
   "metadata": {},
   "outputs": [],
   "source": [
    "####\n",
    "## Variables for interp_fvrvxx.py\n",
    "## Like a function\n",
    "#fH2,vrM,vxM,xH2,TnormM,vrA,vxA,xH,\\\n",
    "#              TnormA, do_warn=do_warn, debug=interp_debug, g=g"
   ]
  },
  {
   "cell_type": "code",
   "execution_count": 54,
   "metadata": {},
   "outputs": [],
   "source": [
    "####\n",
    "## Variables by definition\n",
    "##\n",
    "#def interp_fvrvxx(fa,Vra,Vxa,Xa,Tnorma,Vrb,Vxb,Xb,\\\n",
    "#                  Tnormb,do_warn=None, debug=0, correct=1,g=None): # added global variable argument\n"
   ]
  },
  {
   "cell_type": "code",
   "execution_count": 55,
   "metadata": {},
   "outputs": [],
   "source": [
    "fa = copy.copy(fH2)\n",
    "Vra = copy.copy(vrM)\n",
    "Vxa = copy.copy(vxM)\n",
    "Xa = copy.copy(xH2)\n",
    "Tnorma = copy.copy(TnormM)\n",
    "Vrb = copy.copy(vrA)\n",
    "Vxb = copy.copy(vxA)\n",
    "Xb = copy.copy(xH)\n",
    "Tnormb = copy.copy(TnormA)\n",
    "do_warn = copy.copy(do_warn)\n",
    "debug = copy.copy(interp_debug) \n",
    "correct=1 #--> it was by default\n",
    "g = copy.copy(g)"
   ]
  },
  {
   "cell_type": "code",
   "execution_count": 56,
   "metadata": {},
   "outputs": [],
   "source": [
    "prompt='INTERP_FVRVXX => '\n",
    "\n",
    "#   Calls INTERP_FVRVXX_internal1 and INTERP_FVRVXX_internal2 common blocks\n",
    "vra1=g.INTERP_FVRVXX_internal1_vra1\n",
    "vxa1=g.INTERP_FVRVXX_internal1_vxa1\n",
    "Tnorma1=g.INTERP_FVRVXX_internal1_Tnorma1\n",
    "vrb1=g.INTERP_FVRVXX_internal1_vrb1\n",
    "vxb1=g.INTERP_FVRVXX_internal1_vxb1\n",
    "Tnormb1=g.INTERP_FVRVXX_internal1_Tnormb1\n",
    "weight1=g.INTERP_FVRVXX_internal1_weight1 # fixed capitalization - GG\n",
    "    \n",
    "vra2=g.INTERP_FVRVXX_internal2_vra2\n",
    "vxa2=g.INTERP_FVRVXX_internal2_vxa2\n",
    "Tnorma2=g.INTERP_FVRVXX_internal2_Tnorma2\n",
    "vrb2=g.INTERP_FVRVXX_internal2_vrb2\n",
    "vxb2=g.INTERP_FVRVXX_internal2_vxb2\n",
    "Tnormb2=g.INTERP_FVRVXX_internal2_Tnormb2\n",
    "weight2=g.INTERP_FVRVXX_internal2_weight2"
   ]
  },
  {
   "cell_type": "code",
   "execution_count": 57,
   "metadata": {},
   "outputs": [],
   "source": [
    "nvra=Vra.size\n",
    "nvxa=Vxa.size\n",
    "nxa=Xa.size\n",
    "\n",
    "mu=1\n",
    "\n",
    "fV=np.sqrt(Tnormb/Tnorma)\n",
    "\n",
    "#   Compute Vtha, Vtha2, Vthb and Vthb2\n",
    "\n",
    "Vtha=np.sqrt(2*q*Tnorma/(mu*mH))\n",
    "Vtha2=Vtha*Vtha # fixed capitalization\n",
    "Vthb=np.sqrt(2*q*Tnormb/(mu*mH))\n",
    "Vthb2=Vthb*Vthb # fixed capitalization\n",
    "\n",
    "if fa[0,0,:].size!=nvra:\n",
    "    raise Exception('Number of elements in fa(*,0,0) and Vra do not agree!')\n",
    "if fa[0,:,0].size!=nvxa:\n",
    "    raise Exception('Number of elements in fa(0,*,0) and Vxa do not agree!')\n",
    "if fa[:,0,0].size!=nxa:\n",
    "    raise Exception('Number of elements in fa(0,0,*) and Xa do not agree!')\n",
    "\n",
    "oki=np.bitwise_and(fV*Vrb<=max(Vra),fV*Vrb>=min(Vra)).nonzero()[0]\n",
    "if oki.size<1:\n",
    "    raise Exception('No values of Vrb are within range of Vra')\n",
    "i0,i1=oki[0],oki[-1]\n",
    "\n",
    "okj=np.bitwise_and(fV*Vxb<=max(Vxa),fV*Vxb>=min(Vxa)).nonzero()[0]\n",
    "if okj.size<1:\n",
    "    raise Exception('No values of Vxb are within range of Vxa')\n",
    "j0,j1=okj[0],okj[-1]\n",
    "\n",
    "okk=np.bitwise_and(Xb<=max(Xa), Xb>=min(Xa)).nonzero()[0] # deleted fV terms because they shouldnt be there - GG\n",
    "if okk.size<1:\n",
    "    raise Exception('No values of Xb are within range of Xa')\n",
    "k0,k1=okk[0],okk[-1]\n",
    "\n",
    "nvrb=Vrb.size\n",
    "nvxb=Vxb.size\n",
    "nxb=Xb.size"
   ]
  },
  {
   "cell_type": "code",
   "execution_count": 58,
   "metadata": {},
   "outputs": [
    {
     "data": {
      "text/plain": [
       "20"
      ]
     },
     "execution_count": 58,
     "metadata": {},
     "output_type": "execute_result"
    }
   ],
   "source": [
    "nvrb"
   ]
  },
  {
   "cell_type": "code",
   "execution_count": 59,
   "metadata": {},
   "outputs": [
    {
     "data": {
      "text/plain": [
       "40"
      ]
     },
     "execution_count": 59,
     "metadata": {},
     "output_type": "execute_result"
    }
   ],
   "source": [
    "nvxb"
   ]
  },
  {
   "cell_type": "code",
   "execution_count": 60,
   "metadata": {},
   "outputs": [
    {
     "data": {
      "text/plain": [
       "145"
      ]
     },
     "execution_count": 60,
     "metadata": {},
     "output_type": "execute_result"
    }
   ],
   "source": [
    "nxb"
   ]
  },
  {
   "cell_type": "code",
   "execution_count": 61,
   "metadata": {},
   "outputs": [],
   "source": [
    "fb=np.zeros((nxb,nvxb,nvrb)) # added parenthesis - GG\n",
    "\n",
    "make_dvr_dvx_out=Make_dVr_dVx(Vra,Vxa)\n",
    "Vr2pidVra,VrVr4pidVra,dVxa,vraL,vraR,vxaL,vxaR=make_dvr_dvx_out[:7]\n",
    "Vra2Vxa2=make_dvr_dvx_out[11]\n",
    "Vr2pidVrb,VrVr4pidVrb,dVxb,vrbL,vrbR,vxbL,vxbR,Vol,Vth_DVx,Vx_DVx,Vr_DVr,Vrb2Vxb2,jpa,jpb,jna,jnb=Make_dVr_dVx(Vrb,Vxb)\n",
    "\n",
    "#   Determine if Weight was already computed by checking vra_s,vxa_s,Tnorma_s,vrb_s,vxb_s,Tnormb_s for cases 1 and 2\n",
    "\n",
    "w1_active=0\n",
    "w1_match=0"
   ]
  },
  {
   "cell_type": "code",
   "execution_count": 62,
   "metadata": {},
   "outputs": [
    {
     "ename": "ValueError",
     "evalue": "operands could not be broadcast together with shapes (20,) (6,) ",
     "output_type": "error",
     "traceback": [
      "\u001b[1;31m---------------------------------------------------------------------------\u001b[0m",
      "\u001b[1;31mValueError\u001b[0m                                Traceback (most recent call last)",
      "Cell \u001b[1;32mIn[62], line 5\u001b[0m\n\u001b[0;32m      2\u001b[0m w1_active\u001b[38;5;241m=\u001b[39m\u001b[38;5;241m1\u001b[39m\n\u001b[0;32m      3\u001b[0m test\u001b[38;5;241m=\u001b[39m\u001b[38;5;241m0\u001b[39m\n\u001b[1;32m----> 5\u001b[0m test\u001b[38;5;241m+\u001b[39m\u001b[38;5;241m=\u001b[39mvra1[\u001b[43mvra1\u001b[49m\u001b[38;5;241;43m!=\u001b[39;49m\u001b[43mVra\u001b[49m]\u001b[38;5;241m.\u001b[39msize\n\u001b[0;32m      6\u001b[0m test\u001b[38;5;241m+\u001b[39m\u001b[38;5;241m=\u001b[39mvxa1[vxa1\u001b[38;5;241m!=\u001b[39mVxa]\u001b[38;5;241m.\u001b[39msize\n",
      "\u001b[1;31mValueError\u001b[0m: operands could not be broadcast together with shapes (20,) (6,) "
     ]
    }
   ],
   "source": [
    "if not vra1 is None:\n",
    "    w1_active=1\n",
    "    test=0\n",
    "\n",
    "    test+=vra1[vra1!=Vra].size\n",
    "    test+=vxa1[vxa1!=Vxa].size"
   ]
  },
  {
   "cell_type": "code",
   "execution_count": 63,
   "metadata": {},
   "outputs": [
    {
     "ename": "ValueError",
     "evalue": "operands could not be broadcast together with shapes (20,) (6,) ",
     "output_type": "error",
     "traceback": [
      "\u001b[1;31m---------------------------------------------------------------------------\u001b[0m",
      "\u001b[1;31mValueError\u001b[0m                                Traceback (most recent call last)",
      "Cell \u001b[1;32mIn[63], line 1\u001b[0m\n\u001b[1;32m----> 1\u001b[0m test\u001b[38;5;241m+\u001b[39m\u001b[38;5;241m=\u001b[39mvra1[\u001b[43mvra1\u001b[49m\u001b[38;5;241;43m!=\u001b[39;49m\u001b[43mVra\u001b[49m]\n",
      "\u001b[1;31mValueError\u001b[0m: operands could not be broadcast together with shapes (20,) (6,) "
     ]
    }
   ],
   "source": [
    "test+=vra1[vra1!=Vra]"
   ]
  },
  {
   "cell_type": "code",
   "execution_count": 65,
   "metadata": {},
   "outputs": [
    {
     "ename": "ValueError",
     "evalue": "operands could not be broadcast together with shapes (20,) (6,) ",
     "output_type": "error",
     "traceback": [
      "\u001b[1;31m---------------------------------------------------------------------------\u001b[0m",
      "\u001b[1;31mValueError\u001b[0m                                Traceback (most recent call last)",
      "Cell \u001b[1;32mIn[65], line 1\u001b[0m\n\u001b[1;32m----> 1\u001b[0m test\u001b[38;5;241m+\u001b[39m\u001b[38;5;241m=\u001b[39m\u001b[43mnp\u001b[49m\u001b[38;5;241;43m.\u001b[39;49m\u001b[43mnot_equal\u001b[49m\u001b[43m(\u001b[49m\u001b[43mvra1\u001b[49m\u001b[43m,\u001b[49m\u001b[43m \u001b[49m\u001b[43mVra\u001b[49m\u001b[43m)\u001b[49m\n",
      "\u001b[1;31mValueError\u001b[0m: operands could not be broadcast together with shapes (20,) (6,) "
     ]
    }
   ],
   "source": [
    "test+=np.not_equal(vra1, Vra)"
   ]
  },
  {
   "cell_type": "code",
   "execution_count": 66,
   "metadata": {},
   "outputs": [
    {
     "data": {
      "text/plain": [
       "numpy.ndarray"
      ]
     },
     "execution_count": 66,
     "metadata": {},
     "output_type": "execute_result"
    }
   ],
   "source": [
    "type(Vra)"
   ]
  },
  {
   "cell_type": "code",
   "execution_count": 67,
   "metadata": {},
   "outputs": [
    {
     "ename": "NameError",
     "evalue": "name 'Vra1' is not defined",
     "output_type": "error",
     "traceback": [
      "\u001b[1;31m---------------------------------------------------------------------------\u001b[0m",
      "\u001b[1;31mNameError\u001b[0m                                 Traceback (most recent call last)",
      "Cell \u001b[1;32mIn[67], line 1\u001b[0m\n\u001b[1;32m----> 1\u001b[0m \u001b[38;5;28mtype\u001b[39m(\u001b[43mVra1\u001b[49m)\n",
      "\u001b[1;31mNameError\u001b[0m: name 'Vra1' is not defined"
     ]
    }
   ],
   "source": [
    "type(Vra1)"
   ]
  },
  {
   "cell_type": "code",
   "execution_count": 68,
   "metadata": {},
   "outputs": [
    {
     "data": {
      "text/plain": [
       "int"
      ]
     },
     "execution_count": 68,
     "metadata": {},
     "output_type": "execute_result"
    }
   ],
   "source": [
    "type(test)"
   ]
  },
  {
   "cell_type": "code",
   "execution_count": null,
   "metadata": {},
   "outputs": [],
   "source": []
  }
 ],
 "metadata": {
  "kernelspec": {
   "display_name": "Python 3",
   "language": "python",
   "name": "python3"
  },
  "language_info": {
   "codemirror_mode": {
    "name": "ipython",
    "version": 3
   },
   "file_extension": ".py",
   "mimetype": "text/x-python",
   "name": "python",
   "nbconvert_exporter": "python",
   "pygments_lexer": "ipython3",
   "version": "3.12.4"
  }
 },
 "nbformat": 4,
 "nbformat_minor": 2
}
