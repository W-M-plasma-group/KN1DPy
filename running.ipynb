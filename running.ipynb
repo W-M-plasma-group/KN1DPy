{
 "cells": [
  {
   "cell_type": "code",
   "execution_count": 1,
   "metadata": {},
   "outputs": [
    {
     "name": "stdout",
     "output_type": "stream",
     "text": [
      "test \n",
      "\n"
     ]
    },
    {
     "name": "stderr",
     "output_type": "stream",
     "text": [
      "c:\\Users\\julio\\projects_git\\kn1d_gl2\\kn1d_python\\interp_fvrvxx.py:366: UserWarning: Non-zero value of fb detected at min(Vra) boundary\n",
      "  warn('Non-zero value of fb detected at min(Vra) boundary')\n",
      "c:\\Users\\julio\\projects_git\\kn1d_gl2\\kn1d_python\\interp_fvrvxx.py:369: UserWarning: Non-zero value of fb detected at max(Vra) boundary\n",
      "  warn('Non-zero value of fb detected at max(Vra) boundary')\n",
      "c:\\Users\\julio\\projects_git\\kn1d_gl2\\kn1d_python\\interp_fvrvxx.py:380: UserWarning: Non-zero value of fb detected at min(Vxa) boundary\n",
      "  warn('Non-zero value of fb detected at min(Vxa) boundary')\n",
      "c:\\Users\\julio\\projects_git\\kn1d_gl2\\kn1d_python\\interp_fvrvxx.py:383: UserWarning: Non-zero value of fb detected at max(Vxa) boundary\n",
      "  warn('Non-zero value of fb detected at max(Vxa) boundary')\n",
      "c:\\Users\\julio\\projects_git\\kn1d_gl2\\kn1d_python\\interp_scalarx.py:40: UserWarning: Non-zero value of fb detected at min(Xa) boundary\n",
      "  warn('Non-zero value of fb detected at min(Xa) boundary')\n",
      "c:\\Users\\julio\\projects_git\\kn1d_gl2\\kn1d_python\\interp_scalarx.py:42: UserWarning: Non-zero value of fb detected at max(Xa) boundary\n",
      "  warn('Non-zero value of fb detected at max(Xa) boundary')\n"
     ]
    },
    {
     "ename": "KeyboardInterrupt",
     "evalue": "",
     "output_type": "error",
     "traceback": [
      "\u001b[1;31m---------------------------------------------------------------------------\u001b[0m",
      "\u001b[1;31mKeyboardInterrupt\u001b[0m                         Traceback (most recent call last)",
      "\u001b[1;32mc:\\Users\\julio\\projects_git\\kn1d_gl2\\kn1d_python\\kn1d_test.py\u001b[0m in \u001b[0;36m<module>\u001b[1;34m\u001b[0m\n\u001b[0;32m     81\u001b[0m     \u001b[0mxH2\u001b[0m\u001b[1;33m,\u001b[0m \u001b[0mnH2\u001b[0m\u001b[1;33m,\u001b[0m \u001b[0mGammaxH2\u001b[0m\u001b[1;33m,\u001b[0m \u001b[0mTH2\u001b[0m\u001b[1;33m,\u001b[0m \u001b[0mqxH2_total\u001b[0m\u001b[1;33m,\u001b[0m \u001b[0mnHP\u001b[0m\u001b[1;33m,\u001b[0m \u001b[0mTHP\u001b[0m\u001b[1;33m,\u001b[0m \u001b[0mSH\u001b[0m\u001b[1;33m,\u001b[0m \u001b[0mSP\u001b[0m\u001b[1;33m,\u001b[0m\u001b[0;31m \u001b[0m\u001b[0;31m\\\u001b[0m\u001b[1;33m\u001b[0m\u001b[1;33m\u001b[0m\u001b[0m\n\u001b[0;32m     82\u001b[0m                 \u001b[0mxH\u001b[0m\u001b[1;33m,\u001b[0m \u001b[0mnH\u001b[0m\u001b[1;33m,\u001b[0m \u001b[0mGammaxH\u001b[0m\u001b[1;33m,\u001b[0m \u001b[0mTH\u001b[0m\u001b[1;33m,\u001b[0m \u001b[0mqxH_total\u001b[0m\u001b[1;33m,\u001b[0m \u001b[0mNetHSource\u001b[0m\u001b[1;33m,\u001b[0m \u001b[0mSion\u001b[0m\u001b[1;33m,\u001b[0m \u001b[0mQH_total\u001b[0m\u001b[1;33m,\u001b[0m \u001b[0mSideWallH\u001b[0m\u001b[1;33m,\u001b[0m \u001b[0mLyman\u001b[0m\u001b[1;33m,\u001b[0m \u001b[0mBalmer\u001b[0m\u001b[1;33m=\u001b[0m\u001b[0;31m\\\u001b[0m\u001b[1;33m\u001b[0m\u001b[1;33m\u001b[0m\u001b[0m\n\u001b[1;32m---> 83\u001b[1;33m                 KN1D( data_file['x'], data_file['x_lim'], data_file['x_sep'], data_file['p_wall'], data_file['mu'], data_file['t_i'], data_file['t_e'], \\\n\u001b[0m\u001b[0;32m     84\u001b[0m                 data_file['n_e'], data_file['vx'], data_file['lc'], data_file['d_pipe'])\n\u001b[0;32m     85\u001b[0m \u001b[1;33m\u001b[0m\u001b[0m\n",
      "\u001b[1;32mc:\\Users\\julio\\projects_git\\kn1d_gl2\\kn1d_python\\KN1D.py\u001b[0m in \u001b[0;36mKN1D\u001b[1;34m(x, xlimiter, xsep, GaugeH2, mu, Ti, Te, n, vxi, LC, PipeDia, truncate, refine, File, NewFile, ReadInput, error, compute_errors, plot, debug, debrief, pause, Hplot, Hdebug, Hdebrief, Hpause, H2plot, H2debug, H2debrief, H2pause, adas_rec_h1s, adas_ion_h0, adas_qcx_h0)\u001b[0m\n\u001b[0;32m    458\u001b[0m                 \u001b[0mni_correct\u001b[0m \u001b[1;33m=\u001b[0m \u001b[1;36m1\u001b[0m\u001b[1;33m\u001b[0m\u001b[1;33m\u001b[0m\u001b[0m\n\u001b[0;32m    459\u001b[0m                 \u001b[0mHcompute_errors\u001b[0m \u001b[1;33m=\u001b[0m \u001b[0mcompute_errors\u001b[0m \u001b[1;32mand\u001b[0m \u001b[0mHdebrief\u001b[0m\u001b[1;33m\u001b[0m\u001b[1;33m\u001b[0m\u001b[0m\n\u001b[1;32m--> 460\u001b[1;33m                 fH,nH,GammaxH,VxH,pH,TH,qxH,qxH_total,NetHSource,Sion,QH,RxH,QH_total,AlbedoH,SideWallH,error = kinetic_h(\n\u001b[0m\u001b[0;32m    461\u001b[0m                     \u001b[0mvxA\u001b[0m\u001b[1;33m,\u001b[0m\u001b[0mvrA\u001b[0m\u001b[1;33m,\u001b[0m\u001b[0mxH\u001b[0m\u001b[1;33m,\u001b[0m\u001b[0mTnormA\u001b[0m\u001b[1;33m,\u001b[0m\u001b[0mmu\u001b[0m\u001b[1;33m,\u001b[0m\u001b[0mTiA\u001b[0m\u001b[1;33m,\u001b[0m\u001b[0mTeA\u001b[0m\u001b[1;33m,\u001b[0m\u001b[0mnA\u001b[0m\u001b[1;33m,\u001b[0m\u001b[0mvxiA\u001b[0m\u001b[1;33m,\u001b[0m\u001b[0mfHBC\u001b[0m\u001b[1;33m,\u001b[0m\u001b[0mGammaxHBC\u001b[0m\u001b[1;33m,\u001b[0m\u001b[0mPipeDiaA\u001b[0m\u001b[1;33m,\u001b[0m\u001b[0mfH2A\u001b[0m\u001b[1;33m,\u001b[0m\u001b[0mfSHA\u001b[0m\u001b[1;33m,\u001b[0m\u001b[0mnHPA\u001b[0m\u001b[1;33m,\u001b[0m\u001b[0mTHPA\u001b[0m\u001b[1;33m,\u001b[0m \u001b[0mfH\u001b[0m\u001b[1;33m=\u001b[0m\u001b[0mfH\u001b[0m\u001b[1;33m,\u001b[0m\u001b[0;31m\\\u001b[0m\u001b[1;33m\u001b[0m\u001b[1;33m\u001b[0m\u001b[0m\n\u001b[0;32m    462\u001b[0m                         \u001b[0mtruncate\u001b[0m\u001b[1;33m=\u001b[0m\u001b[0mtruncate\u001b[0m\u001b[1;33m,\u001b[0m \u001b[0mSimple_CX\u001b[0m\u001b[1;33m=\u001b[0m\u001b[0mSimple_CX\u001b[0m\u001b[1;33m,\u001b[0m \u001b[0mMax_Gen\u001b[0m\u001b[1;33m=\u001b[0m\u001b[0mmax_gen\u001b[0m\u001b[1;33m,\u001b[0m\u001b[0;31m \u001b[0m\u001b[0;31m\\\u001b[0m\u001b[1;33m\u001b[0m\u001b[1;33m\u001b[0m\u001b[0m\n",
      "\u001b[1;32mc:\\Users\\julio\\projects_git\\kn1d_gl2\\kn1d_python\\kinetic_h.py\u001b[0m in \u001b[0;36mkinetic_h\u001b[1;34m(vx, vr, x, Tnorm, mu, Ti, Te, n, vxi, fHBC, GammaxHBC, PipeDia, fH2, fSH, nHP, THP, fH, truncate, Compute_Errors, plot, debug, pause, debrief, Simple_CX, Max_Gen, No_Johnson_Hinnov, Use_Collrad_Ionization, No_Recomb, H_H_EL, H_P_EL, _H_H2_EL, H_P_CX, ni_correct, g, adas_rec_h1s, adas_ion_h0, adas_qcx_h0)\u001b[0m\n\u001b[0;32m   1003\u001b[0m \u001b[1;33m\u001b[0m\u001b[0m\n\u001b[0;32m   1004\u001b[0m                 \u001b[0m_Sig\u001b[0m\u001b[1;33m=\u001b[0m\u001b[0mnp\u001b[0m\u001b[1;33m.\u001b[0m\u001b[0mzeros\u001b[0m\u001b[1;33m(\u001b[0m\u001b[1;33m(\u001b[0m\u001b[0mntheta\u001b[0m\u001b[1;33m,\u001b[0m\u001b[0mnvr\u001b[0m\u001b[1;33m*\u001b[0m\u001b[0mnvx\u001b[0m\u001b[1;33m*\u001b[0m\u001b[0mnvr\u001b[0m\u001b[1;33m*\u001b[0m\u001b[0mnvx\u001b[0m\u001b[1;33m)\u001b[0m\u001b[1;33m)\u001b[0m\u001b[1;33m\u001b[0m\u001b[1;33m\u001b[0m\u001b[0m\n\u001b[1;32m-> 1005\u001b[1;33m                 \u001b[0m_Sig\u001b[0m\u001b[1;33m[\u001b[0m\u001b[1;33m:\u001b[0m\u001b[1;33m]\u001b[0m\u001b[1;33m=\u001b[0m\u001b[1;33m(\u001b[0m\u001b[0mv_v\u001b[0m\u001b[1;33m*\u001b[0m\u001b[0mSigma_EL_P_H\u001b[0m\u001b[1;33m(\u001b[0m\u001b[0mv_v2\u001b[0m\u001b[1;33m*\u001b[0m\u001b[1;33m(\u001b[0m\u001b[1;36m.5\u001b[0m\u001b[1;33m*\u001b[0m\u001b[0mmH\u001b[0m\u001b[1;33m*\u001b[0m\u001b[0mVth2\u001b[0m\u001b[1;33m/\u001b[0m\u001b[0mq\u001b[0m\u001b[1;33m)\u001b[0m\u001b[1;33m)\u001b[0m\u001b[1;33m)\u001b[0m\u001b[1;33m.\u001b[0m\u001b[0mreshape\u001b[0m\u001b[1;33m(\u001b[0m\u001b[0m_Sig\u001b[0m\u001b[1;33m.\u001b[0m\u001b[0mshape\u001b[0m\u001b[1;33m)\u001b[0m\u001b[1;33m\u001b[0m\u001b[1;33m\u001b[0m\u001b[0m\n\u001b[0m\u001b[0;32m   1006\u001b[0m \u001b[1;33m\u001b[0m\u001b[0m\n\u001b[0;32m   1007\u001b[0m                 \u001b[1;31m#       Set SIG_H_P = vr' x vx_vx x Integral{v_v*sigma_H_P} over theta=0,\u001b[0m\u001b[1;33m\u001b[0m\u001b[1;33m\u001b[0m\u001b[0m\n",
      "\u001b[1;32mc:\\Users\\julio\\projects_git\\kn1d_gl2\\kn1d_python\\sigma_el_p_h.py\u001b[0m in \u001b[0;36mSigma_EL_P_H\u001b[1;34m(E)\u001b[0m\n\u001b[0;32m     31\u001b[0m         \u001b[0ma\u001b[0m \u001b[1;33m=\u001b[0m \u001b[0mnp\u001b[0m\u001b[1;33m.\u001b[0m\u001b[0marray\u001b[0m\u001b[1;33m(\u001b[0m\u001b[1;33m[\u001b[0m\u001b[1;33m-\u001b[0m\u001b[1;36m3.231141e1\u001b[0m\u001b[1;33m,\u001b[0m \u001b[1;33m-\u001b[0m\u001b[1;36m1.386002e-1\u001b[0m\u001b[1;33m]\u001b[0m\u001b[1;33m)\u001b[0m\u001b[1;33m\u001b[0m\u001b[1;33m\u001b[0m\u001b[0m\n\u001b[0;32m     32\u001b[0m         \u001b[1;32mfor\u001b[0m \u001b[0mj\u001b[0m \u001b[1;32min\u001b[0m \u001b[0mihigh\u001b[0m\u001b[1;33m:\u001b[0m\u001b[1;33m\u001b[0m\u001b[1;33m\u001b[0m\u001b[0m\n\u001b[1;32m---> 33\u001b[1;33m             \u001b[0mresult\u001b[0m\u001b[1;33m[\u001b[0m\u001b[0mtuple\u001b[0m\u001b[1;33m(\u001b[0m\u001b[0mj\u001b[0m\u001b[1;33m)\u001b[0m\u001b[1;33m]\u001b[0m \u001b[1;33m=\u001b[0m \u001b[0mnp\u001b[0m\u001b[1;33m.\u001b[0m\u001b[0mexp\u001b[0m\u001b[1;33m(\u001b[0m\u001b[0mpoly\u001b[0m\u001b[1;33m(\u001b[0m\u001b[0mnp\u001b[0m\u001b[1;33m.\u001b[0m\u001b[0mlog\u001b[0m\u001b[1;33m(\u001b[0m\u001b[0m_E\u001b[0m\u001b[1;33m[\u001b[0m\u001b[0mtuple\u001b[0m\u001b[1;33m(\u001b[0m\u001b[0mj\u001b[0m\u001b[1;33m)\u001b[0m\u001b[1;33m]\u001b[0m\u001b[1;33m)\u001b[0m\u001b[1;33m,\u001b[0m \u001b[0ma\u001b[0m\u001b[1;33m)\u001b[0m\u001b[1;33m)\u001b[0m \u001b[1;33m*\u001b[0m \u001b[1;36m1e-4\u001b[0m\u001b[1;33m\u001b[0m\u001b[1;33m\u001b[0m\u001b[0m\n\u001b[0m\u001b[0;32m     34\u001b[0m     \u001b[1;32mreturn\u001b[0m \u001b[0mresult\u001b[0m\u001b[1;33m\u001b[0m\u001b[1;33m\u001b[0m\u001b[0m\n",
      "\u001b[1;31mKeyboardInterrupt\u001b[0m: "
     ]
    }
   ],
   "source": [
    "%run kn1d_test.py"
   ]
  },
  {
   "cell_type": "code",
   "execution_count": null,
   "metadata": {},
   "outputs": [],
   "source": []
  }
 ],
 "metadata": {
  "kernelspec": {
   "display_name": "Python 3",
   "language": "python",
   "name": "python3"
  },
  "language_info": {
   "codemirror_mode": {
    "name": "ipython",
    "version": 3
   },
   "file_extension": ".py",
   "mimetype": "text/x-python",
   "name": "python",
   "nbconvert_exporter": "python",
   "pygments_lexer": "ipython3",
   "version": "3.9.13"
  }
 },
 "nbformat": 4,
 "nbformat_minor": 2
}
