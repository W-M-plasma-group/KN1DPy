{
 "cells": [
  {
   "cell_type": "code",
   "execution_count": 1,
   "metadata": {},
   "outputs": [],
   "source": [
    "from graphviz import Digraph"
   ]
  },
  {
   "cell_type": "code",
   "execution_count": 2,
   "metadata": {},
   "outputs": [
    {
     "data": {
      "text/plain": [
       "'ejemplo.png'"
      ]
     },
     "execution_count": 2,
     "metadata": {},
     "output_type": "execute_result"
    }
   ],
   "source": [
    "dot = Digraph(comment='ejemplo de grafo')\n",
    "\n",
    "dot.node('A','Nodo A')\n",
    "dot.node('B','Nodo B')\n",
    "dot.node('C','Nodo C')\n",
    "\n",
    "dot.edges(['AB','AC','BC'])\n",
    "dot.edge('C','A',constrint='false')\n",
    "\n",
    "dot.save('ejemplo.dot')\n",
    "dot.render('ejemplo', format='png',view=True)"
   ]
  },
  {
   "cell_type": "code",
   "execution_count": 9,
   "metadata": {},
   "outputs": [],
   "source": [
    "dot = Digraph(comment='KN1D.py')"
   ]
  },
  {
   "cell_type": "code",
   "execution_count": 16,
   "metadata": {},
   "outputs": [
    {
     "data": {
      "text/plain": [
       "'ejem.png'"
      ]
     },
     "execution_count": 16,
     "metadata": {},
     "output_type": "execute_result"
    }
   ],
   "source": [
    "dot = Digraph(comment='KN1D.py')\n",
    "####\n",
    "##\n",
    "##\n",
    "dot.node('A','KN1D \\n Hi')\n",
    "dot.node('B','Kinetic_h')\n",
    "dot.node('C','Kinetic_h2')\n",
    "#dot.node('KN1D','')\n",
    "####\n",
    "##\n",
    "##\n",
    "dot.edges(['AB','AC'])\n",
    "####\n",
    "##\n",
    "##\n",
    "dot.save('ejem.dot')\n",
    "dot.render('ejem', format='png',view=True)"
   ]
  },
  {
   "cell_type": "code",
   "execution_count": 15,
   "metadata": {},
   "outputs": [
    {
     "data": {
      "text/plain": [
       "'graph.pdf'"
      ]
     },
     "execution_count": 15,
     "metadata": {},
     "output_type": "execute_result"
    }
   ],
   "source": [
    "dot = Digraph('G')\n",
    "\n",
    "dot.edge('main', 'parse')\n",
    "dot.edge('parse', 'execute')\n",
    "\n",
    "dot.edge('main', 'init')\n",
    "dot.edge('main', 'cleanup')\n",
    "\n",
    "dot.edge('execute', 'make_string')\n",
    "dot.edge('execute', 'printf')\n",
    "\n",
    "dot.edge('init', 'make_string')\n",
    "\n",
    "dot.edge('main', 'printf')\n",
    "\n",
    "dot.edge('execute', 'compare')\n",
    "\n",
    "dot.render('graph', format='png')\n",
    "\n",
    "dot.view()"
   ]
  },
  {
   "cell_type": "code",
   "execution_count": 23,
   "metadata": {},
   "outputs": [
    {
     "data": {
      "text/plain": [
       "'ejem.pdf'"
      ]
     },
     "execution_count": 23,
     "metadata": {},
     "output_type": "execute_result"
    }
   ],
   "source": [
    "dot = Digraph('KN1D.py')\n",
    "####\n",
    "##\n",
    "##\n",
    "dot.edge('KN1D \\n details','Kinetik_h \\n details')\n",
    "dot.edge('KN1D \\n details','Kinetic_h2 \\n details')\n",
    "####\n",
    "##\n",
    "##\n",
    "dot.render('ejem', format='png')\n",
    "dot.view()"
   ]
  },
  {
   "cell_type": "code",
   "execution_count": 24,
   "metadata": {},
   "outputs": [
    {
     "data": {
      "text/plain": [
       "'mi_grafico.png'"
      ]
     },
     "execution_count": 24,
     "metadata": {},
     "output_type": "execute_result"
    }
   ],
   "source": [
    "dot = Digraph(comment='Mi gráfico')\n",
    "\n",
    "dot.attr(size='4,4')\n",
    "\n",
    "dot.node('main', shape='box')\n",
    "dot.node('parse')\n",
    "dot.node('execute')\n",
    "dot.node('init', style='dotted')\n",
    "dot.node('cleanup')\n",
    "dot.node('make_string', label='make a\\nstring')\n",
    "dot.node('printf')\n",
    "dot.node('compare')\n",
    "\n",
    "dot.edge('main', 'parse', weight='8')\n",
    "dot.edge('parse', 'execute')\n",
    "dot.edge('main', 'init', style='dotted')\n",
    "dot.edge('main', 'cleanup')\n",
    "dot.edge('execute', 'make_string')\n",
    "dot.edge('execute', 'printf')\n",
    "dot.edge('init', 'make_string')\n",
    "dot.edge('main', 'printf', style='bold', label='100 times')\n",
    "\n",
    "dot.attr('edge', color='red')\n",
    "dot.edge('execute', 'compare')\n",
    "\n",
    "dot.attr('node', shape='box', style='filled', color='.7 .3 1.0')\n",
    "\n",
    "# Render the graph to a file\n",
    "dot.render('mi_grafico', format='png')"
   ]
  },
  {
   "cell_type": "code",
   "execution_count": null,
   "metadata": {},
   "outputs": [],
   "source": []
  }
 ],
 "metadata": {
  "kernelspec": {
   "display_name": "venv_kn1d",
   "language": "python",
   "name": "python3"
  },
  "language_info": {
   "codemirror_mode": {
    "name": "ipython",
    "version": 3
   },
   "file_extension": ".py",
   "mimetype": "text/x-python",
   "name": "python",
   "nbconvert_exporter": "python",
   "pygments_lexer": "ipython3",
   "version": "3.12.4"
  }
 },
 "nbformat": 4,
 "nbformat_minor": 2
}
