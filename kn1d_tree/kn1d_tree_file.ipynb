{
 "cells": [
  {
   "cell_type": "code",
   "execution_count": null,
   "metadata": {},
   "outputs": [],
   "source": [
    "from graphviz import Digraph"
   ]
  },
  {
   "cell_type": "code",
   "execution_count": 2,
   "metadata": {},
   "outputs": [
    {
     "data": {
      "text/plain": [
       "'ejemplo.png'"
      ]
     },
     "execution_count": 2,
     "metadata": {},
     "output_type": "execute_result"
    }
   ],
   "source": [
    "dot = Digraph(comment='ejemplo de grafo')\n",
    "\n",
    "dot.node('A','Nodo A')\n",
    "dot.node('B','Nodo B')\n",
    "dot.node('C','Nodo C')\n",
    "\n",
    "dot.edges(['AB','AC','BC'])\n",
    "dot.edge('C','A',constrint='false')\n",
    "\n",
    "dot.save('ejemplo.dot')\n",
    "dot.render('ejemplo', format='png',view=True)"
   ]
  },
  {
   "cell_type": "code",
   "execution_count": 9,
   "metadata": {},
   "outputs": [],
   "source": [
    "dot = Digraph(comment='KN1D.py')"
   ]
  },
  {
   "cell_type": "code",
   "execution_count": 16,
   "metadata": {},
   "outputs": [
    {
     "data": {
      "text/plain": [
       "'ejem.png'"
      ]
     },
     "execution_count": 16,
     "metadata": {},
     "output_type": "execute_result"
    }
   ],
   "source": [
    "dot = Digraph(comment='KN1D.py')\n",
    "####\n",
    "##\n",
    "##\n",
    "dot.node('A','KN1D \\n Hi')\n",
    "dot.node('B','Kinetic_h')\n",
    "dot.node('C','Kinetic_h2')\n",
    "#dot.node('KN1D','')\n",
    "####\n",
    "##\n",
    "##\n",
    "dot.edges(['AB','AC'])\n",
    "####\n",
    "##\n",
    "##\n",
    "dot.save('ejem.dot')\n",
    "dot.render('ejem', format='png',view=True)"
   ]
  },
  {
   "cell_type": "code",
   "execution_count": 15,
   "metadata": {},
   "outputs": [
    {
     "data": {
      "text/plain": [
       "'graph.pdf'"
      ]
     },
     "execution_count": 15,
     "metadata": {},
     "output_type": "execute_result"
    }
   ],
   "source": [
    "dot = Digraph('G')\n",
    "\n",
    "dot.edge('main', 'parse')\n",
    "dot.edge('parse', 'execute')\n",
    "\n",
    "dot.edge('main', 'init')\n",
    "dot.edge('main', 'cleanup')\n",
    "\n",
    "dot.edge('execute', 'make_string')\n",
    "dot.edge('execute', 'printf')\n",
    "\n",
    "dot.edge('init', 'make_string')\n",
    "\n",
    "dot.edge('main', 'printf')\n",
    "\n",
    "dot.edge('execute', 'compare')\n",
    "\n",
    "dot.render('graph', format='png')\n",
    "\n",
    "dot.view()"
   ]
  },
  {
   "cell_type": "code",
   "execution_count": 23,
   "metadata": {},
   "outputs": [
    {
     "data": {
      "text/plain": [
       "'ejem.pdf'"
      ]
     },
     "execution_count": 23,
     "metadata": {},
     "output_type": "execute_result"
    }
   ],
   "source": [
    "dot = Digraph('KN1D.py')\n",
    "####\n",
    "##\n",
    "##\n",
    "dot.edge('KN1D \\n details','Kinetik_h \\n details')\n",
    "dot.edge('KN1D \\n details','Kinetic_h2 \\n details')\n",
    "####\n",
    "##\n",
    "##\n",
    "dot.render('ejem', format='png')\n",
    "dot.view()"
   ]
  },
  {
   "cell_type": "code",
   "execution_count": 24,
   "metadata": {},
   "outputs": [
    {
     "data": {
      "text/plain": [
       "'mi_grafico.png'"
      ]
     },
     "execution_count": 24,
     "metadata": {},
     "output_type": "execute_result"
    }
   ],
   "source": [
    "dot = Digraph(comment='Mi gráfico')\n",
    "\n",
    "dot.attr(size='4,4')\n",
    "\n",
    "dot.node('main', shape='box')\n",
    "dot.node('parse')\n",
    "dot.node('execute')\n",
    "dot.node('init', style='dotted')\n",
    "dot.node('cleanup')\n",
    "dot.node('make_string', label='make a\\nstring')\n",
    "dot.node('printf')\n",
    "dot.node('compare')\n",
    "\n",
    "dot.edge('main', 'parse', weight='8')\n",
    "dot.edge('parse', 'execute')\n",
    "dot.edge('main', 'init', style='dotted')\n",
    "dot.edge('main', 'cleanup')\n",
    "dot.edge('execute', 'make_string')\n",
    "dot.edge('execute', 'printf')\n",
    "dot.edge('init', 'make_string')\n",
    "dot.edge('main', 'printf', style='bold', label='100 times')\n",
    "\n",
    "dot.attr('edge', color='red')\n",
    "dot.edge('execute', 'compare')\n",
    "\n",
    "dot.attr('node', shape='box', style='filled', color='.7 .3 1.0')\n",
    "\n",
    "# Render the graph to a file\n",
    "dot.render('mi_grafico', format='png')"
   ]
  },
  {
   "cell_type": "markdown",
   "metadata": {},
   "source": [
    "# KN1D map of functions"
   ]
  },
  {
   "cell_type": "code",
   "execution_count": 3,
   "metadata": {},
   "outputs": [
    {
     "data": {
      "text/plain": [
       "'ejem.png'"
      ]
     },
     "execution_count": 3,
     "metadata": {},
     "output_type": "execute_result"
    }
   ],
   "source": [
    "dot = Digraph(comment='KN1D.py')\n",
    "####\n",
    "##\n",
    "##\n",
    "dot.node('A','KN1D \\n Hi')\n",
    "dot.node('B','Kinetic_h')\n",
    "dot.node('C','Kinetic_h2')\n",
    "#dot.node('KN1D','')\n",
    "####\n",
    "##\n",
    "##\n",
    "dot.edges(['AB','AC'])\n",
    "####\n",
    "##\n",
    "##\n",
    "dot.save('ejem.dot')\n",
    "dot.render('ejem', format='png',view=True)"
   ]
  },
  {
   "cell_type": "code",
   "execution_count": 5,
   "metadata": {},
   "outputs": [],
   "source": [
    "# from graphviz import Digraph\n",
    "\n",
    "# dot = Digraph(comment='KN1D IDL Tree')\n",
    "\n",
    "# # Nodo principal\n",
    "# dot.node('KN1D', 'KN1D')\n",
    "\n",
    "# # Nodos secundarios y terciarios\n",
    "# nodes = {\n",
    "#     'A': 'Create_Kinetic_H2_mesh',\n",
    "#     'B': 'Create_Kinetic_H_mesh',\n",
    "#     'C': 'Create_shifted_Maxwellian',\n",
    "#     'D': 'Interp_fVrVxX',\n",
    "#     'E': 'Kinetic_H',\n",
    "#     'F': 'Kinetic_H2',\n",
    "#     'G': 'Lyman_Alpha',\n",
    "#     'H': 'Balmer_Alpha',\n",
    "#     'I': 'integ_bl',\n",
    "#     'J': 'interpol',\n",
    "#     'K': 'type_of',\n",
    "#     'L': 'multiplot',\n",
    "#     'M': 'file_present',\n",
    "#     'N': 'sigmav_ion_HH',\n",
    "#     'O': 'sigmav_H1s_H1s_HH',\n",
    "#     'P': 'sigmav_H1s_H2s_HH',\n",
    "#     'Q': 'sigmav_cx_HH',\n",
    "#     'R': 'sigmav_ion_h0',\n",
    "#     'S': 'collrad_sigmav_ion_h0',\n",
    "#     'T': 'JHS_Coef',\n",
    "#     'U': 'sigmav_cx_h0',\n",
    "#     'V': 'JHAlpha_Coef',\n",
    "#     'W': 'sigmaV_rec_H1s',\n",
    "#     'X': 'sigma_EL_H_H',\n",
    "#     'Y': 'sigma_EL_H_HH',\n",
    "#     'Z': 'sigma_EL_P_H'\n",
    "# }\n",
    "\n",
    "# # Agregar nodos\n",
    "# for key, label in nodes.items():\n",
    "#     dot.node(key, label)\n",
    "\n",
    "# # Agregar conexiones principales\n",
    "# edges = [\n",
    "#     ('KN1D', 'A'), ('KN1D', 'B'), ('KN1D', 'C'), ('KN1D', 'D'),\n",
    "#     ('KN1D', 'E'), ('KN1D', 'F'), ('KN1D', 'G'), ('KN1D', 'H'),\n",
    "#     ('KN1D', 'I'), ('KN1D', 'J'), ('KN1D', 'K'), ('KN1D', 'L'),\n",
    "#     ('KN1D', 'M'), ('KN1D', 'N'), ('KN1D', 'O'), ('KN1D', 'P'),\n",
    "#     ('KN1D', 'Q'), ('KN1D', 'R'), ('KN1D', 'S'), ('KN1D', 'T'),\n",
    "#     ('KN1D', 'U'), ('KN1D', 'V'), ('KN1D', 'W'), ('KN1D', 'X'),\n",
    "#     ('KN1D', 'Y'), ('KN1D', 'Z')\n",
    "# ]\n",
    "\n",
    "# for edge in edges:\n",
    "#     dot.edge(*edge)\n",
    "\n",
    "# # Guardar y renderizar\n",
    "# dot.save('kn1d_tree.dot')\n",
    "# dot.render('kn1d_tree', format='png', view=True)\n"
   ]
  }
 ],
 "metadata": {
  "kernelspec": {
   "display_name": "venv_kn1d",
   "language": "python",
   "name": "python3"
  },
  "language_info": {
   "codemirror_mode": {
    "name": "ipython",
    "version": 3
   },
   "file_extension": ".py",
   "mimetype": "text/x-python",
   "name": "python",
   "nbconvert_exporter": "python",
   "pygments_lexer": "ipython3",
   "version": "3.11.2"
  }
 },
 "nbformat": 4,
 "nbformat_minor": 2
}
