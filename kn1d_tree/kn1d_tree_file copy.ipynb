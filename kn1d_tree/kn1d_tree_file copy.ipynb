{
 "cells": [
  {
   "cell_type": "code",
   "execution_count": 2,
   "metadata": {},
   "outputs": [
    {
     "data": {
      "text/plain": [
       "'graph.pdf'"
      ]
     },
     "execution_count": 2,
     "metadata": {},
     "output_type": "execute_result"
    }
   ],
   "source": [
    "from graphviz import Digraph\n",
    "\n",
    "# Crear un nuevo objeto Digraph\n",
    "dot = Digraph('G')\n",
    "\n",
    "# Agregar nodos y aristas\n",
    "dot.edge('main', 'parse')\n",
    "dot.edge('parse', 'execute')\n",
    "\n",
    "dot.edge('main', 'init')\n",
    "dot.edge('main', 'cleanup')\n",
    "\n",
    "dot.edge('execute', 'make_string')\n",
    "dot.edge('execute', 'printf')\n",
    "\n",
    "dot.edge('init', 'make_string')\n",
    "\n",
    "dot.edge('main', 'printf')\n",
    "\n",
    "dot.edge('execute', 'compare')\n",
    "\n",
    "# Guardar el gráfico en un archivo\n",
    "dot.render('graph', format='png')\n",
    "\n",
    "# Si estás en un entorno que permite la visualización, puedes usar:\n",
    "dot.view()\n",
    "\n"
   ]
  }
 ],
 "metadata": {
  "kernelspec": {
   "display_name": "venv_kn1d",
   "language": "python",
   "name": "python3"
  },
  "language_info": {
   "codemirror_mode": {
    "name": "ipython",
    "version": 3
   },
   "file_extension": ".py",
   "mimetype": "text/x-python",
   "name": "python",
   "nbconvert_exporter": "python",
   "pygments_lexer": "ipython3",
   "version": "3.11.2"
  }
 },
 "nbformat": 4,
 "nbformat_minor": 2
}
