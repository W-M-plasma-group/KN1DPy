{
 "cells": [
  {
   "cell_type": "code",
   "execution_count": 138,
   "metadata": {},
   "outputs": [],
   "source": [
    "import numpy as np\n",
    "import copy\n",
    "from scipy.interpolate import bisplev\n",
    "import matplotlib.pyplot as plt"
   ]
  },
  {
   "cell_type": "markdown",
   "metadata": {},
   "source": [
    "# Parámetros de entrada"
   ]
  },
  {
   "cell_type": "code",
   "execution_count": 230,
   "metadata": {},
   "outputs": [],
   "source": [
    "Density = np.array([8.529762443780424e+17, 1.166678028854428e+18, 1.628554083661188e+18, 2.036659383130584e+18, 2.227688922516581e+18, 2.41467000241316e+18,  \n",
    "  2.471536926117491e+18, 2.474587257751732e+18, 2.53455740085265e+18, 2.78766324060693e+18, 3.052330238189064e+18, 3.376314044293282e+18,  \n",
    "  3.721903043739879e+18, 4.085641866071011e+18, 4.490563821868612e+18, 4.900116555792079e+18, 5.328639951013514e+18, 5.763411516283688e+18,  \n",
    "  6.258668445493425e+18, 6.884897529217857e+18, 7.532562105659867e+18, 8.245540842577419e+18, 8.978140610546499e+18, 9.764932881845998e+18,  \n",
    "  1.064510309244566e+19, 1.154562457754335e+19, 1.246612004855399e+19, 1.339219824189277e+19, 1.438086279128058e+19, 1.546895051172811e+19,  \n",
    "  1.658441456492423e+19, 1.77591632810782e+19, 1.894972647814284e+19, 2.012007708775305e+19, 2.125441644021092e+19, 2.23744660734298e+19,  \n",
    "  2.335807233084692e+19, 2.430258503689977e+19, 2.513778011485848e+19, 2.58486679791199e+19, 2.650697354927826e+19, 2.696688810884831e+19,  \n",
    "  2.736885360390719e+19, 2.767755514734248e+19, 2.78985161142427e+19, 2.807845973719836e+19, 2.821134945302991e+19, 2.832900993717576e+19,  \n",
    "  2.847840626093951e+19, 2.86658701262413e+19, 2.888495514205416e+19, 2.925228520795812e+19, 2.968227027287051e+19, 3.02519331399673e+19,  \n",
    "  3.094773278270731e+19, 3.173437902821304e+19, 3.27048806536534e+19, 3.376853862466836e+19, 3.492394055726716e+19, 3.615236348329313e+19,  \n",
    "  3.742302914930352e+19, 3.869119468231002e+19, 3.99577748280879e+19, 4.114727167111908e+19, 4.226633624201875e+19, 4.331837908428376e+19,  \n",
    "  4.426173988189363e+19, 4.512142801431744e+19, 4.597899743671135e+19, 4.684002055130495e+19, 4.77702241322341e+19, 4.893563197939785e+19,  \n",
    "  5.033180439327269e+19, 5.337742052312856e+19, 5.791871199181192e+19, 6.391859573325524e+19, 7.153223284268655e+19, 8.085473007409258e+19,  \n",
    "  8.79982692019479e+19, 9.307127112966591e+19, 9.830697941199636e+19, 1.071174126556021e+20, 1.202394332201221e+20, 1.309072041363556e+20,  \n",
    "  1.39150859397991e+20, 1.452980223823099e+20, 1.497733580469721e+20, 1.520364062762668e+20, 1.542557778545155e+20, 1.564299413692613e+20,  \n",
    "  1.58574779016409e+20, 1.60707354245483e+20, 1.628226997976754e+20, 1.648657845199277e+20, 1.668274043353586e+20, 1.687353998163313e+20,  \n",
    "  1.706122383620804e+20, 1.724443928750773e+20, 1.7420658108391e+20, 1.758827826988874e+20, 1.774878239179623e+20, 1.790223412895964e+20,  \n",
    "  1.804526508166777e+20, 1.817531365519266e+20, 1.828690366046071e+20, 1.839198092155461e+20, 1.849705773749886e+20, 1.860213579120357e+20,  \n",
    "  1.870721252762004e+20, 1.881229141639989e+20, 1.89173700285943e+20, 1.902244750275706e+20, 1.912752425715314e+20, 1.923260205225596e+20,  \n",
    "  1.933768010378759e+20, 1.943999010430651e+20, 1.953612264256265e+20, 1.962303432238066e+20, 1.970064594125254e+20, 1.975424922456411e+20,  \n",
    "  1.980360523630629e+20, 1.985296069031725e+20, 1.990231618600746e+20, 1.995167168038527e+20, 2.000102843650515e+20, 2.005032831018369e+20,  \n",
    "  2.00994699819287e+20, 2.014758731108977e+20, 2.019153318855567e+20, 2.021724053956685e+20, 2.024151617578905e+20, 2.026579244559852e+20,  \n",
    "  2.029006934973297e+20, 2.03143456894858e+20, 2.033862270378502e+20, 2.036289872884774e+20, 2.038717469980017e+20, 2.041145120381283e+20,  \n",
    "  2.04357282187226e+20, 2.046000388646562e+20, 2.048428113435099e+20, 2.050855777300937e+20, 2.053283381187215e+20, 2.055711077294206e+20,  \n",
    "  2.05813856787738e+20])\n",
    "Te = np.array([9.34678840637207, 9.34678840637207, 9.34678840637207, 9.34678840637207, 9.34678840637207, 9.34678840637207,  \n",
    "  9.34678840637207, 9.34678840637207, 9.34678840637207, 9.34678840637207, 9.34678840637207, 9.34678840637207,  \n",
    "  9.34678840637207, 9.34678840637207, 9.34678840637207, 9.34678840637207, 9.34678840637207, 9.34678840637207,  \n",
    "  9.353203155001086, 9.373764910512076, 9.396642210011589, 9.550901584045615, 9.744629809912034, 10.01682774035412,  \n",
    "  10.41942009712586, 10.85043167558095, 11.30267208320391, 11.76084605210844, 12.24974725618487, 12.78601164914653,  \n",
    "  13.33531789914654, 13.89692424116531, 14.46181227367745, 15.00772384603196, 15.52499085599722, 16.03142479493324,  \n",
    "  16.46155264211707, 16.86981647052882, 17.22322479786068, 17.51513957277031, 17.7805713299966, 17.92301563922854,  \n",
    "  18.02953533334086, 18.0895014881993, 18.10810470581055, 18.10810470581055, 18.10810470581055, 18.10810470581055,  \n",
    "  18.10810470581055, 18.10810470581055, 18.1091793529839, 18.12300873972003, 18.14222841093713, 18.20386173910835,  \n",
    "  18.30656848699226, 18.44081540916582, 18.65152197654864, 18.90097003801679, 19.20510905753286, 19.55525068296369,  \n",
    "  19.93960698368101, 20.3674885456835, 20.82293073944747, 21.29202885203345, 21.77093977995033, 22.25529679264035,  \n",
    "  22.73730356825286, 23.21750177986635, 23.71196117904358, 24.21942507741451, 24.75868421143798, 25.38127615479738,  \n",
    "  26.08562981408275, 26.98923976005779, 28.07260860790412, 29.32705803311105, 30.76285644939662, 32.39069096405154,  \n",
    "  34.31278264239886, 36.50471401412148, 39.01950698141633, 41.95052863465907, 45.38358121853592, 48.89483031320226,  \n",
    "  52.47814567891719, 56.13221024260849, 59.85522399943026, 63.66947087443037, 67.30889626515891, 70.76738782792263,  \n",
    "  74.12886042388425, 77.48437862513902, 80.83153765158241, 84.14353032793755, 87.41589319964561, 90.66862540859704,  \n",
    "  93.91925609236498, 97.16686839705258, 100.4097654770221, 103.6468601572802, 106.8813194176123, 110.1153191780616,  \n",
    "  113.3486302592922, 116.5810976805658, 119.8123560740639, 123.0431883947535, 126.2740210794686, 129.5048540076918,  \n",
    "  132.7357154141247, 135.9665968426143, 139.1974716126723, 142.4283277992856, 145.6591656433962, 148.8900049012087,  \n",
    "  152.1208329717689, 155.3516514221974, 158.5824483330587, 161.8132068782287, 165.0439107844788, 168.2745193646292,  \n",
    "  171.5051044332725, 174.7356847540415, 177.9662626015533, 181.1968297890534, 184.4274078516455, 187.6579881699361,  \n",
    "  190.8885684376991, 194.1191480988735, 197.3497289582486, 200.5802971068594, 203.8108726892539, 207.041468607837,  \n",
    "  210.2720826893039, 213.5026878610286, 216.7332803796783, 219.9638631844349, 223.1944373076061, 226.4250054964035,  \n",
    "  229.6555730069151, 232.8861521772006, 236.1167232480625, 239.3472975044651, 242.5778734442176, 245.8084411693878,  \n",
    "  249.0390220287629])\t\t"
   ]
  },
  {
   "cell_type": "code",
   "execution_count": null,
   "metadata": {},
   "outputs": [],
   "source": [
    "Density.min(),Density.max(),Density.shape"
   ]
  },
  {
   "cell_type": "code",
   "execution_count": null,
   "metadata": {},
   "outputs": [],
   "source": [
    "Te.min(),Te.max(),Te.shape"
   ]
  },
  {
   "cell_type": "code",
   "execution_count": null,
   "metadata": {},
   "outputs": [],
   "source": [
    "from scipy.io import readsav\n",
    "\n",
    "filename = 'jh_bscoef.dat'  # Nombre del archivo\n",
    "idl_data = readsav(filename)\n",
    "print(\"Datos cargados correctamente desde el archivo IDL.\")"
   ]
  },
  {
   "cell_type": "code",
   "execution_count": null,
   "metadata": {},
   "outputs": [],
   "source": [
    "idl_data.keys()"
   ]
  },
  {
   "cell_type": "code",
   "execution_count": 142,
   "metadata": {},
   "outputs": [],
   "source": [
    "DKnot = copy.copy(idl_data['dknot'])\n",
    "TKnot = copy.copy(idl_data['tknot'])\n",
    "order = copy.copy(idl_data['order'])\n",
    "LogR_BSCoef = copy.copy(idl_data['LogR_BSCoef'])\n",
    "LogS_BSCoef = copy.copy(idl_data['logs_bscoef'])\n",
    "LogAlpha_BSCoef = copy.copy(idl_data['logalpha_bscoef'])\n",
    "A_Balmer = copy.copy(idl_data['a_balmer'])\n",
    "A_Lyman  = copy.copy(idl_data['a_lyman'])"
   ]
  },
  {
   "cell_type": "code",
   "execution_count": 143,
   "metadata": {},
   "outputs": [],
   "source": [
    "# Convertir los datos a un tipo de datos específico de Python\n",
    "DKnot = DKnot.astype(np.float32)   # Convierte a float64 por defecto\n",
    "TKnot = TKnot.astype(np.float32)\n",
    "order = order.astype(np.int32)     # Convierte a int32 por defecto\n",
    "LogR_BSCoef = LogR_BSCoef.astype(np.float32)\n",
    "LogS_BSCoef = LogS_BSCoef.astype(np.float32)\n",
    "LogAlpha_BSCoef = LogAlpha_BSCoef.astype(np.float32)\n",
    "A_Balmer = A_Balmer.astype(np.float32)\n",
    "A_Lyman = A_Lyman.astype(np.float32)\n"
   ]
  },
  {
   "cell_type": "code",
   "execution_count": 144,
   "metadata": {},
   "outputs": [],
   "source": [
    "if len(Density)!=len(Te):\n",
    "    print('Number of elements of Density and Te are different!')"
   ]
  },
  {
   "cell_type": "code",
   "execution_count": 145,
   "metadata": {},
   "outputs": [],
   "source": [
    "Result = np.full_like(Density, 1.0e32) # This line, takes the dimensions of Density and fill the new array Result with all its values as 1e32\n",
    "LDensity = np.log(Density)\n",
    "LTe = np.log(Te)"
   ]
  },
  {
   "cell_type": "code",
   "execution_count": null,
   "metadata": {},
   "outputs": [],
   "source": [
    "dk_new_len = len(DKnot)-order\n",
    "tk_new_len = len(TKnot)-order"
   ]
  },
  {
   "cell_type": "code",
   "execution_count": 182,
   "metadata": {},
   "outputs": [],
   "source": [
    "No_null=0\n",
    "if No_null:\n",
    "    LDensity = np.clip(LDensity,min(DKnot),max(DKnot))\n",
    "    LTe      = np.clip(LTe     ,min(TKnot),max(TKnot))\n",
    "    count    = len(LDensity)\n",
    "    ok       = np.arange(count)\n",
    "else:\n",
    "    ok = np.where(np.logical_and.reduce((LDensity <= max(DKnot),\n",
    "                                         LDensity >= min(DKnot),\n",
    "                                         LTe      <= max(TKnot),\n",
    "                                         LTe      >= min(TKnot))))[0]\n",
    "    count = len(ok)\n",
    "# if count > 0:\n",
    "#     for i in ok: \n",
    "#         Result[i]=(bisplev(LDensity[i],LTe[i],(DKnot,TKnot,LogS_BSCoef,3,3),0,0))\n",
    "        # Result[i]=(bisplev(LDensity[i],LTe[i],(DKnot[:5],TKnot,LogS_BSCoef[0:55],4,3),0,0))\n",
    "   "
   ]
  },
  {
   "cell_type": "code",
   "execution_count": null,
   "metadata": {},
   "outputs": [],
   "source": [
    "DKnot"
   ]
  },
  {
   "cell_type": "code",
   "execution_count": null,
   "metadata": {},
   "outputs": [],
   "source": [
    "TKnot"
   ]
  },
  {
   "cell_type": "code",
   "execution_count": 129,
   "metadata": {},
   "outputs": [],
   "source": [
    "from scipy.interpolate import bisplrep"
   ]
  },
  {
   "cell_type": "code",
   "execution_count": null,
   "metadata": {},
   "outputs": [],
   "source": [
    "Dknot_subset = DKnot[2:-2]  # Longitud 7\n",
    "Tknot_subset = TKnot[2:-2]  # Longitud 11\n",
    "# Desplazando los elementos iniciales una cantidad infinitesimal\n",
    "Dknot_subset[0]  -= 1e-5\n",
    "Dknot_subset[-1] += 1e-5 \n",
    "print(Dknot_subset)\n",
    "Tknot_subset[0]  -= 1e-5\n",
    "Tknot_subset[-1] += 1e-5 \n",
    "print(Tknot_subset)\n",
    "\n",
    "Dk_weights = np.ones_like(Dknot_subset)\n",
    "Dk_weights[ 0] = 0.5  # Menor peso al primer valor\n",
    "Dk_weights[-1] = 0.5  # Menor peso al último valor\n",
    "\n",
    "Tk_weights = np.ones_like(Tknot_subset)\n",
    "Tk_weights[ 0] = 0.5  # Menor peso al primer valor\n",
    "Tk_weights[-1] = 0.5  # Menor peso al último valor\n",
    "D_wgrid, T_wgrid = np.meshgrid(Dk_weights, Tk_weights, indexing=\"ij\")\n",
    "D_fwgrid = D_wgrid.flatten()\n",
    "T_fwgrid = T_wgrid.flatten()\n",
    "# # Crear una cuadrícula 2D para las coordenadas\n",
    "D_grid, T_grid = np.meshgrid(Dknot_subset, Tknot_subset, indexing=\"ij\")\n",
    "\n",
    "# # Aplanar las coordenadas y los valores de la función\n",
    "D_flat = D_grid.flatten()\n",
    "T_flat = T_grid.flatten()\n",
    "Bs_flat = LogS_BSCoef.flatten()  # Asegurar que los valores también estén aplanados\n",
    "\n",
    "print(len(D_fwgrid), '\\n',len(T_fwgrid))"
   ]
  },
  {
   "cell_type": "code",
   "execution_count": null,
   "metadata": {},
   "outputs": [],
   "source": [
    "w_ones = 0.1*np.ones((7,11))\n",
    "w_ones_int = np.ones((5,9))\n",
    "\n",
    "w_ones[1:-1,1:-1] = copy.copy(w_ones_int)\n",
    "w_ones\n"
   ]
  },
  {
   "cell_type": "code",
   "execution_count": 192,
   "metadata": {},
   "outputs": [],
   "source": [
    "tck = bisplrep(D_flat, T_flat, Bs_flat, kx=3, ky=3, w=w_ones.flatten(),s=200)"
   ]
  },
  {
   "cell_type": "code",
   "execution_count": null,
   "metadata": {},
   "outputs": [],
   "source": [
    "tck"
   ]
  },
  {
   "cell_type": "code",
   "execution_count": 193,
   "metadata": {},
   "outputs": [],
   "source": [
    "if count > 0:\n",
    "    for i in ok: \n",
    "        Result[i]=(bisplev(LDensity[i],LTe[i],tck,0,0))"
   ]
  },
  {
   "cell_type": "code",
   "execution_count": 194,
   "metadata": {},
   "outputs": [],
   "source": [
    "# Crear las mallas para las grillas\n",
    "Dknot_grid, Tknot_grid = np.meshgrid(Dknot_subset, Tknot_subset)\n",
    "LDensity_grid, LTe_grid = np.meshgrid(LDensity, LTe)\n",
    "\n",
    "# Matrices de ejemplo (sustituir con LogS_BSCoef y Result)\n",
    "# LogS_BSCoef = np.sin(Dknot_grid) * np.cos(Tknot_grid)  # Sustituir por tus datos reales\n",
    "# Result = np.sin(LDensity_grid) * np.cos(LTe_grid)  # Sustituir por tus datos reales\n",
    "\n",
    "# Crear la figura y los ejes 3D\n",
    "fig = plt.figure(figsize=(12, 6))\n",
    "\n",
    "# Superficie 1: LogS_BSCoef\n",
    "ax1 = fig.add_subplot(111, projection='3d')\n",
    "surf1 = ax1.plot_surface(Dknot_grid, Tknot_grid, LogS_BSCoef.reshape((11,7)), cmap='viridis', alpha=0.8)\n",
    "# ax1.plot_wireframe(Dknot_grid, Tknot_grid, reshaped_LogS_BSCoef)\n",
    "ax1.set_title('LogS_BSCoef')\n",
    "ax1.set_xlabel('Dknot')\n",
    "ax1.set_ylabel('Tknot')\n",
    "ax1.set_zlabel('Values')\n",
    "# fig.colorbar(surf1, ax=ax1, shrink=0.5, aspect=10)\n",
    "ax1.scatter(Dknot_grid, Tknot_grid, LogS_BSCoef.reshape((11,7)), color='g', s=2**2,alpha=0.5)\n",
    "ax1.scatter(LDensity, LTe, Result, color='red', s=1**2,alpha=0.5)\n",
    "\n",
    "# Mostrar el gráfico\n",
    "plt.tight_layout()\n",
    "plt.show()\n"
   ]
  },
  {
   "cell_type": "code",
   "execution_count": 111,
   "metadata": {},
   "outputs": [],
   "source": [
    "plt.scatter(LDensity,LTe,c=Result,s=2**2)\n",
    "plt.show()"
   ]
  },
  {
   "cell_type": "code",
   "execution_count": 112,
   "metadata": {},
   "outputs": [],
   "source": [
    "dk_new_len = len(DKnot)-order\n",
    "tk_new_len = len(TKnot)-order\n",
    "\n",
    "new_DKnot = copy.copy(DKnot[2:-2])\n",
    "new_TKnot = copy.copy(TKnot[2:-2])\n",
    "\n",
    "reshaped_LogS_BSCoef = LogS_BSCoef.reshape((tk_new_len,dk_new_len))"
   ]
  },
  {
   "cell_type": "code",
   "execution_count": null,
   "metadata": {},
   "outputs": [],
   "source": [
    "fig = plt.figure(figsize=(12, 6))\n",
    "ax1 = fig.add_subplot(111, projection='3d')\n",
    "ax1.scatter(LDensity, LTe, Result, color='red', s=1**2,alpha=0.5)"
   ]
  },
  {
   "cell_type": "code",
   "execution_count": null,
   "metadata": {},
   "outputs": [],
   "source": [
    "break"
   ]
  },
  {
   "cell_type": "code",
   "execution_count": 133,
   "metadata": {},
   "outputs": [],
   "source": [
    "import numpy as np\n",
    "import matplotlib.pyplot as plt\n",
    "from mpl_toolkits.mplot3d import Axes3D\n",
    "\n",
    "# Datos de entrada\n",
    "# Dknot = np.linspace(0, 10, 50)  # Ejemplo, sustituir con tus datos reales\n",
    "# Tknot = np.linspace(0, 5, 30)   # Ejemplo, sustituir con tus datos reales\n",
    "# LDensity = np.linspace(0, 10, 100)  # Ejemplo, sustituir con tus datos reales\n",
    "# LTe = np.linspace(0, 5, 60)        # Ejemplo, sustituir con tus datos reales\n",
    "\n",
    "# Crear las mallas para las grillas\n",
    "Dknot_grid, Tknot_grid = np.meshgrid(new_DKnot, new_TKnot)\n",
    "LDensity_grid, LTe_grid = np.meshgrid(LDensity, LTe)\n",
    "\n",
    "# Matrices de ejemplo (sustituir con LogS_BSCoef y Result)\n",
    "# LogS_BSCoef = np.sin(Dknot_grid) * np.cos(Tknot_grid)  # Sustituir por tus datos reales\n",
    "# Result = np.sin(LDensity_grid) * np.cos(LTe_grid)  # Sustituir por tus datos reales\n",
    "\n",
    "# Crear la figura y los ejes 3D\n",
    "fig = plt.figure(figsize=(12, 6))\n",
    "\n",
    "# Superficie 1: LogS_BSCoef\n",
    "ax1 = fig.add_subplot(111, projection='3d')\n",
    "surf1 = ax1.plot_surface(Dknot_grid, Tknot_grid, reshaped_LogS_BSCoef, cmap='viridis', alpha=0.8)\n",
    "# ax1.plot_wireframe(Dknot_grid, Tknot_grid, reshaped_LogS_BSCoef)\n",
    "ax1.set_title('LogS_BSCoef')\n",
    "ax1.set_xlabel('Dknot')\n",
    "ax1.set_ylabel('Tknot')\n",
    "ax1.set_zlabel('Values')\n",
    "# fig.colorbar(surf1, ax=ax1, shrink=0.5, aspect=10)\n",
    "ax1.scatter(Dknot_grid, Tknot_grid, reshaped_LogS_BSCoef, color='g', s=2**2,alpha=0.5)\n",
    "ax1.scatter(LDensity, LTe, Result, color='red', s=1**2,alpha=0.5)\n",
    "\n",
    "# Mostrar el gráfico\n",
    "plt.tight_layout()\n",
    "plt.show()\n"
   ]
  },
  {
   "cell_type": "code",
   "execution_count": null,
   "metadata": {},
   "outputs": [],
   "source": [
    "import numpy as np\n",
    "import matplotlib.pyplot as plt\n",
    "from mpl_toolkits.mplot3d import Axes3D\n",
    "\n",
    "# Datos de entrada\n",
    "# Dknot = np.linspace(0, 10, 50)  # Ejemplo, sustituir con tus datos reales\n",
    "# Tknot = np.linspace(0, 5, 30)   # Ejemplo, sustituir con tus datos reales\n",
    "# LDensity = np.linspace(0, 10, 100)  # Ejemplo, sustituir con tus datos reales\n",
    "# LTe = np.linspace(0, 5, 60)        # Ejemplo, sustituir con tus datos reales\n",
    "\n",
    "# Crear las mallas para las grillas\n",
    "Dknot_grid, Tknot_grid = np.meshgrid(Dknot, Tknot)\n",
    "LDensity_grid, LTe_grid = np.meshgrid(LDensity, LTe)\n",
    "\n",
    "# Matrices de ejemplo (sustituir con LogS_BSCoef y Result)\n",
    "LogS_BSCoef = np.sin(Dknot_grid) * np.cos(Tknot_grid)  # Sustituir por tus datos reales\n",
    "Result = np.sin(LDensity_grid) * np.cos(LTe_grid)  # Sustituir por tus datos reales\n",
    "\n",
    "# Crear la figura y los ejes 3D\n",
    "fig = plt.figure(figsize=(10, 8))\n",
    "ax = fig.add_subplot(111, projection='3d')\n",
    "\n",
    "# Superficie 1: LogS_BSCoef\n",
    "surf1 = ax.plot_surface(Dknot_grid, Tknot_grid, LogS_BSCoef, cmap='viridis', alpha=0.1)\n",
    "\n",
    "# Superficie 2: Result\n",
    "surf2 = ax.plot_surface(LDensity_grid, LTe_grid, Result, cmap='plasma', alpha=0.1)\n",
    "\n",
    "# Añadir título y etiquetas\n",
    "ax.set_title('Comparación de LogS_BSCoef y Result')\n",
    "ax.set_xlabel('Dknot / LDensity')\n",
    "ax.set_ylabel('Tknot / LTe')\n",
    "ax.set_zlabel('Values')\n",
    "\n",
    "# Añadir barra de color\n",
    "fig.colorbar(surf1, ax=ax, shrink=0.5, aspect=10, label='LogS_BSCoef')\n",
    "fig.colorbar(surf2, ax=ax, shrink=0.5, aspect=10, label='Result')\n",
    "\n",
    "# Mostrar el gráfico\n",
    "plt.tight_layout()\n",
    "plt.show()\n"
   ]
  },
  {
   "cell_type": "code",
   "execution_count": 2,
   "metadata": {},
   "outputs": [],
   "source": []
  },
  {
   "cell_type": "code",
   "execution_count": 46,
   "metadata": {},
   "outputs": [],
   "source": [
    "import numpy as np\n",
    "import matplotlib.pyplot as plt\n",
    "from mpl_toolkits.mplot3d import Axes3D\n",
    "\n",
    "# Datos de entrada\n",
    "Dknot = np.linspace(0, 10, 50)  # Ejemplo, sustituir con tus datos reales\n",
    "Tknot = np.linspace(0, 5, 30)   # Ejemplo, sustituir con tus datos reales\n",
    "LDensity = np.linspace(0, 10, 100)  # Ejemplo, sustituir con tus datos reales\n",
    "LTe = np.linspace(0, 5, 60)        # Ejemplo, sustituir con tus datos reales\n",
    "\n",
    "# Crear las mallas para las grillas\n",
    "Dknot_grid, Tknot_grid = np.meshgrid(Dknot, Tknot)\n",
    "LDensity_grid, LTe_grid = np.meshgrid(LDensity, LTe)\n",
    "\n",
    "# Matrices de ejemplo (sustituir con LogS_BSCoef y Result)\n",
    "LogS_BSCoef = np.sin(Dknot_grid) * np.cos(Tknot_grid)  # Sustituir por tus datos reales\n",
    "Result = np.sin(LDensity_grid) * np.cos(LTe_grid)  # Sustituir por tus datos reales\n",
    "\n",
    "# Crear la figura y los ejes 3D\n",
    "fig = plt.figure(figsize=(10, 8))\n",
    "ax = fig.add_subplot(111, projection='3d')\n",
    "\n",
    "# Enmallado 1: LogS_BSCoef\n",
    "ax.plot_wireframe(Dknot_grid, Tknot_grid, LogS_BSCoef,color='red', alpha=0.5)\n",
    "ax.scatter(Dknot_grid, Tknot_grid, LogS_BSCoef, color='red', s=1**2,alpha=0.5)\n",
    "# ax.plot(Dknot_grid, Tknot_grid, LogS_BSCoef,'o',color='g')\n",
    "# Enmallado 2: Result\n",
    "ax.plot_wireframe(LDensity_grid, LTe_grid, Result, color='b',alpha=0.5)\n",
    "ax.scatter(LDensity_grid, LTe_grid, Result, color='b', s=1**2, alpha=0.5)\n",
    "# ax.plot(LDensity_grid, LTe_grid, Result,'o',color='r')\n",
    "\n",
    "# Añadir título y etiquetas\n",
    "ax.set_title('Enmallado de LogS_BSCoef y Result')\n",
    "ax.set_xlabel('Dknot / LDensity')\n",
    "ax.set_ylabel('Tknot / LTe')\n",
    "ax.set_zlabel('Values')\n",
    "# ax.view_init(elev=30,azim=10)\n",
    "\n",
    "# Mostrar el gráfico\n",
    "plt.tight_layout()\n",
    "plt.show()\n"
   ]
  },
  {
   "cell_type": "code",
   "execution_count": null,
   "metadata": {},
   "outputs": [],
   "source": [
    "break"
   ]
  },
  {
   "cell_type": "markdown",
   "metadata": {},
   "source": [
    "# Intentos anteriores"
   ]
  },
  {
   "cell_type": "code",
   "execution_count": 199,
   "metadata": {},
   "outputs": [],
   "source": [
    "R = np.zeros((7, 11, 2, 5), dtype=np.float64)\n",
    "DENS=np.array([1.E10,1.E11,1.E12,1.E13,1.E14,1.E15,1.E16])\n",
    "TEMP=np.array([.345,.69,1.38,2.76,5.52,11.0,22.1,44.1,88.0,176.5,706.])\n",
    "R[:, :, 0, 0] = np.array([7.6E-6,1.1E-5,1.9E-5,4.9E-5,2.4E-4,2.2E-3,1.8e-2,\n",
    "                        1.5E-3,1.8E-3,2.5E-3,4.5E-3,1.3E-2,7.1E-2,3.7e-1,\n",
    "                        2.6E-2,2.9E-2,3.5E-2,4.9E-2,9.6E-2,3.2E-1,7.8e-1,\n",
    "                        1.3E-1,1.4E-1,1.5E-1,1.9E-1,2.8E-1,6.1E-1,9.2e-1,\n",
    "                        3.6E-1,3.7E-1,3.8E-1,4.2E-1,5.2E-1,8.0E-1,9.6e-1,\n",
    "                        6.9E-1,6.9E-1,7.0E-1,7.3E-1,7.9E-1,9.2E-1,9.8e-1,\n",
    "                        1.1,   1.1,   1.1,   1.1,   1.1,   1.0,   1.0,\n",
    "                        1.5,   1.5,   1.5,   1.5,   1.4,   1.1,   1.0,\n",
    "                        2.0,   2.0,   1.9,   1.9,   1.7,   1.3,   1.0,\n",
    "                        2.4,   2.4,   2.4,   2.3,   2.1,   1.4,   1.1,\n",
    "                        3.4,   3.4,   3.3,   3.2,   2.9,   2.0,   1.2]).reshape(7, 11)\n",
    "R[:, :, 1, 0] = np.array([2.5E-7,2.5E-6,2.5E-5,2.5E-4,2.5E-3,2.4E-2,2.0e-1,\n",
    "                        1.9E-7,1.9E-6,1.9E-5,1.9E-4,1.9E-3,1.8E-2,1.0e-1,\n",
    "                        1.6E-7,1.6E-6,1.6E-5,1.6E-4,1.5E-3,1.1E-2,3.2e-2,\n",
    "                        1.5E-7,1.5E-6,1.5E-5,1.5E-4,1.3E-3,7.2E-3,1.3e-2,\n",
    "                        1.6E-7,1.6E-6,1.6E-5,1.5E-4,1.3E-3,5.4E-3,8.0e-3,\n",
    "                        1.8E-7,1.8E-6,1.8E-5,1.7E-4,1.4E-3,5.1E-3,7.0e-3,\n",
    "                        2.1E-7,2.1E-6,2.1E-5,2.0E-4,1.6E-3,5.6E-3,7.5e-3,\n",
    "                        2.3E-7,2.3E-6,2.3E-5,2.2E-4,1.7E-3,6.3E-3,8.7e-3,\n",
    "                        2.3E-7,2.3E-6,2.3E-5,2.2E-4,1.8E-3,7.0E-3,1.0e-2,\n",
    "                        2.2e-7,2.2e-6,2.1e-5,2.1e-4,1.7e-3,7.4e-3,1.1e-2,\n",
    "                        1.6E-7,1.6E-6,1.6E-5,1.6E-4,1.4E-3,7.2E-3,1.3e-2]).reshape(7,11)\n",
    "R[:, :, 0, 1] = np.array([2.2E-3,3.1E-3,6.0E-3,2.2E-2,1.3E-1,3.5E-1,4.2e-1,\n",
    "                        2.6E-2,3.3E-2,5.0E-2,1.2E-1,4.3E-1,7.2E-1,8.5e-1,\n",
    "                        1.1E-1,1.3E-1,1.6E-1,3.0E-1,6.8E-1,8.9E-1,9.7e-1,\n",
    "                        2.7E-1,2.9E-1,3.4E-1,5.0E-1,8.2E-1,9.5E-1,9.9e-1,\n",
    "                        4.8E-1,5.0E-1,5.4E-1,6.8E-1,9.0E-1,9.8E-1,1.0,\n",
    "                        7.3E-1,7.4E-1,7.7E-1,8.5E-1,9.5E-1,9.9E-1,1.0,\n",
    "                        1.0,1.0,1.0,1.0,1.0,1.0,1.0,\n",
    "                        1.3,1.3,1.3,1.2,1.1,1.0,1.0,\n",
    "                        1.6,1.6,1.5,1.4,1.1,1.0,1.0,\n",
    "                        1.9,1.9,1.8,1.6,1.2,1.1,1.0,\n",
    "                        2.5,2.4,2.4,2.1,1.5,1.1,1.0]).reshape(7,11)\n",
    "R[:,:,1,1] = np.array([1.0E-7,1.0E-6,1.0E-5,1.0E-4,1.1E-3,1.3E-2,1.1e-1,\n",
    "                        8.2E-8,8.1E-7,8.0E-6,7.7E-5,6.1E-4,4.5E-3,4.2e-2,\n",
    "                        7.1E-8,7.0E-7,6.8E-6,5.9E-5,3.3E-4,1.6E-3,4.1e-3,\n",
    "                        6.8E-8,6.7E-7,6.3E-6,4.9E-5,2.1E-4,7.3E-4,1.2e-3,\n",
    "                        7.2E-8,7.0E-7,6.5E-6,4.7E-5,1.8E-4,4.9E-4,6.8e-4,\n",
    "                        8.1E-8,7.8E-7,7.2E-6,5.1E-5,1.9E-4,4.5E-4,5.8e-4,\n",
    "                        9.1E-8,8.9E-7,8.2E-6,5.8E-5,2.1E-4,5.0E-4,6.4e-4,\n",
    "                        9.7E-8,9.5E-7,8.8E-6,6.5E-5,2.5E-4,6.0E-4,7.6e-4,\n",
    "                        9.7E-8,9.4E-7,8.8E-6,6.7E-5,2.7E-4,6.9E-4,9.1e-4,\n",
    "                        8.9e-8,8.7e-7,8.2e-6,6.5e-5,2.8e-4,7.6e-4,1.0e-3,\n",
    "                        6.5E-8,6.4E-7,6.1E-6,5.2E-5,2.7E-4,8.0E-4,1.2e-3]).reshape(7,11)\n",
    "R[:,:,0,2] = np.array([1.8E-2,2.8E-2,7.3E-2,3.1E-1,6.0E-1,7.4E-1,7.7e-1,\n",
    "                        8.2E-2,1.1E-1,2.2E-1,5.6E-1,8.3E-1,9.3E-1,9.6e-1,\n",
    "                        2.0E-1,2.4E-1,3.9E-1,7.4E-1,9.2E-1,.98,.99,\n",
    "                        3.7E-1,4.1E-1,5.7E-1,8.4E-1,9.6E-1,.99,1.0,\n",
    "                        5.6E-1,6.0E-1,7.2E-1,9.0E-1,9.8E-1,1.0,1.0,\n",
    "                        7.7E-1,7.9E-1,8.5E-1,9.5E-1,9.9E-1,1.0,1.0,\n",
    "                        9.9E-1,9.9E-1,9.9E-1,1.0,1.0,1.0,1.0,\n",
    "                        1.2,1.2,1.1,1.1,1.0,1.0,1.0,\n",
    "                        1.4,1.4,1.3,1.1,1.0,1.0,1.0,\n",
    "                        1.7,1.6,1.5,1.2,1.1,1.0,1.0,\n",
    "                        2.1,2.1,1.9,1.5,1.1,1.0,1.0]).reshape(7,11)\n",
    "R[:,:,1,2] = np.array([7.2E-8,7.1E-7,6.9E-6,5.7E-5,4.8E-4,5.3E-3,4.5e-2,\n",
    "                        5.9E-8,5.7E-7,5.1E-6,3.1E-5,1.7E-4,1.1E-3,5.9e-3,\n",
    "                        5.1E-8,4.9E-7,4.0E-6,1.9E-5,7.1E-5,3.0E-4,7.8e-4,\n",
    "                        4.8E-8,4.5E-7,3.4E-6,1.4E-5,4.2E-5,1.3E-4,2.1e-4,\n",
    "                        5.0E-8,4.7E-7,3.4E-6,1.3E-5,3.5E-5,8.6E-5,1.2e-4,\n",
    "                        5.6E-8,5.2E-7,3.7E-6,1.4E-5,3.6E-5,8.1E-5,1.0e-4,\n",
    "                        6.3E-8,5.9E-7,4.3E-6,1.6E-5,4.3E-5,9.3E-5,1.2e-4,\n",
    "                        6.7E-8,6.3E-7,4.8E-6,1.9E-5,5.2E-5,1.1E-4,1.4e-4,\n",
    "                        6.6E-8,6.3E-7,4.9E-6,2.1E-5,5.9E-5,1.3E-4,1.7e-4,\n",
    "                        6.1e-8,5.8e-7,4.7e-6,2.2e-5,6.3e-5,1.4e-4,2.0e-4,\n",
    "                        4.4E-8,4.2E-7,3.7E-6,2.0E-5,6.4E-5,1.6E-4,2.5e-4]).reshape(7,11)\n",
    "R[:,:,0,3] = np.array([5.5E-2,1.E-1,3.3E-1,6.8E-1,8.5E-1,.9,.92,\n",
    "                        1.5E-1,2.4E-1,5.5E-1,8.4E-1,9.5E-1,.98,.99,\n",
    "                        2.9E-1,4.0E-1,7.0E-1,9.1E-1,9.8E-1,.99,1.0,\n",
    "                        4.5E-1,5.5E-1,8.E-1,9.5E-1,9.9E-1,1.0,1.0,\n",
    "                        6.2E-1,7.0E-1,8.7E-1,9.7E-1,9.9E-1,1.0,1.0,\n",
    "                        8.0E-1,8.4E-1,9.3E-1,9.8E-1,1.0,1.0,1.0,\n",
    "                        9.8E-1,9.8E-1,9.9E-1,1.0,1.0,1.0,1.0,\n",
    "                        1.2,1.1,1.1,1.0,1.0,1.0,1.0,\n",
    "                        1.4,1.3,1.2,1.0,1.0,1.0,1.0,\n",
    "                        1.5,1.5,1.3,1.1,1.0,1.0,1.0,\n",
    "                        1.9,1.9,1.6,1.2,1.0,1.0,1.0]).reshape(7,11)\n",
    "R[:,:,1,3] = np.array([6.0E-8,5.7E-7,4.4E-6,2.5E-5,1.8E-4,2.0E-3,1.6e-2,\n",
    "                        4.8E-8,4.4E-7,2.7E-6,1.1E-5,5.0E-5,3.2E-4,1.7e-3,\n",
    "                        4.1E-8,3.5E-7,1.8E-6,5.9E-6,1.9E-5,8.1E-5,2.0e-4,\n",
    "                        3.8E-8,3.2E-7,1.5E-6,4.2E-6,1.1E-5,3.4E-5,5.5e-5,\n",
    "                        4.0E-8,3.2E-7,1.4E-6,3.8E-6,9.4E-6,2.3E-5,3.1e-5,\n",
    "                        4.4E-8,3.6E-7,1.6E-6,4.3E-6,1.0E-5,2.2E-5,2.8e-5,\n",
    "                        5.0E-8,4.1E-7,1.9E-6,5.2E-6,1.2E-5,2.5E-5,3.2e-5,\n",
    "                        5.3E-8,4.5E-7,2.2E-6,6.2E-6,1.5E-5,3.1E-5,3.9e-5,\n",
    "                        5.2E-8,4.5E-7,2.4E-6,7.1E-6,1.7E-5,3.7E-5,4.8e-5,\n",
    "                        4.8e-8,4.3e-7,2.4e-6,7.6e-6,1.9e-5,4.3e-5,5.7e-5,\n",
    "                        3.5E-8,3.2E-7,2.1E-6,7.5E-6,2.0E-5,4.8E-5,7.2e-5]).reshape(7,11)\n",
    "R[:,:,0,4] = np.array([1.1E-1,2.7E-1,6.4E-1,8.6E-1,9.4E-1,.96,.97,\n",
    "                        2.4E-1,4.5E-1,7.9E-1,9.4E-1,9.8E-1,.99,1.0,\n",
    "                        3.8E-1,6.E-1,8.7E-1,9.7E-1,9.9E-1,1.0,1.0,\n",
    "                        5.3E-1,7.2E-1,9.1E-1,9.8E-1,1.0,1.0,1.0,\n",
    "                        6.8E-1,8.1E-1,9.4E-1,9.9E-1,1.0,1.0,1.0,\n",
    "                        8.2E-1,9.0E-1,9.7E-1,9.9E-1,1.0,1.0,1.0,\n",
    "                        9.7E-1,9.9E-1,1.0,1.0,1.0,1.0,1.0,\n",
    "                        1.1,1.1,1.0,1.0,1.0,1.0,1.0,\n",
    "                        1.3,1.2,1.1,1.0,1.0,1.0,1.0,\n",
    "                        1.5,1.3,1.1,1.0,1.0,1.0,1.0,\n",
    "                        1.8,1.7,1.3,1.1,1.0,1.0,1.0]).reshape(7,11)\n",
    "R[:,:,1,4] = np.array([5.2E-8,4.3E-7,2.3E-6,1.0E-5,7.2E-5,7.7E-4,6.5e-3,\n",
    "                        4.1E-8,3.0E-7,1.2E-6,4.0E-6,1.7E-5,1.1E-4,5.9e-4,\n",
    "                        3.4E-8,2.2E-7,7.7E-7,2.1E-6,6.6E-6,2.7E-5,6.8e-5,\n",
    "                        3.1E-8,1.9E-7,6.0E-7,1.5E-6,3.8E-6,1.1E-5,1.8e-5,\n",
    "                        3.2E-8,1.9E-7,5.9E-7,1.4E-6,3.2E-6,7.7E-6,1.0e-5,\n",
    "                        3.6E-8,2.1E-7,6.7E-7,1.6E-6,3.5E-6,7.5E-6,9.5e-6,\n",
    "                        4.1E-8,2.5E-7,8.2E-7,1.9E-6,4.3E-6,8.9E-6,1.1e-5,\n",
    "                        4.4E-8,2.9E-7,9.8E-7,2.4E-6,5.3E-6,1.1E-5,1.4e-5,\n",
    "                        4.4E-8,3.0E-7,1.1E-6,2.7E-6,6.3E-6,1.3E-5,1.7e-5,\n",
    "                        4.0e-8,3.0e-7,1.2e-6,3.0e-6,7.0e-6,1.5e-5,2.1e-5,\n",
    "                        3.0E-8,2.4E-7,1.1E-6,3.1E-6,7.5E-6,1.8E-5,2.6e-5]).reshape(7,11)"
   ]
  },
  {
   "cell_type": "code",
   "execution_count": 200,
   "metadata": {},
   "outputs": [],
   "source": [
    "s = np.zeros((len(DENS),len(TEMP)), dtype=np.float64)\n",
    "s[:,0] = np.array([1.2e-12,1.7e-12,2.9e-12,7.1e-12,2.7e-11,1.6e-10,1.4e-9])\n",
    "s[:,1] = np.array([6.1e-13,7.3e-13,1.0e-12,1.7e-12,3.9e-12,1.4e-11,7.1e-11])\n",
    "s[:,2] = np.array([3.3e-13,3.6e-13,4.3e-13,5.7e-13,9.2e-13,2.0e-12,4.8e-12])\n",
    "s[:,3] = np.array([1.8e-13,1.9e-13,2.1e-13,2.4e-13,3.1e-13,4.8e-13,7.0e-13])\n",
    "s[:,4] = np.array([1.0e-13,1.0e-13,1.1e-13,1.2e-13,1.3e-13,1.6e-13,1.9e-13])\n",
    "s[:,5] = np.array([5.6e-14,5.7e-14,5.7e-14,5.9e-14,6.1e-14,6.5e-14,7.2e-14])\n",
    "s[:,6] = np.array([3.0e-14,3.0e-14,3.0e-14,3.0e-14,3.0e-14,3.0e-14,3.2e-14])\n",
    "s[:,7] = np.array([1.5e-14,1.5e-14,1.5e-14,1.5e-14,1.5e-14,1.4e-14,1.5e-14])\n",
    "s[:,8] = np.array([7.3e-15,7.3e-15,7.2e-15,7.1e-15,6.9e-15,6.6e-15,6.7e-15])\n",
    "s[:,9] = np.array([3.4e-15,3.4e-15,3.3e-15,3.3e-15,3.2e-15,3.0e-15,3.0e-15])\n",
    "s[:,10]= np.array([6.5e-16,6.5e-16,6.4e-16,6.4e-16,6.2e-16,5.8e-16,5.7e-16])\n",
    "s=s*1.0e-6\n",
    "alpha = np.zeros((len(DENS),len(TEMP)),dtype=np.float64)\n",
    "alpha[:,0] = np.array([1.2e-12,1.7e-12,2.9e-12,7.1e-12,2.7e-11,1.6e-10,1.4e-9])\n",
    "alpha[:,1] = np.array([6.1e-13,7.3e-13,1.0e-12,1.7e-12,3.9e-12,1.4e-11,7.1e-11])\n",
    "alpha[:,2] = np.array([3.3e-13,3.6e-13,4.3e-13,5.7e-13,9.2e-13,2.0e-12,4.8e-12])\n",
    "alpha[:,3] = np.array([1.8e-13,1.9e-13,2.1e-13,2.4e-13,3.1e-13,4.8e-13,7.0e-13])\n",
    "alpha[:,4] = np.array([1.0e-13,1.0e-13,1.1e-13,1.2e-13,1.3e-13,1.6e-13,1.9e-13])\n",
    "alpha[:,5] = np.array([5.6e-14,5.7e-14,5.7e-14,5.9e-14,6.1e-14,6.5e-14,7.2e-14])\n",
    "alpha[:,6] = np.array([3.0e-14,3.0e-14,3.0e-14,3.0e-14,3.0e-14,3.0e-14,3.2e-14])\n",
    "alpha[:,7] = np.array([1.5e-14,1.5e-14,1.5e-14,1.5e-14,1.5e-14,1.4e-14,1.5e-14])\n",
    "alpha[:,8] = np.array([7.3e-15,7.3e-15,7.2e-15,7.1e-15,6.9e-15,6.6e-15,6.7e-15])\n",
    "alpha[:,9] = np.array([3.4e-15,3.4e-15,3.3e-15,3.3e-15,3.2e-15,3.0e-15,3.0e-15])\n",
    "alpha[:,10]= np.array([6.5e-16,6.5e-16,6.4e-16,6.4e-16,6.2e-16,5.8e-16,5.7e-16])\n",
    "alpha=alpha*1.0e-6"
   ]
  },
  {
   "cell_type": "code",
   "execution_count": 201,
   "metadata": {},
   "outputs": [],
   "source": [
    "A_lyman     = np.array([4.699E8,5.575E7,1.278E7,4.125E6,1.644E6,7.568E5,3.869E5,\n",
    "                        2.143E5,1.263E5,7.834E4,5.066E4,3.393E4,2.341E4,1.657E4,1.200E4])\n",
    "A_balmer    = np.array([4.41E7,8.42E6,2.53E6,9.732E5,4.389e5,2.215e5,1.216e5,\n",
    "                        7.122e4,4.397e4,2.83e4,18288.8,12249.1,8451.26,5981.95,4332.13])"
   ]
  },
  {
   "cell_type": "code",
   "execution_count": 202,
   "metadata": {},
   "outputs": [],
   "source": [
    "LogDensity  = np.log(DENS*1.0e6)\n",
    "LogTe       = np.log(TEMP)\n",
    "LogR        = np.log(R)\n",
    "LogS        = np.log(s)\n",
    "LogAlpha    = np.log(alpha)\n",
    "order = 4"
   ]
  },
  {
   "cell_type": "code",
   "execution_count": null,
   "metadata": {},
   "outputs": [],
   "source": [
    "s.shape,LogDensity.shape,LogTe.shape  "
   ]
  },
  {
   "cell_type": "code",
   "execution_count": 207,
   "metadata": {},
   "outputs": [],
   "source": [
    "# LogDensity,LogTe,LogS"
   ]
  },
  {
   "cell_type": "code",
   "execution_count": null,
   "metadata": {},
   "outputs": [],
   "source": [
    "# Crear la figura y los ejes 3D\n",
    "fig = plt.figure(figsize=(12, 6))\n",
    "ax1 = fig.add_subplot(111, projection='3d')\n"
   ]
  },
  {
   "cell_type": "code",
   "execution_count": null,
   "metadata": {},
   "outputs": [],
   "source": [
    "# tck = bisplrep(D_flat, T_flat, Bs_flat, kx=3, ky=3, w=w_ones.flatten(),s=200)"
   ]
  },
  {
   "cell_type": "code",
   "execution_count": null,
   "metadata": {},
   "outputs": [],
   "source": [
    "for nIon in range(2):\n",
    "    for np in range(2, 7):\n",
    "        print('nIon:',nIon,'np-2:',np-2)\n",
    "        print(LogR[:,:,nIon,np-2])\n",
    "        # BSCoef = bs2in(LogDensity, LogTe, reform(LogR[:, :, nIon, np - 2]), order, order, DKnot, TKnot)\n",
    "        # LogR_BSCoef[:, nIon, np - 2] = BSCoef"
   ]
  },
  {
   "cell_type": "code",
   "execution_count": 87,
   "metadata": {},
   "outputs": [],
   "source": [
    "\n",
    "from scipy.interpolate import RectBivariateSpline"
   ]
  },
  {
   "cell_type": "code",
   "execution_count": null,
   "metadata": {},
   "outputs": [],
   "source": []
  },
  {
   "cell_type": "code",
   "execution_count": null,
   "metadata": {},
   "outputs": [],
   "source": []
  },
  {
   "cell_type": "code",
   "execution_count": null,
   "metadata": {},
   "outputs": [],
   "source": [
    "break"
   ]
  },
  {
   "cell_type": "code",
   "execution_count": null,
   "metadata": {},
   "outputs": [],
   "source": []
  },
  {
   "cell_type": "code",
   "execution_count": null,
   "metadata": {},
   "outputs": [],
   "source": [
    "# Dimensiones y arreglo para almacenar los coeficientes\n",
    "LogR_BSCoef = np.zeros((len(LogDensity) * len(LogTe), 2, 5))\n",
    "\n",
    "print(\"Computing B-Spline coefficients for r0 and r1 values\")\n",
    "for nIon in range(2):  # nIon = 0, 1\n",
    "    for np_ in range(2, 7):  # np = 2, 3, 4, 5, 6\n",
    "        # Reshape LogR para que coincida con los requerimientos de scipy\n",
    "        data = LogR[:, :, nIon, np_ - 2]\n",
    "        \n",
    "        # Crear el spline bicúbico\n",
    "        spline = RectBivariateSpline(LogDensity, LogTe, data, kx=order - 1, ky=order - 1)\n",
    "        \n",
    "        # Extraer los coeficientes\n",
    "        LogR_BSCoef[:, nIon, np_ - 2] = spline.get_coeffs()\n",
    "\n",
    "# Coeficientes para LogS y LogAlpha\n",
    "print(\"Computing B-Spline coefficients for S and alpha values\")\n",
    "LogS_BSCoef = np.zeros(len(LogDensity) * len(LogTe))\n",
    "LogAlpha_BSCoef = np.zeros(len(LogDensity) * len(LogTe))\n",
    "\n",
    "# Crear splines para LogS y LogAlpha\n",
    "spline_S = RectBivariateSpline(LogDensity, LogTe, LogS, kx=order - 1, ky=order - 1)\n",
    "LogS_BSCoef = spline_S.get_coeffs()\n",
    "\n",
    "spline_Alpha = RectBivariateSpline(LogDensity, LogTe, LogAlpha, kx=order - 1, ky=order - 1)\n",
    "LogAlpha_BSCoef = spline_Alpha.get_coeffs()"
   ]
  },
  {
   "cell_type": "code",
   "execution_count": null,
   "metadata": {},
   "outputs": [],
   "source": [
    "LogR_BSCoef"
   ]
  },
  {
   "cell_type": "code",
   "execution_count": null,
   "metadata": {},
   "outputs": [],
   "source": [
    "LogAlpha_BSCoef"
   ]
  },
  {
   "cell_type": "code",
   "execution_count": null,
   "metadata": {},
   "outputs": [],
   "source": [
    "break"
   ]
  },
  {
   "cell_type": "markdown",
   "metadata": {},
   "source": [
    "# ChatGPT version"
   ]
  },
  {
   "cell_type": "code",
   "execution_count": null,
   "metadata": {},
   "outputs": [],
   "source": [
    "import numpy as np\n",
    "from scipy.interpolate import RectBivariateSpline\n",
    "\n",
    "# Define los datos de entrada\n",
    "nxdata = 11\n",
    "nydata = 11\n",
    "xdata = np.linspace(0, 1, nxdata)  # Puntos en la dirección X\n",
    "ydata = np.linspace(0, 1, nydata)  # Puntos en la dirección Y\n",
    "\n",
    "# Genera los valores de la función\n",
    "def f(x, y):\n",
    "    return x**4 + x**2 * y\n",
    "\n",
    "fdata = np.array([[f(x, y) for y in ydata] for x in xdata])\n",
    "\n",
    "# Realiza la interpolación\n",
    "kx = 3  # Orden en X\n",
    "ky = 3  # Orden en Y\n",
    "spline = RectBivariateSpline(xdata, ydata, fdata, kx=kx, ky=ky)\n",
    "\n",
    "# Puntos para evaluar el spline\n",
    "xvec = np.linspace(0, 1, 4)\n",
    "yvec = np.linspace(0, 1, 4)\n",
    "\n",
    "# Evalúa el spline en los puntos\n",
    "results = np.array([[spline(x, y)[0][0] for y in yvec] for x in xvec])\n",
    "\n",
    "# Calcula los errores\n",
    "expected = np.array([[f(x, y) for y in yvec] for x in xvec])\n",
    "errors = results - expected\n",
    "\n",
    "# Imprime los resultados\n",
    "print(\"X, Y, S(X,Y), Error\")\n",
    "for i, x in enumerate(xvec):\n",
    "    for j, y in enumerate(yvec):\n",
    "        print(f\"{x:.4f}, {y:.4f}, {results[i, j]:.4f}, {errors[i, j]:.4e}\")\n"
   ]
  },
  {
   "cell_type": "code",
   "execution_count": null,
   "metadata": {},
   "outputs": [],
   "source": [
    "import numpy as np\n",
    "from scipy.interpolate import bisplrep, bisplev\n",
    "import matplotlib.pyplot as plt\n",
    "from mpl_toolkits.mplot3d import Axes3D\n",
    "\n",
    "# Datos originales\n",
    "xdata = np.linspace(-1.0, 1.0, 21)\n",
    "ydata = np.linspace(-1.0, 1.0, 6)\n",
    "X, Y = np.meshgrid(xdata, ydata)\n",
    "fdata = X**2 + Y**2\n",
    "\n",
    "# Aplanar datos para bisplrep\n",
    "x_flat = X.flatten()\n",
    "y_flat = Y.flatten()\n",
    "f_flat = fdata.flatten()\n",
    "\n",
    "# Ajuste del spline con suavizado calibrado\n",
    "kxord = 3\n",
    "kyord = 3\n",
    "s = 0.01  # Parámetro de suavizado ajustado\n",
    "tck = bisplrep(x_flat, y_flat, f_flat, kx=kxord - 1, ky=kyord - 1, s=s)\n",
    "\n",
    "# Evaluación del spline en una malla más fina\n",
    "x_eval = np.linspace(-1.0, 1.0, 50)\n",
    "y_eval = np.linspace(-1.0, 1.0, 50)\n",
    "X_eval, Y_eval = np.meshgrid(x_eval, y_eval)\n",
    "Z_eval = bisplev(x_eval, y_eval, tck)\n",
    "\n",
    "# Crear gráficos\n",
    "fig = plt.figure(figsize=(14, 6))\n",
    "\n",
    "# Gráfico de los datos originales\n",
    "ax1 = fig.add_subplot(121, projection='3d')\n",
    "ax1.plot_surface(X, Y, fdata, cmap='viridis', edgecolor='k', alpha=0.7)\n",
    "ax1.scatter(x_flat, y_flat, f_flat, color='r', s=10, label='Datos originales')\n",
    "ax1.set_title(\"Datos originales\")\n",
    "ax1.set_xlabel(\"X\")\n",
    "ax1.set_ylabel(\"Y\")\n",
    "ax1.set_zlabel(\"f(X, Y)\")\n",
    "ax1.view_init(elev=25, azim=-77)\n",
    "ax1.legend()\n",
    "\n",
    "# Gráfico del spline ajustado\n",
    "ax2 = fig.add_subplot(122, projection='3d')\n",
    "ax2.plot_surface(X_eval, Y_eval, np.array(Z_eval).T, cmap='plasma', edgecolor='k', alpha=0.7)\n",
    "ax2.scatter(x_flat, y_flat, f_flat, color='r', s=10, label='Datos originales')\n",
    "ax2.set_title(\"Spline ajustado con suavizado\")\n",
    "ax2.set_xlabel(\"X\")\n",
    "ax2.set_ylabel(\"Y\")\n",
    "ax2.set_zlabel(\"f(X, Y) ajustado\")\n",
    "ax2.view_init(elev=25, azim=-77)\n",
    "plt.tight_layout()\n",
    "plt.show()\n"
   ]
  },
  {
   "cell_type": "code",
   "execution_count": null,
   "metadata": {},
   "outputs": [],
   "source": [
    "R = np.zeros((7, 11, 2, 5), dtype=np.float64)\n",
    "print(np.shape(R[:,:,0,0]))"
   ]
  },
  {
   "cell_type": "markdown",
   "metadata": {},
   "source": [
    "# Interpolación desde cero"
   ]
  },
  {
   "cell_type": "code",
   "execution_count": 225,
   "metadata": {},
   "outputs": [],
   "source": [
    "n=np.array([1.E10,1.E11,1.E12,1.E13,1.E14,1.E15,1.E16])\n",
    "t=np.array([.345,.69,1.38,2.76,5.52,11.0,22.1,44.1,88.0,176.5,706.])\n",
    "\n",
    "s = np.zeros((len(n),len(t)), dtype=np.float64)\n",
    "s[:,0] = np.array([1.2e-12,1.7e-12,2.9e-12,7.1e-12,2.7e-11,1.6e-10,1.4e-9])\n",
    "s[:,1] = np.array([6.1e-13,7.3e-13,1.0e-12,1.7e-12,3.9e-12,1.4e-11,7.1e-11])\n",
    "s[:,2] = np.array([3.3e-13,3.6e-13,4.3e-13,5.7e-13,9.2e-13,2.0e-12,4.8e-12])\n",
    "s[:,3] = np.array([1.8e-13,1.9e-13,2.1e-13,2.4e-13,3.1e-13,4.8e-13,7.0e-13])\n",
    "s[:,4] = np.array([1.0e-13,1.0e-13,1.1e-13,1.2e-13,1.3e-13,1.6e-13,1.9e-13])\n",
    "s[:,5] = np.array([5.6e-14,5.7e-14,5.7e-14,5.9e-14,6.1e-14,6.5e-14,7.2e-14])\n",
    "s[:,6] = np.array([3.0e-14,3.0e-14,3.0e-14,3.0e-14,3.0e-14,3.0e-14,3.2e-14])\n",
    "s[:,7] = np.array([1.5e-14,1.5e-14,1.5e-14,1.5e-14,1.5e-14,1.4e-14,1.5e-14])\n",
    "s[:,8] = np.array([7.3e-15,7.3e-15,7.2e-15,7.1e-15,6.9e-15,6.6e-15,6.7e-15])\n",
    "s[:,9] = np.array([3.4e-15,3.4e-15,3.3e-15,3.3e-15,3.2e-15,3.0e-15,3.0e-15])\n",
    "s[:,10]= np.array([6.5e-16,6.5e-16,6.4e-16,6.4e-16,6.2e-16,5.8e-16,5.7e-16])\n",
    "s=s*1.0e-6\n",
    "\n",
    "log_n  = np.log(n*1.0e6)\n",
    "log_t  = np.log(t)\n",
    "log_s  = np.log(s)"
   ]
  },
  {
   "cell_type": "code",
   "execution_count": null,
   "metadata": {},
   "outputs": [],
   "source": [
    "import matplotlib.pyplot as plt\n",
    "from mpl_toolkits.mplot3d import Axes3D\n",
    "# Crear una malla para el gráfico 3D\n",
    "lng,ltg = np.meshgrid(log_n, log_t, indexing='ij')\n",
    "\n",
    "print(lng.shape,ltg.shape)\n",
    "r = np.ones_like(lng)\n",
    "\n",
    "# Crear el gráfico 3D\n",
    "fig = plt.figure(figsize=(10, 6))\n",
    "ax = fig.add_subplot(111, projection='3d')\n",
    "\n",
    "# Gráfico de superficie\n",
    "ax.plot_surface(lng, ltg, log_s, cmap='viridis', edgecolor='k')\n",
    "\n",
    "# Etiquetas\n",
    "ax.set_xlabel('log_n')\n",
    "ax.set_ylabel('log_t')\n",
    "ax.set_zlabel('log_s')\n",
    "# ax.set_title('Ejemplo de superficie 3D')"
   ]
  },
  {
   "cell_type": "code",
   "execution_count": 3,
   "metadata": {},
   "outputs": [],
   "source": [
    "%matplotlib qt\n",
    "#### plotea en un cuadro aparte"
   ]
  },
  {
   "cell_type": "code",
   "execution_count": null,
   "metadata": {},
   "outputs": [],
   "source": [
    "%matplotlib inline \n",
    "#### plotea en línea"
   ]
  },
  {
   "cell_type": "code",
   "execution_count": null,
   "metadata": {},
   "outputs": [],
   "source": []
  },
  {
   "cell_type": "markdown",
   "metadata": {},
   "source": [
    "# Interpolación lograda"
   ]
  },
  {
   "cell_type": "code",
   "execution_count": 2,
   "metadata": {},
   "outputs": [
    {
     "data": {
      "image/png": "[encoded data removed]",
      "text/plain": [
       "<Figure size 1200x800 with 1 Axes>"
      ]
     },
     "metadata": {},
     "output_type": "display_data"
    }
   ],
   "source": [
    "import numpy as np\n",
    "from scipy.interpolate import RectBivariateSpline\n",
    "import matplotlib.pyplot as plt\n",
    "\n",
    "# Datos iniciales\n",
    "n_data = np.array([1.E10, 1.E11, 1.E12, 1.E13, 1.E14, 1.E15, 1.E16])\n",
    "n_data = n_data*1.0e6   # Convierte de cm^{-3} a m^{-3}\n",
    "t_data = np.array([.345, .69, 1.38, 2.76, 5.52, 11.0, 22.1, 44.1, 88.0, 176.5, 706.])\n",
    "# ------------------------------------------------------------------------------------------\n",
    "s_data = np.zeros((len(n_data), len(t_data)), dtype=np.float64)\n",
    "# ::::::::::::::::::::::::::::::::::::::::::::::::::::::::::::::::::::::::::::::::::::::::::\n",
    "s_data[:, 0] = np.array([1.2e-12, 1.7e-12, 2.9e-12, 7.1e-12, 2.7e-11, 1.6e-10, 1.4e-9])\n",
    "s_data[:, 1] = np.array([6.1e-13, 7.3e-13, 1.0e-12, 1.7e-12, 3.9e-12, 1.4e-11, 7.1e-11])\n",
    "s_data[:, 2] = np.array([3.3e-13, 3.6e-13, 4.3e-13, 5.7e-13, 9.2e-13, 2.0e-12, 4.8e-12])\n",
    "s_data[:, 3] = np.array([1.8e-13, 1.9e-13, 2.1e-13, 2.4e-13, 3.1e-13, 4.8e-13, 7.0e-13])\n",
    "s_data[:, 4] = np.array([1.0e-13, 1.0e-13, 1.1e-13, 1.2e-13, 1.3e-13, 1.6e-13, 1.9e-13])\n",
    "s_data[:, 5] = np.array([5.6e-14, 5.7e-14, 5.7e-14, 5.9e-14, 6.1e-14, 6.5e-14, 7.2e-14])\n",
    "s_data[:, 6] = np.array([3.0e-14, 3.0e-14, 3.0e-14, 3.0e-14, 3.0e-14, 3.0e-14, 3.2e-14])\n",
    "s_data[:, 7] = np.array([1.5e-14, 1.5e-14, 1.5e-14, 1.5e-14, 1.5e-14, 1.4e-14, 1.5e-14])\n",
    "s_data[:, 8] = np.array([7.3e-15, 7.3e-15, 7.2e-15, 7.1e-15, 6.9e-15, 6.6e-15, 6.7e-15])\n",
    "s_data[:, 9] = np.array([3.4e-15, 3.4e-15, 3.3e-15, 3.3e-15, 3.2e-15, 3.0e-15, 3.0e-15])\n",
    "s_data[:, 10] = np.array([6.5e-16, 6.5e-16, 6.4e-16, 6.4e-16, 6.2e-16, 5.8e-16, 5.7e-16])\n",
    "# ------------------------------------------------------------------------------------------\n",
    "# Convertir data de cm^{3} s^{-1} to m^{3} s^{-1}\n",
    "s_data = s_data * 1.0e-6\n",
    "\n",
    "alpha_data=np.zeros((len(n_data), len(t_data)), dtype=np.float64)\n",
    "alpha_data[:,0] = np.array([1.2e-12,1.7e-12,2.9e-12,7.1e-12,2.7e-11,1.6e-10,1.4e-9])\n",
    "alpha_data[:,1] = np.array([6.1e-13,7.3e-13,1.0e-12,1.7e-12,3.9e-12,1.4e-11,7.1e-11])\n",
    "alpha_data[:,2] = np.array([3.3e-13,3.6e-13,4.3e-13,5.7e-13,9.2e-13,2.0e-12,4.8e-12])\n",
    "alpha_data[:,3] = np.array([1.8e-13,1.9e-13,2.1e-13,2.4e-13,3.1e-13,4.8e-13,7.0e-13])\n",
    "alpha_data[:,4] = np.array([1.0e-13,1.0e-13,1.1e-13,1.2e-13,1.3e-13,1.6e-13,1.9e-13])\n",
    "alpha_data[:,5] = np.array([5.6e-14,5.7e-14,5.7e-14,5.9e-14,6.1e-14,6.5e-14,7.2e-14])\n",
    "alpha_data[:,6] = np.array([3.0e-14,3.0e-14,3.0e-14,3.0e-14,3.0e-14,3.0e-14,3.2e-14])\n",
    "alpha_data[:,7] = np.array([1.5e-14,1.5e-14,1.5e-14,1.5e-14,1.5e-14,1.4e-14,1.5e-14])\n",
    "alpha_data[:,8] = np.array([7.3e-15,7.3e-15,7.2e-15,7.1e-15,6.9e-15,6.6e-15,6.7e-15])\n",
    "alpha_data[:,9] = np.array([3.4e-15,3.4e-15,3.3e-15,3.3e-15,3.2e-15,3.0e-15,3.0e-15])\n",
    "alpha_data[:,10] = np.array([6.5e-16,6.5e-16,6.4e-16,6.4e-16,6.2e-16,5.8e-16,5.7e-16])\n",
    "# ------------------------------------------------------------------------------------------\n",
    "# Convertir data de cm^{3} s^{-1} to m^{3} s^{-1}\n",
    "alpha_data = alpha_data*1.0e-6\n",
    "\n",
    "\n",
    "\n",
    "\n",
    "# Se toman los logaritmos a los datos iniciales\n",
    "log_n_data  = np.log(n_data)\n",
    "log_t_data  = np.log(t_data)\n",
    "log_s_data  = np.log(s_data)\n",
    "log_alpha_data = np.log(alpha_data)\n",
    "\n",
    "# Crear el interpolador\n",
    "interpolator = RectBivariateSpline(log_n_data, log_t_data, log_s_data)\n",
    "# ------------------------------------------------------------------------------------------\n",
    "# Datos a Interpolar\n",
    "# ------------------------------------------------------------------------------------------\n",
    "# Se proveen los puntos donde se requiere la interpolación:\n",
    "# Datos Inventados, pero tomando el mín y máx de cada uno\n",
    "# n_to_interp = np.linspace(8.529762443780424e+17, 2.05813856787738e+20, 145)\n",
    "# t_to_interp = np.linspace(9.34678840637207, 249.0390220287629, 145)\n",
    "# Datos reales\n",
    "n_to_interp = np.array([8.529762443780424e+17, 1.166678028854428e+18, 1.628554083661188e+18, 2.036659383130584e+18, 2.227688922516581e+18, 2.41467000241316e+18,  \n",
    "                        2.471536926117491e+18, 2.474587257751732e+18, 2.53455740085265e+18,  2.78766324060693e+18,  3.052330238189064e+18, 3.376314044293282e+18,  \n",
    "                        3.721903043739879e+18, 4.085641866071011e+18, 4.490563821868612e+18, 4.900116555792079e+18, 5.328639951013514e+18, 5.763411516283688e+18,  \n",
    "                        6.258668445493425e+18, 6.884897529217857e+18, 7.532562105659867e+18, 8.245540842577419e+18, 8.978140610546499e+18, 9.764932881845998e+18,  \n",
    "                        1.064510309244566e+19, 1.154562457754335e+19, 1.246612004855399e+19, 1.339219824189277e+19, 1.438086279128058e+19, 1.546895051172811e+19,  \n",
    "                        1.658441456492423e+19, 1.77591632810782e+19,  1.894972647814284e+19, 2.012007708775305e+19, 2.125441644021092e+19, 2.23744660734298e+19,  \n",
    "                        2.335807233084692e+19, 2.430258503689977e+19, 2.513778011485848e+19, 2.58486679791199e+19,  2.650697354927826e+19, 2.696688810884831e+19,  \n",
    "                        2.736885360390719e+19, 2.767755514734248e+19, 2.78985161142427e+19,  2.807845973719836e+19, 2.821134945302991e+19, 2.832900993717576e+19,  \n",
    "                        2.847840626093951e+19, 2.86658701262413e+19,  2.888495514205416e+19, 2.925228520795812e+19, 2.968227027287051e+19, 3.02519331399673e+19,  \n",
    "                        3.094773278270731e+19, 3.173437902821304e+19, 3.27048806536534e+19,  3.376853862466836e+19, 3.492394055726716e+19, 3.615236348329313e+19,  \n",
    "                        3.742302914930352e+19, 3.869119468231002e+19, 3.99577748280879e+19,  4.114727167111908e+19, 4.226633624201875e+19, 4.331837908428376e+19,  \n",
    "                        4.426173988189363e+19, 4.512142801431744e+19, 4.597899743671135e+19, 4.684002055130495e+19, 4.77702241322341e+19,  4.893563197939785e+19,  \n",
    "                        5.033180439327269e+19, 5.337742052312856e+19, 5.791871199181192e+19, 6.391859573325524e+19, 7.153223284268655e+19, 8.085473007409258e+19,  \n",
    "                        8.79982692019479e+19,  9.307127112966591e+19, 9.830697941199636e+19, 1.071174126556021e+20, 1.202394332201221e+20, 1.309072041363556e+20,  \n",
    "                        1.39150859397991e+20,  1.452980223823099e+20, 1.497733580469721e+20, 1.520364062762668e+20, 1.542557778545155e+20, 1.564299413692613e+20,  \n",
    "                        1.58574779016409e+20,  1.60707354245483e+20,  1.628226997976754e+20, 1.648657845199277e+20, 1.668274043353586e+20, 1.687353998163313e+20,  \n",
    "                        1.706122383620804e+20, 1.724443928750773e+20, 1.7420658108391e+20,   1.758827826988874e+20, 1.774878239179623e+20, 1.790223412895964e+20,  \n",
    "                        1.804526508166777e+20, 1.817531365519266e+20, 1.828690366046071e+20, 1.839198092155461e+20, 1.849705773749886e+20, 1.860213579120357e+20,  \n",
    "                        1.870721252762004e+20, 1.881229141639989e+20, 1.89173700285943e+20,  1.902244750275706e+20, 1.912752425715314e+20, 1.923260205225596e+20,  \n",
    "                        1.933768010378759e+20, 1.943999010430651e+20, 1.953612264256265e+20, 1.962303432238066e+20, 1.970064594125254e+20, 1.975424922456411e+20,  \n",
    "                        1.980360523630629e+20, 1.985296069031725e+20, 1.990231618600746e+20, 1.995167168038527e+20, 2.000102843650515e+20, 2.005032831018369e+20,  \n",
    "                        2.00994699819287e+20,  2.014758731108977e+20, 2.019153318855567e+20, 2.021724053956685e+20, 2.024151617578905e+20, 2.026579244559852e+20,  \n",
    "                        2.029006934973297e+20, 2.03143456894858e+20,  2.033862270378502e+20, 2.036289872884774e+20, 2.038717469980017e+20, 2.041145120381283e+20,  \n",
    "                        2.04357282187226e+20,  2.046000388646562e+20, 2.048428113435099e+20, 2.050855777300937e+20, 2.053283381187215e+20, 2.055711077294206e+20,  \n",
    "                        2.05813856787738e+20])\n",
    "t_to_interp = np.array([9.34678840637207,     9.34678840637207,       9.34678840637207,       9.34678840637207,      9.34678840637207,    9.34678840637207,  \n",
    "                        9.34678840637207,     9.34678840637207,       9.34678840637207,       9.34678840637207,      9.34678840637207,    9.34678840637207,  \n",
    "                        9.34678840637207,     9.34678840637207,       9.34678840637207,       9.34678840637207,      9.34678840637207,    9.34678840637207,  \n",
    "                        9.353203155001086,    9.373764910512076,      9.396642210011589,      9.550901584045615,     9.744629809912034,  10.01682774035412,  \n",
    "                       10.41942009712586,    10.85043167558095,      11.30267208320391,      11.76084605210844,     12.24974725618487,   12.78601164914653,  \n",
    "                       13.33531789914654,    13.89692424116531,      14.46181227367745,      15.00772384603196,     15.52499085599722,   16.03142479493324,  \n",
    "                       16.46155264211707,    16.86981647052882,      17.22322479786068,      17.51513957277031,     17.7805713299966,    17.92301563922854,  \n",
    "                       18.02953533334086,    18.0895014881993,       18.10810470581055,      18.10810470581055,     18.10810470581055,   18.10810470581055,  \n",
    "                       18.10810470581055,    18.10810470581055,      18.1091793529839,       18.12300873972003,     18.14222841093713,   18.20386173910835,  \n",
    "                       18.30656848699226,    18.44081540916582,      18.65152197654864,      18.90097003801679,     19.20510905753286,   19.55525068296369,  \n",
    "                       19.93960698368101,    20.3674885456835,       20.82293073944747,      21.29202885203345,     21.77093977995033,   22.25529679264035,  \n",
    "                       22.73730356825286,    23.21750177986635,      23.71196117904358,      24.21942507741451,     24.75868421143798,   25.38127615479738,  \n",
    "                       26.08562981408275,    26.98923976005779,      28.07260860790412,      29.32705803311105,     30.76285644939662,   32.39069096405154,  \n",
    "                       34.31278264239886,    36.50471401412148,      39.01950698141633,      41.95052863465907,     45.38358121853592,   48.89483031320226,  \n",
    "                       52.47814567891719,    56.13221024260849,      59.85522399943026,      63.66947087443037,     67.30889626515891,   70.76738782792263,  \n",
    "                       74.12886042388425,    77.48437862513902,      80.83153765158241,      84.14353032793755,     87.41589319964561,   90.66862540859704,  \n",
    "                       93.91925609236498,    97.16686839705258,     100.4097654770221,      103.6468601572802,     106.8813194176123,   110.1153191780616,  \n",
    "                      113.3486302592922,    116.5810976805658,      119.8123560740639,      123.0431883947535,     126.2740210794686,   129.5048540076918,  \n",
    "                      132.7357154141247,    135.9665968426143,      139.1974716126723,      142.4283277992856,     145.6591656433962,   148.8900049012087,  \n",
    "                      152.1208329717689,    155.3516514221974,      158.5824483330587,      161.8132068782287,     165.0439107844788,   168.2745193646292,  \n",
    "                      171.5051044332725,    174.7356847540415,      177.9662626015533,      181.1968297890534,     184.4274078516455,   187.6579881699361,  \n",
    "                      190.8885684376991,    194.1191480988735,      197.3497289582486,      200.5802971068594,     203.8108726892539,   207.041468607837,  \n",
    "                      210.2720826893039,    213.5026878610286,      216.7332803796783,      219.9638631844349,     223.1944373076061,   226.4250054964035,  \n",
    "                      229.6555730069151,    232.8861521772006,      236.1167232480625,      239.3472975044651,     242.5778734442176,   245.8084411693878,  \n",
    "                      249.0390220287629])\t\t\n",
    "# Se toman los logaritmos a los datos a interpolar\n",
    "log_n_to_interp = np.log(n_to_interp)\n",
    "log_t_to_interp = np.log(t_to_interp)\n",
    "\n",
    "# Evaluar el spline cúbico\n",
    "log_s_interpolated = interpolator(log_n_to_interp, log_t_to_interp)\n",
    "# ------------------------------------------------------------------------------------------\n",
    "# ------------------------------------------------------------------------------------------\n",
    "from mpl_toolkits.mplot3d import Axes3D\n",
    "\n",
    "# Crear la grilla base para los datos originales\n",
    "log_n_grid, log_t_grid = np.meshgrid(log_n_data, log_t_data, indexing=\"ij\")\n",
    "\n",
    "fig = plt.figure(figsize=(12, 8))\n",
    "ax = fig.add_subplot(111, projection='3d')\n",
    "ax.plot_surface(log_n_grid, log_t_grid, log_s_data, cmap='viridis', alpha=0.7, label='Datos originales',edgecolor='k')\n",
    "ax.scatter(log_n_to_interp, log_t_to_interp, log_s_interpolated, s=0.1, color='red', label='Datos interpolados')\n",
    "# Etiquetas y título\n",
    "ax.set_xlabel('log(n) [m^-3]')\n",
    "ax.set_ylabel('log(T) [eV]')\n",
    "ax.set_zlabel('log(S) [m^3 s^-1]')\n",
    "# ax.set_title('Interpolación de datos con RectBivariateSpline')\n",
    "\n",
    "# Leyenda\n",
    "ax.legend(loc='best')\n",
    "\n",
    "# Mostrar gráfico\n",
    "plt.show()\n"
   ]
  },
  {
   "cell_type": "markdown",
   "metadata": {},
   "source": [
    "# RBF interpolator"
   ]
  },
  {
   "cell_type": "code",
   "execution_count": 5,
   "metadata": {},
   "outputs": [],
   "source": [
    "import numpy as np\n",
    "from scipy.interpolate import RBFInterpolator\n",
    "import matplotlib.pyplot as plt\n",
    "from mpl_toolkits.mplot3d import Axes3D\n",
    "\n",
    "# Datos iniciales\n",
    "n_data = np.array([1.E10, 1.E11, 1.E12, 1.E13, 1.E14, 1.E15, 1.E16]) * 1.0e6  # cm^-3 to m^-3\n",
    "t_data = np.array([0.345, 0.69, 1.38, 2.76, 5.52, 11.0, 22.1, 44.1, 88.0, 176.5, 706.])\n",
    "\n",
    "s_data = np.zeros((len(n_data), len(t_data)), dtype=np.float64)\n",
    "s_data[:, 0] = np.array([1.2e-12, 1.7e-12, 2.9e-12, 7.1e-12, 2.7e-11, 1.6e-10, 1.4e-9])\n",
    "s_data[:, 1] = np.array([6.1e-13, 7.3e-13, 1.0e-12, 1.7e-12, 3.9e-12, 1.4e-11, 7.1e-11])\n",
    "s_data[:, 2] = np.array([3.3e-13, 3.6e-13, 4.3e-13, 5.7e-13, 9.2e-13, 2.0e-12, 4.8e-12])\n",
    "s_data[:, 3] = np.array([1.8e-13, 1.9e-13, 2.1e-13, 2.4e-13, 3.1e-13, 4.8e-13, 7.0e-13])\n",
    "s_data[:, 4] = np.array([1.0e-13, 1.0e-13, 1.1e-13, 1.2e-13, 1.3e-13, 1.6e-13, 1.9e-13])\n",
    "s_data[:, 5] = np.array([5.6e-14, 5.7e-14, 5.7e-14, 5.9e-14, 6.1e-14, 6.5e-14, 7.2e-14])\n",
    "s_data[:, 6] = np.array([3.0e-14, 3.0e-14, 3.0e-14, 3.0e-14, 3.0e-14, 3.0e-14, 3.2e-14])\n",
    "s_data[:, 7] = np.array([1.5e-14, 1.5e-14, 1.5e-14, 1.5e-14, 1.5e-14, 1.4e-14, 1.5e-14])\n",
    "s_data[:, 8] = np.array([7.3e-15, 7.3e-15, 7.2e-15, 7.1e-15, 6.9e-15, 6.6e-15, 6.7e-15])\n",
    "s_data[:, 9] = np.array([3.4e-15, 3.4e-15, 3.3e-15, 3.3e-15, 3.2e-15, 3.0e-15, 3.0e-15])\n",
    "s_data[:, 10] = np.array([6.5e-16, 6.5e-16, 6.4e-16, 6.4e-16, 6.2e-16, 5.8e-16, 5.7e-16])\n",
    "\n",
    "# Convertir a unidades de m^3 s^-1\n",
    "s_data = s_data * 1.0e-6\n",
    "\n",
    "# Tomar logaritmos\n",
    "log_n_data = np.log(n_data)\n",
    "log_t_data = np.log(t_data)\n",
    "log_s_data = np.log(s_data)\n",
    "\n",
    "# Crear los puntos de entrada para RBFInterpolator\n",
    "log_n_grid, log_t_grid = np.meshgrid(log_n_data, log_t_data, indexing='ij')\n",
    "points = np.column_stack((log_n_grid.ravel(), log_t_grid.ravel()))\n",
    "values = log_s_data.ravel()\n",
    "\n",
    "# Crear el interpolador RBF\n",
    "rbf_interpolator = RBFInterpolator(points, values, kernel='cubic')\n",
    "\n",
    "# Nuevos valores a interpolar\n",
    "n_to_interp = np.linspace(8.529762443780424e+17, 2.05813856787738e+20, 145)\n",
    "t_to_interp = np.linspace(9.34678840637207, 249.0390220287629, 145)\n",
    "log_n_to_interp = np.log(n_to_interp)\n",
    "log_t_to_interp = np.log(t_to_interp)\n",
    "\n",
    "# Crear puntos para la interpolación\n",
    "log_n_interp_grid, log_t_interp_grid = np.meshgrid(log_n_to_interp, log_t_to_interp, indexing='ij')\n",
    "interp_points = np.column_stack((log_n_interp_grid.ravel(), log_t_interp_grid.ravel()))\n",
    "\n",
    "# Interpolar\n",
    "log_s_interpolated = rbf_interpolator(interp_points).reshape(log_n_interp_grid.shape)\n",
    "\n",
    "# Visualización\n",
    "fig = plt.figure(figsize=(12, 8))\n",
    "ax = fig.add_subplot(111, projection='3d')\n",
    "\n",
    "# Grilla original\n",
    "ax.plot_surface(log_n_grid, log_t_grid, log_s_data, cmap='viridis', alpha=0.7, edgecolor='k', label='Datos originales')\n",
    "# Datos interpolados\n",
    "ax.scatter(log_n_interp_grid, log_t_interp_grid, log_s_interpolated, s=0.1, color='red', label='Datos interpolados')\n",
    "\n",
    "# Etiquetas\n",
    "ax.set_xlabel('log(n) [m^-3]')\n",
    "ax.set_ylabel('log(T) [eV]')\n",
    "ax.set_zlabel('log(S) [m^3 s^-1]')\n",
    "plt.show()\n"
   ]
  },
  {
   "cell_type": "markdown",
   "metadata": {},
   "source": [
    "# Griddata"
   ]
  },
  {
   "cell_type": "code",
   "execution_count": 9,
   "metadata": {},
   "outputs": [],
   "source": [
    "import numpy as np\n",
    "from scipy.interpolate import griddata\n",
    "import matplotlib.pyplot as plt\n",
    "from mpl_toolkits.mplot3d import Axes3D\n",
    "\n",
    "# Datos iniciales\n",
    "n_data = np.array([1.E10, 1.E11, 1.E12, 1.E13, 1.E14, 1.E15, 1.E16]) * 1.0e6  # cm^-3 to m^-3\n",
    "t_data = np.array([0.345, 0.69, 1.38, 2.76, 5.52, 11.0, 22.1, 44.1, 88.0, 176.5, 706.])\n",
    "\n",
    "s_data = np.zeros((len(n_data), len(t_data)), dtype=np.float64)\n",
    "s_data[:, 0] = np.array([1.2e-12, 1.7e-12, 2.9e-12, 7.1e-12, 2.7e-11, 1.6e-10, 1.4e-9])\n",
    "s_data[:, 1] = np.array([6.1e-13, 7.3e-13, 1.0e-12, 1.7e-12, 3.9e-12, 1.4e-11, 7.1e-11])\n",
    "s_data[:, 2] = np.array([3.3e-13, 3.6e-13, 4.3e-13, 5.7e-13, 9.2e-13, 2.0e-12, 4.8e-12])\n",
    "s_data[:, 3] = np.array([1.8e-13, 1.9e-13, 2.1e-13, 2.4e-13, 3.1e-13, 4.8e-13, 7.0e-13])\n",
    "s_data[:, 4] = np.array([1.0e-13, 1.0e-13, 1.1e-13, 1.2e-13, 1.3e-13, 1.6e-13, 1.9e-13])\n",
    "s_data[:, 5] = np.array([5.6e-14, 5.7e-14, 5.7e-14, 5.9e-14, 6.1e-14, 6.5e-14, 7.2e-14])\n",
    "s_data[:, 6] = np.array([3.0e-14, 3.0e-14, 3.0e-14, 3.0e-14, 3.0e-14, 3.0e-14, 3.2e-14])\n",
    "s_data[:, 7] = np.array([1.5e-14, 1.5e-14, 1.5e-14, 1.5e-14, 1.5e-14, 1.4e-14, 1.5e-14])\n",
    "s_data[:, 8] = np.array([7.3e-15, 7.3e-15, 7.2e-15, 7.1e-15, 6.9e-15, 6.6e-15, 6.7e-15])\n",
    "s_data[:, 9] = np.array([3.4e-15, 3.4e-15, 3.3e-15, 3.3e-15, 3.2e-15, 3.0e-15, 3.0e-15])\n",
    "s_data[:, 10] = np.array([6.5e-16, 6.5e-16, 6.4e-16, 6.4e-16, 6.2e-16, 5.8e-16, 5.7e-16])\n",
    "\n",
    "# Convertir a unidades de m^3 s^-1\n",
    "s_data = s_data * 1.0e-6\n",
    "\n",
    "# Tomar logaritmos\n",
    "log_n_data = np.log(n_data)\n",
    "log_t_data = np.log(t_data)\n",
    "log_s_data = np.log(s_data)\n",
    "\n",
    "# Crear los puntos de entrada\n",
    "log_n_grid, log_t_grid = np.meshgrid(log_n_data, log_t_data, indexing='ij')\n",
    "points = np.column_stack((log_n_grid.ravel(), log_t_grid.ravel()))\n",
    "values = log_s_data.ravel()\n",
    "\n",
    "# Nuevos valores a interpolar\n",
    "n_to_interp = np.linspace(8.529762443780424e+17, 2.05813856787738e+20, 145)\n",
    "t_to_interp = np.linspace(9.34678840637207, 249.0390220287629, 145)\n",
    "log_n_to_interp = np.log(n_to_interp)\n",
    "log_t_to_interp = np.log(t_to_interp)\n",
    "\n",
    "# Crear grilla de puntos para interpolación\n",
    "log_n_interp_grid, log_t_interp_grid = np.meshgrid(log_n_to_interp, log_t_to_interp, indexing='ij')\n",
    "interp_points = np.column_stack((log_n_interp_grid.ravel(), log_t_interp_grid.ravel()))\n",
    "\n",
    "# Interpolación usando griddata\n",
    "log_s_interpolated = griddata(points, values, interp_points, method='cubic').reshape(log_n_interp_grid.shape)\n",
    "\n",
    "# Visualización\n",
    "fig = plt.figure(figsize=(12, 8))\n",
    "ax = fig.add_subplot(111, projection='3d')\n",
    "\n",
    "# Grilla original\n",
    "ax.plot_surface(log_n_grid, log_t_grid, log_s_data, cmap='viridis', alpha=0.7, edgecolor='k')\n",
    "# Datos interpolados\n",
    "ax.scatter(log_n_interp_grid, log_t_interp_grid, log_s_interpolated, s=0.1, color='red')\n",
    "\n",
    "# Etiquetas\n",
    "ax.set_xlabel('log(n) [m^-3]')\n",
    "ax.set_ylabel('log(T) [eV]')\n",
    "ax.set_zlabel('log(S) [m^3 s^-1]')\n",
    "plt.show()\n"
   ]
  },
  {
   "cell_type": "markdown",
   "metadata": {},
   "source": [
    "# Pruebas"
   ]
  },
  {
   "cell_type": "markdown",
   "metadata": {},
   "source": [
    "# RectBivariateSpline"
   ]
  },
  {
   "cell_type": "markdown",
   "metadata": {},
   "source": [
    "Creación de grila, usando indexing 'ij'"
   ]
  },
  {
   "cell_type": "code",
   "execution_count": 62,
   "metadata": {},
   "outputs": [
    {
     "name": "stdout",
     "output_type": "stream",
     "text": [
      "#####################################\n",
      "######## Dimensiones Data ###########\n",
      "#####################################\n",
      "log_n_data.shape = (7,)\n",
      "log_t_data.shape = (11,)\n",
      "ln_t_grid, ln_n_grid = np.meshgrid(log_n_data, log_t_data,indexing=ij)\n",
      "#####################################\n",
      "######## Dimensiones Grilla #########\n",
      "#####################################\n",
      "ln_n_grid.shape = (7, 11)\n",
      "ln_t_grid.shape = (7, 11)\n",
      "#####################################\n",
      "######## Dimensiones s ##############\n",
      "#####################################\n",
      "ln_s_data.shape = (7, 11)\n"
     ]
    }
   ],
   "source": [
    "print('#####################################')\n",
    "print('######## Dimensiones Data ###########')\n",
    "print('#####################################')\n",
    "print(f'log_n_data.shape = {log_n_data.shape}')\n",
    "print(f'log_t_data.shape = {log_t_data.shape}')\n",
    "ln_n_grid, ln_t_grid = np.meshgrid(log_n_data, log_t_data,indexing='ij')\n",
    "print('ln_t_grid, ln_n_grid = np.meshgrid(log_n_data, log_t_data,indexing=ij)')\n",
    "print('#####################################')\n",
    "print('######## Dimensiones Grilla #########')\n",
    "print('#####################################')\n",
    "print(f'ln_n_grid.shape = {ln_n_grid.shape}')\n",
    "print(f'ln_t_grid.shape = {ln_t_grid.shape}')\n",
    "print('#####################################')\n",
    "print('######## Dimensiones s ##############')\n",
    "print('#####################################')\n",
    "print(f'ln_s_data.shape = {log_s_data.shape}')"
   ]
  },
  {
   "cell_type": "markdown",
   "metadata": {},
   "source": [
    "Creación del interpolador y uso"
   ]
  },
  {
   "cell_type": "code",
   "execution_count": 63,
   "metadata": {},
   "outputs": [],
   "source": [
    "interpolatorRBSpline = RectBivariateSpline(log_n_data, log_t_data, log_s_data)\n",
    "log_s_interpolated = interpolator(log_n_to_interp, log_t_to_interp, grid=False)"
   ]
  },
  {
   "cell_type": "code",
   "execution_count": 64,
   "metadata": {},
   "outputs": [],
   "source": [
    "fig_RBSpline = plt.figure()\n",
    "ax_RBSpline = fig_RBSpline.add_subplot(111, projection='3d')\n",
    "ax_RBSpline.plot_surface(ln_n_grid,ln_t_grid,log_s_data,cmap='jet',alpha=0.3,edgecolor='k')\n",
    "ax_RBSpline.scatter(ln_n_grid,ln_t_grid,log_s_data)\n",
    "ax_RBSpline.scatter(log_n_to_interp, log_t_to_interp,log_s_interpolated,marker='1',color='black')\n",
    "ax_RBSpline.scatter(ln_n_grid[0,0],ln_t_grid[0,0],log_s_data[0,0],color='red',s=9**2)\n",
    "ax_RBSpline.scatter(ln_n_grid[-1,-1],ln_t_grid[-1,-1],log_s_data[-1,-1],color='green',s=9**2)\n",
    "ax_RBSpline.set_xlabel('n')\n",
    "ax_RBSpline.set_ylabel('t')\n",
    "ax_RBSpline.set_zlabel('s')\n",
    "plt.show()"
   ]
  },
  {
   "cell_type": "code",
   "execution_count": null,
   "metadata": {},
   "outputs": [],
   "source": []
  },
  {
   "cell_type": "markdown",
   "metadata": {},
   "source": [
    "# Comprobación de RectBivariateSpline"
   ]
  },
  {
   "cell_type": "code",
   "execution_count": 74,
   "metadata": {},
   "outputs": [],
   "source": [
    "log_s_interpolated = interpolator(log_n_data, log_t_data, grid=True)"
   ]
  },
  {
   "cell_type": "code",
   "execution_count": 39,
   "metadata": {},
   "outputs": [
    {
     "data": {
      "text/plain": [
       "(7, 11)"
      ]
     },
     "execution_count": 39,
     "metadata": {},
     "output_type": "execute_result"
    }
   ],
   "source": [
    "log_s_interpolated.shape"
   ]
  },
  {
   "cell_type": "code",
   "execution_count": 40,
   "metadata": {},
   "outputs": [
    {
     "data": {
      "text/plain": [
       "(7, 11)"
      ]
     },
     "execution_count": 40,
     "metadata": {},
     "output_type": "execute_result"
    }
   ],
   "source": [
    "log_s_data.shape"
   ]
  },
  {
   "cell_type": "code",
   "execution_count": 41,
   "metadata": {},
   "outputs": [
    {
     "data": {
      "text/plain": [
       "(array([22.,  0.,  0.,  0.,  0., 33.,  0.,  0.,  0.,  0., 15.,  0.,  0.,\n",
       "         0.,  0.,  5.,  0.,  0.,  0.,  2.]),\n",
       " array([0.00000000e+00, 1.61947720e-16, 3.23895439e-16, 4.85843159e-16,\n",
       "        6.47790878e-16, 8.09738598e-16, 9.71686317e-16, 1.13363404e-15,\n",
       "        1.29558176e-15, 1.45752948e-15, 1.61947720e-15, 1.78142491e-15,\n",
       "        1.94337263e-15, 2.10532035e-15, 2.26726807e-15, 2.42921579e-15,\n",
       "        2.59116351e-15, 2.75311123e-15, 2.91505895e-15, 3.07700667e-15,\n",
       "        3.23895439e-15]),\n",
       " <BarContainer object of 20 artists>)"
      ]
     },
     "execution_count": 41,
     "metadata": {},
     "output_type": "execute_result"
    }
   ],
   "source": [
    "delta = log_s_data.flatten()-log_s_interpolated.flatten()\n",
    "delta2 = delta**2\n",
    "# plt.hist(delta2,bins=20)\n",
    "delta3 = (delta2/len(delta2))**0.5\n",
    "plt.hist(delta3,bins=20)"
   ]
  },
  {
   "cell_type": "markdown",
   "metadata": {},
   "source": [
    "Error Absoluto"
   ]
  },
  {
   "cell_type": "code",
   "execution_count": 22,
   "metadata": {},
   "outputs": [],
   "source": [
    "error_absoluto = abs(log_s_data - log_s_interpolated)\n",
    "fig_RBSpline_err = plt.figure()\n",
    "ax_RBSpline_err = fig_RBSpline_err.add_subplot(111, projection='3d')\n",
    "ax_RBSpline_err.scatter(ln_n_grid,ln_t_grid,error_absoluto)\n",
    "ax_RBSpline_err.set_xlabel('n')\n",
    "ax_RBSpline_err.set_ylabel('t')\n",
    "ax_RBSpline_err.set_zlabel('s')\n",
    "plt.show()"
   ]
  },
  {
   "cell_type": "code",
   "execution_count": 15,
   "metadata": {},
   "outputs": [
    {
     "data": {
      "text/plain": [
       "(array([[1., 0., 0., 0., 0., 3., 0., 0., 0., 0., 2., 0., 0., 0., 0., 1.,\n",
       "         0., 0., 0., 0.],\n",
       "        [1., 0., 0., 0., 0., 3., 0., 0., 0., 0., 3., 0., 0., 0., 0., 0.,\n",
       "         0., 0., 0., 0.],\n",
       "        [1., 0., 0., 0., 0., 3., 0., 0., 0., 0., 2., 0., 0., 0., 0., 0.,\n",
       "         0., 0., 0., 1.],\n",
       "        [1., 0., 0., 0., 0., 4., 0., 0., 0., 0., 1., 0., 0., 0., 0., 0.,\n",
       "         0., 0., 0., 1.],\n",
       "        [2., 0., 0., 0., 0., 3., 0., 0., 0., 0., 1., 0., 0., 0., 0., 1.,\n",
       "         0., 0., 0., 0.],\n",
       "        [2., 0., 0., 0., 0., 4., 0., 0., 0., 0., 1., 0., 0., 0., 0., 0.,\n",
       "         0., 0., 0., 0.],\n",
       "        [2., 0., 0., 0., 0., 4., 0., 0., 0., 0., 1., 0., 0., 0., 0., 0.,\n",
       "         0., 0., 0., 0.],\n",
       "        [2., 0., 0., 0., 0., 2., 0., 0., 0., 0., 1., 0., 0., 0., 0., 2.,\n",
       "         0., 0., 0., 0.],\n",
       "        [4., 0., 0., 0., 0., 2., 0., 0., 0., 0., 1., 0., 0., 0., 0., 0.,\n",
       "         0., 0., 0., 0.],\n",
       "        [3., 0., 0., 0., 0., 3., 0., 0., 0., 0., 0., 0., 0., 0., 0., 1.,\n",
       "         0., 0., 0., 0.],\n",
       "        [3., 0., 0., 0., 0., 2., 0., 0., 0., 0., 2., 0., 0., 0., 0., 0.,\n",
       "         0., 0., 0., 0.]]),\n",
       " array([0.00000000e+00, 1.42108547e-15, 2.84217094e-15, 4.26325641e-15,\n",
       "        5.68434189e-15, 7.10542736e-15, 8.52651283e-15, 9.94759830e-15,\n",
       "        1.13686838e-14, 1.27897692e-14, 1.42108547e-14, 1.56319402e-14,\n",
       "        1.70530257e-14, 1.84741111e-14, 1.98951966e-14, 2.13162821e-14,\n",
       "        2.27373675e-14, 2.41584530e-14, 2.55795385e-14, 2.70006240e-14,\n",
       "        2.84217094e-14]),\n",
       " <a list of 11 BarContainer objects>)"
      ]
     },
     "execution_count": 15,
     "metadata": {},
     "output_type": "execute_result"
    }
   ],
   "source": [
    "plt.hist(error_absoluto,bins=20)"
   ]
  },
  {
   "cell_type": "markdown",
   "metadata": {},
   "source": [
    "Error Relativo"
   ]
  },
  {
   "cell_type": "code",
   "execution_count": 16,
   "metadata": {},
   "outputs": [],
   "source": [
    "error_relativo = abs(log_s_data - log_s_interpolated)/abs(log_s_data)\n",
    "fig_RBSpline_err = plt.figure()\n",
    "ax_RBSpline_err = fig_RBSpline_err.add_subplot(111, projection='3d')\n",
    "ax_RBSpline_err.scatter(ln_n_grid,ln_t_grid,error_relativo)\n",
    "ax_RBSpline_err.set_xlabel('n')\n",
    "ax_RBSpline_err.set_ylabel('t')\n",
    "ax_RBSpline_err.set_zlabel('s')\n",
    "plt.show()"
   ]
  },
  {
   "cell_type": "markdown",
   "metadata": {},
   "source": [
    "Error cuadrático medio o Mean Squared Error - MSE"
   ]
  },
  {
   "cell_type": "code",
   "execution_count": 128,
   "metadata": {},
   "outputs": [
    {
     "data": {
      "text/plain": [
       "np.float64(1.1146502141304687e-28)"
      ]
     },
     "execution_count": 128,
     "metadata": {},
     "output_type": "execute_result"
    }
   ],
   "source": [
    "mse = np.mean((log_s_data - log_s_interpolated) ** 2)\n",
    "mse"
   ]
  },
  {
   "cell_type": "markdown",
   "metadata": {},
   "source": [
    "Mean Absolute Percentage Error o Error Porcentual Absoluto Medio - MAPE"
   ]
  },
  {
   "cell_type": "code",
   "execution_count": 130,
   "metadata": {},
   "outputs": [
    {
     "name": "stdout",
     "output_type": "stream",
     "text": [
      "MAPE: 1.830826045121157e-14%\n"
     ]
    }
   ],
   "source": [
    "mape = np.mean(np.abs((log_s_data - log_s_interpolated) / log_s_data)) * 100\n",
    "print(f\"MAPE: {mape}%\")"
   ]
  },
  {
   "cell_type": "markdown",
   "metadata": {},
   "source": [
    "# #########################xD"
   ]
  },
  {
   "cell_type": "markdown",
   "metadata": {},
   "source": [
    "# Griddata"
   ]
  },
  {
   "cell_type": "code",
   "execution_count": 42,
   "metadata": {},
   "outputs": [],
   "source": [
    "import numpy as np\n",
    "from scipy.interpolate import griddata\n",
    "\n",
    "# Convertir datos de la malla en un arreglo de puntos\n",
    "points = np.array([ln_n_grid.ravel(), ln_t_grid.ravel()]).T  # Puntos de la malla\n",
    "values = log_s_data.ravel()  # Valores de log_s_data aplanados\n",
    "\n",
    "# Puntos donde interpolar\n",
    "interp_points = np.array([log_n_to_interp, log_t_to_interp]).T\n",
    "\n",
    "# Interpolación usando griddata\n",
    "log_s_interpolated_griddata = griddata(points, values, interp_points, method='cubic')"
   ]
  },
  {
   "cell_type": "code",
   "execution_count": 60,
   "metadata": {},
   "outputs": [],
   "source": [
    "fig_GridData = plt.figure()\n",
    "ax_GridData = fig_GridData.add_subplot(111, projection='3d')\n",
    "ax_GridData.plot_surface(ln_n_grid,ln_t_grid,log_s_data,cmap='jet',alpha=0.3,edgecolor='k')\n",
    "# ax_GridData.scatter(ln_n_grid,ln_t_grid,log_s_data)\n",
    "ax_GridData.scatter(log_n_to_interp, log_t_to_interp,log_s_interpolated_griddata,marker='1',color='black')\n",
    "ax_GridData.set_xlabel('n')\n",
    "ax_GridData.set_ylabel('t')\n",
    "ax_GridData.set_zlabel('s')\n",
    "plt.show()"
   ]
  },
  {
   "cell_type": "markdown",
   "metadata": {},
   "source": [
    "# Comprobación de Griddata"
   ]
  },
  {
   "cell_type": "code",
   "execution_count": 77,
   "metadata": {},
   "outputs": [],
   "source": [
    "log_s_interpolated_griddata_comprob = griddata(points, values, points, method='cubic')\n",
    "log_s_interpolated_reshaped = log_s_interpolated_griddata_comprob.reshape(7, 11)"
   ]
  },
  {
   "cell_type": "code",
   "execution_count": 27,
   "metadata": {},
   "outputs": [
    {
     "data": {
      "text/plain": [
       "(7, 11)"
      ]
     },
     "execution_count": 27,
     "metadata": {},
     "output_type": "execute_result"
    }
   ],
   "source": [
    "log_s_data.shape"
   ]
  },
  {
   "cell_type": "code",
   "execution_count": 45,
   "metadata": {},
   "outputs": [
    {
     "data": {
      "text/plain": [
       "(array([ 0.,  0.,  0.,  0.,  0.,  0.,  0.,  0.,  0.,  0., 77.,  0.,  0.,\n",
       "         0.,  0.,  0.,  0.,  0.,  0.,  0.]),\n",
       " array([-0.5 , -0.45, -0.4 , -0.35, -0.3 , -0.25, -0.2 , -0.15, -0.1 ,\n",
       "        -0.05,  0.  ,  0.05,  0.1 ,  0.15,  0.2 ,  0.25,  0.3 ,  0.35,\n",
       "         0.4 ,  0.45,  0.5 ]),\n",
       " <BarContainer object of 20 artists>)"
      ]
     },
     "execution_count": 45,
     "metadata": {},
     "output_type": "execute_result"
    }
   ],
   "source": [
    "delta = log_s_data.flatten()-log_s_interpolated_reshaped.flatten()\n",
    "delta2 = delta**2\n",
    "# plt.hist(delta2,bins=20)\n",
    "delta3 = (delta2/len(delta2))**0.5\n",
    "plt.hist(delta3,bins=20)"
   ]
  },
  {
   "cell_type": "code",
   "execution_count": 46,
   "metadata": {},
   "outputs": [],
   "source": [
    "error_absoluto = abs(log_s_data - log_s_interpolated_reshaped)\n",
    "fig_GridData_err = plt.figure()\n",
    "ax_GridData_err = fig_GridData_err.add_subplot(111, projection='3d')\n",
    "ax_GridData_err.scatter(ln_n_grid,ln_t_grid,error_absoluto)\n",
    "ax_GridData_err.set_xlabel('n')\n",
    "ax_GridData_err.set_ylabel('t')\n",
    "ax_GridData_err.set_zlabel('s')\n",
    "plt.show()"
   ]
  },
  {
   "cell_type": "code",
   "execution_count": 47,
   "metadata": {},
   "outputs": [],
   "source": [
    "error_relativo = abs(log_s_data - log_s_interpolated_reshaped)/abs(log_s_data)\n",
    "fig_GridData_err = plt.figure()\n",
    "ax_GridData_err = fig_GridData_err.add_subplot(111, projection='3d')\n",
    "ax_GridData_err.scatter(ln_n_grid,ln_t_grid,error_relativo)\n",
    "ax_GridData_err.set_xlabel('n')\n",
    "ax_GridData_err.set_ylabel('t')\n",
    "ax_GridData_err.set_zlabel('s')\n",
    "plt.show()"
   ]
  },
  {
   "cell_type": "code",
   "execution_count": 48,
   "metadata": {},
   "outputs": [
    {
     "data": {
      "text/plain": [
       "np.float64(0.0)"
      ]
     },
     "execution_count": 48,
     "metadata": {},
     "output_type": "execute_result"
    }
   ],
   "source": [
    "mse = np.mean((log_s_data - log_s_interpolated_reshaped) ** 2)\n",
    "mse"
   ]
  },
  {
   "cell_type": "code",
   "execution_count": 49,
   "metadata": {},
   "outputs": [
    {
     "name": "stdout",
     "output_type": "stream",
     "text": [
      "MAPE: 0.0%\n"
     ]
    }
   ],
   "source": [
    "mape = np.mean(np.abs((log_s_data - log_s_interpolated_reshaped) / log_s_data)) * 100\n",
    "print(f\"MAPE: {mape}%\")"
   ]
  },
  {
   "cell_type": "markdown",
   "metadata": {},
   "source": [
    "# RBF Interpolator"
   ]
  },
  {
   "cell_type": "code",
   "execution_count": 50,
   "metadata": {},
   "outputs": [],
   "source": [
    "from scipy.interpolate import RBFInterpolator\n",
    "\n",
    "# Convertir datos de la malla en un arreglo de puntos\n",
    "points = np.array([ln_n_grid.ravel(), ln_t_grid.ravel()]).T  # Puntos de la malla\n",
    "values = log_s_data.ravel()  # Valores de log_s_data aplanados\n",
    "\n",
    "# Crear el interpolador RBF\n",
    "rbf_interpolator = RBFInterpolator(points, values, kernel='linear')  # Puedes probar otros kernels como 'multiquadric' o 'cubic'\n",
    "\n",
    "# Interpolar en los puntos deseados\n",
    "interp_points = np.array([log_n_to_interp, log_t_to_interp]).T\n",
    "log_s_interpolated_rbf = rbf_interpolator(interp_points)\n"
   ]
  },
  {
   "cell_type": "code",
   "execution_count": 58,
   "metadata": {},
   "outputs": [],
   "source": [
    "fig_GridData = plt.figure()\n",
    "ax_GridData = fig_GridData.add_subplot(111, projection='3d')\n",
    "ax_GridData.plot_surface(ln_n_grid,ln_t_grid,log_s_data,cmap='jet',alpha=0.3,edgecolor='k')\n",
    "# ax_GridData.scatter(ln_n_grid,ln_t_grid,log_s_data)\n",
    "ax_GridData.scatter(log_n_to_interp, log_t_to_interp,log_s_interpolated_rbf,marker='1',color='black')\n",
    "ax_GridData.set_xlabel('n')\n",
    "ax_GridData.set_ylabel('t')\n",
    "ax_GridData.set_zlabel('s')\n",
    "plt.show()"
   ]
  },
  {
   "cell_type": "markdown",
   "metadata": {},
   "source": [
    "# Comprobación de RBF Interpolator"
   ]
  },
  {
   "cell_type": "code",
   "execution_count": 52,
   "metadata": {},
   "outputs": [],
   "source": [
    "log_s_interpolated_rbf_on_points = rbf_interpolator(points)\n",
    "log_s_interpolated_rbf_reshaped = log_s_interpolated_rbf_on_points.reshape(7, 11)"
   ]
  },
  {
   "cell_type": "code",
   "execution_count": 53,
   "metadata": {},
   "outputs": [
    {
     "data": {
      "text/plain": [
       "(array([16.,  0.,  0.,  0., 27.,  0.,  0.,  0., 14.,  0.,  0.,  0., 11.,\n",
       "         0.,  0.,  0.,  6.,  0.,  0.,  3.]),\n",
       " array([0.00000000e+00, 2.02434649e-16, 4.04869299e-16, 6.07303948e-16,\n",
       "        8.09738598e-16, 1.01217325e-15, 1.21460790e-15, 1.41704255e-15,\n",
       "        1.61947720e-15, 1.82191184e-15, 2.02434649e-15, 2.22678114e-15,\n",
       "        2.42921579e-15, 2.63165044e-15, 2.83408509e-15, 3.03651974e-15,\n",
       "        3.23895439e-15, 3.44138904e-15, 3.64382369e-15, 3.84625834e-15,\n",
       "        4.04869299e-15]),\n",
       " <BarContainer object of 20 artists>)"
      ]
     },
     "execution_count": 53,
     "metadata": {},
     "output_type": "execute_result"
    }
   ],
   "source": [
    "delta = log_s_data.flatten()-log_s_interpolated_rbf_reshaped.flatten()\n",
    "delta2 = delta**2\n",
    "# plt.hist(delta2,bins=20)\n",
    "delta3 = (delta2/len(delta2))**0.5\n",
    "plt.hist(delta3,bins=20)"
   ]
  },
  {
   "cell_type": "code",
   "execution_count": 59,
   "metadata": {},
   "outputs": [],
   "source": [
    "error_absoluto = abs(log_s_data - log_s_interpolated_rbf_reshaped)\n",
    "fig_RBF_err = plt.figure()\n",
    "ax_RBF_err = fig_RBF_err.add_subplot(111, projection='3d')\n",
    "ax_RBF_err.scatter(ln_n_grid,ln_t_grid,error_absoluto)\n",
    "ax_RBF_err.set_xlabel('n')\n",
    "ax_RBF_err.set_ylabel('t')\n",
    "ax_RBF_err.set_zlabel('s')\n",
    "plt.show()"
   ]
  },
  {
   "cell_type": "code",
   "execution_count": 167,
   "metadata": {},
   "outputs": [],
   "source": [
    "error_relativo = abs(log_s_data - log_s_interpolated_rbf_reshaped)/abs(log_s_data)\n",
    "fig_RBF_err = plt.figure()\n",
    "ax_RBF_err = fig_RBF_err.add_subplot(111, projection='3d')\n",
    "ax_RBF_err.scatter(ln_n_grid,ln_t_grid,error_relativo)\n",
    "ax_RBF_err.set_xlabel('n')\n",
    "ax_RBF_err.set_ylabel('t')\n",
    "ax_RBF_err.set_zlabel('s')\n",
    "plt.show()"
   ]
  },
  {
   "cell_type": "code",
   "execution_count": 168,
   "metadata": {},
   "outputs": [
    {
     "data": {
      "text/plain": [
       "np.float64(2.3145383858120907e-28)"
      ]
     },
     "execution_count": 168,
     "metadata": {},
     "output_type": "execute_result"
    }
   ],
   "source": [
    "mse = np.mean((log_s_data - log_s_interpolated_rbf_reshaped) ** 2)\n",
    "mse"
   ]
  },
  {
   "cell_type": "code",
   "execution_count": 169,
   "metadata": {},
   "outputs": [
    {
     "name": "stdout",
     "output_type": "stream",
     "text": [
      "MAPE: 2.6813951422509597e-14%\n"
     ]
    }
   ],
   "source": [
    "mape = np.mean(np.abs((log_s_data - log_s_interpolated_rbf_reshaped) / log_s_data)) * 100\n",
    "print(f\"MAPE: {mape}%\")"
   ]
  },
  {
   "cell_type": "code",
   "execution_count": 67,
   "metadata": {},
   "outputs": [
    {
     "data": {
      "text/plain": [
       "(145,)"
      ]
     },
     "execution_count": 67,
     "metadata": {},
     "output_type": "execute_result"
    }
   ],
   "source": [
    "log_s_interpolated.shape"
   ]
  },
  {
   "cell_type": "code",
   "execution_count": 68,
   "metadata": {},
   "outputs": [
    {
     "data": {
      "text/plain": [
       "(145,)"
      ]
     },
     "execution_count": 68,
     "metadata": {},
     "output_type": "execute_result"
    }
   ],
   "source": [
    "log_s_interpolated_griddata.shape"
   ]
  },
  {
   "cell_type": "code",
   "execution_count": 69,
   "metadata": {},
   "outputs": [
    {
     "data": {
      "text/plain": [
       "(7, 11)"
      ]
     },
     "execution_count": 69,
     "metadata": {},
     "output_type": "execute_result"
    }
   ],
   "source": [
    "log_s_interpolated_rbf_reshaped.shape"
   ]
  },
  {
   "cell_type": "markdown",
   "metadata": {},
   "source": [
    "# Comparación Superficies"
   ]
  },
  {
   "cell_type": "code",
   "execution_count": 71,
   "metadata": {},
   "outputs": [],
   "source": [
    "fig_RBSpline = plt.figure()\n",
    "ax_RBSpline = fig_RBSpline.add_subplot(111, projection='3d')\n",
    "ax_RBSpline.plot_surface(ln_n_grid,ln_t_grid,log_s_data,cmap='jet',alpha=0.3,edgecolor='k')\n",
    "ax_RBSpline.scatter(ln_n_grid,ln_t_grid,log_s_data)\n",
    "ax_RBSpline.scatter(log_n_to_interp, log_t_to_interp,log_s_interpolated,marker='1',color='red')\n",
    "ax_RBSpline.scatter(log_n_to_interp, log_t_to_interp,log_s_interpolated_griddata,marker='1',color='green')\n",
    "ax_RBSpline.scatter(log_n_to_interp, log_t_to_interp,log_s_interpolated_rbf,marker='1',color='violet')\n",
    "# ax_RBSpline.scatter(ln_n_grid[0,0],ln_t_grid[0,0],log_s_data[0,0],color='red',s=9**2)\n",
    "# ax_RBSpline.scatter(ln_n_grid[-1,-1],ln_t_grid[-1,-1],log_s_data[-1,-1],color='green',s=9**2)\n",
    "ax_RBSpline.set_xlabel('n')\n",
    "ax_RBSpline.set_ylabel('t')\n",
    "ax_RBSpline.set_zlabel('s')\n",
    "plt.show()"
   ]
  },
  {
   "cell_type": "code",
   "execution_count": 83,
   "metadata": {},
   "outputs": [],
   "source": [
    "fig_RBSpline = plt.figure()\n",
    "ax_RBSpline = fig_RBSpline.add_subplot(111, projection='3d')\n",
    "ax_RBSpline.plot_surface(ln_n_grid,ln_t_grid,log_s_data,cmap='jet',alpha=0.3,edgecolor='k',label='data')\n",
    "ax_RBSpline.plot_surface(ln_n_grid,ln_t_grid,log_s_interpolated,cmap='viridis',alpha=0.3,edgecolor='k',label='RectBivariateSpline')\n",
    "ax_RBSpline.plot_surface(ln_n_grid,ln_t_grid,log_s_interpolated_reshaped,cmap='plasma',alpha=0.3,edgecolor='k',label='Griddata')\n",
    "ax_RBSpline.plot_surface(ln_n_grid,ln_t_grid,log_s_interpolated_rbf_reshaped,cmap='Blues',alpha=0.3,edgecolor='k',label='RBF')\n",
    "ax_RBSpline.scatter(ln_n_grid,ln_t_grid,log_s_data)\n",
    "\n",
    "\n",
    "# ax_RBSpline.scatter(log_n_to_interp, log_t_to_interp,log_s_interpolated,marker='1',color='red')\n",
    "# ax_RBSpline.scatter(log_n_to_interp, log_t_to_interp,log_s_interpolated_griddata,marker='1',color='green')\n",
    "# ax_RBSpline.scatter(log_n_to_interp, log_t_to_interp,log_s_interpolated_rbf,marker='1',color='violet')\n",
    "# ax_RBSpline.scatter(ln_n_grid[0,0],ln_t_grid[0,0],log_s_data[0,0],color='red',s=9**2)\n",
    "# ax_RBSpline.scatter(ln_n_grid[-1,-1],ln_t_grid[-1,-1],log_s_data[-1,-1],color='green',s=9**2)\n",
    "ax_RBSpline.set_xlabel('n')\n",
    "ax_RBSpline.set_ylabel('t')\n",
    "ax_RBSpline.set_zlabel('s')\n",
    "plt.show()"
   ]
  },
  {
   "cell_type": "markdown",
   "metadata": {},
   "source": [
    "# Alpha"
   ]
  },
  {
   "cell_type": "code",
   "execution_count": 179,
   "metadata": {},
   "outputs": [],
   "source": [
    "log_alpha_data\n",
    "interpolatorRBSpline = RectBivariateSpline(log_n_data, log_t_data, log_alpha_data)\n",
    "log_s_interpolated = interpolator(log_n_to_interp, log_t_to_interp, grid=False)\n",
    "fig_RBSpline = plt.figure()\n",
    "ax_RBSpline = fig_RBSpline.add_subplot(111, projection='3d')\n",
    "ax_RBSpline.plot_surface(ln_n_grid,ln_t_grid,log_alpha_data,cmap='jet',alpha=0.1,edgecolor='k')\n",
    "ax_RBSpline.plot_surface(ln_n_grid,ln_t_grid,log_s_data,cmap='jet',alpha=0.1,edgecolor='k')\n",
    "# ax_RBSpline.scatter(ln_n_grid,ln_t_grid,log_alpha_data)\n",
    "ax_RBSpline.scatter(log_n_to_interp, log_t_to_interp,log_s_interpolated,marker='1',color='black')\n",
    "# ax_RBSpline.scatter(ln_n_grid[0,0],ln_t_grid[0,0],log_alpha_data[0,0],color='red',s=9**2)\n",
    "# ax_RBSpline.scatter(ln_n_grid[-1,-1],ln_t_grid[-1,-1],log_alpha_data[-1,-1],color='green',s=9**2)\n",
    "ax_RBSpline.set_xlabel('n')\n",
    "ax_RBSpline.set_ylabel('t')\n",
    "ax_RBSpline.set_zlabel('s')\n",
    "plt.show()"
   ]
  },
  {
   "cell_type": "markdown",
   "metadata": {},
   "source": [
    "# Uso del Meshgrid"
   ]
  },
  {
   "cell_type": "code",
   "execution_count": 65,
   "metadata": {},
   "outputs": [
    {
     "name": "stdout",
     "output_type": "stream",
     "text": [
      "[2 3 4] (3,)\n",
      "[101 102 103 104 105 106 107 108 109] (9,)\n",
      "[[202 204 206 208 210 212 214 216 218]\n",
      " [303 306 309 312 315 318 321 324 327]\n",
      " [404 408 412 416 420 424 428 432 436]] (3, 9)\n"
     ]
    }
   ],
   "source": [
    "x = np.arange(2,5)\n",
    "y = np.arange(101,110)\n",
    "z = np.outer(x,y)\n",
    "print(x,x.shape)\n",
    "print(y,y.shape)\n",
    "print(z,z.shape)"
   ]
  },
  {
   "cell_type": "code",
   "execution_count": 107,
   "metadata": {},
   "outputs": [
    {
     "name": "stdout",
     "output_type": "stream",
     "text": [
      "[[2 2 2 2 2 2 2 2 2]\n",
      " [3 3 3 3 3 3 3 3 3]\n",
      " [4 4 4 4 4 4 4 4 4]] (3, 9)\n",
      "#\n",
      "[[101 102 103 104 105 106 107 108 109]\n",
      " [101 102 103 104 105 106 107 108 109]\n",
      " [101 102 103 104 105 106 107 108 109]] (3, 9)\n"
     ]
    }
   ],
   "source": [
    "x_grid,y_grid = np.meshgrid(x,y,indexing='ij')\n",
    "print(x_grid,x_grid.shape)\n",
    "print('#')\n",
    "print(y_grid,y_grid.shape)"
   ]
  },
  {
   "cell_type": "code",
   "execution_count": 68,
   "metadata": {},
   "outputs": [],
   "source": [
    "fig_xy = plt.figure()\n",
    "ax_xy = fig_xy.add_subplot(111,projection='3d')\n",
    "ax_xy.scatter(x_grid,y_grid,z)\n",
    "ax_xy.set_xlabel('x')\n",
    "ax_xy.set_ylabel('y')\n",
    "plt.show()"
   ]
  }
 ],
 "metadata": {
  "kernelspec": {
   "display_name": "venv_kn1d",
   "language": "python",
   "name": "python3"
  },
  "language_info": {
   "codemirror_mode": {
    "name": "ipython",
    "version": 3
   },
   "file_extension": ".py",
   "mimetype": "text/x-python",
   "name": "python",
   "nbconvert_exporter": "python",
   "pygments_lexer": "ipython3",
   "version": "3.11.2"
  }
 },
 "nbformat": 4,
 "nbformat_minor": 2
}
