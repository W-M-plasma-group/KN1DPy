{
 "cells": [
  {
   "cell_type": "code",
   "execution_count": 2,
   "metadata": {},
   "outputs": [],
   "source": [
    "import numpy as np\n",
    "from scipy.io import readsav\n",
    "import copy\n",
    "import pandas as pd"
   ]
  },
  {
   "cell_type": "code",
   "execution_count": 3,
   "metadata": {},
   "outputs": [
    {
     "name": "stderr",
     "output_type": "stream",
     "text": [
      "Make_dVr_dVx: calc. vol: 100%|██████████| 40/40 [00:00<?, ?it/s]\n",
      "Make_dVr_dVx: calc. vth & vx: 100%|██████████| 40/40 [00:00<?, ?it/s]\n",
      "Make_dVr_dVx: calc. vr: 100%|██████████| 80/80 [00:00<?, ?it/s]\n"
     ]
    }
   ],
   "source": [
    "import numpy as np\n",
    "import copy\n",
    "from tqdm import tqdm\n",
    "# Definir vr y vx\n",
    "vr = np.array([0.07025444373403009, 0.14139327496887916, 0.21341649370454718, \n",
    "               0.2863240999410342, 0.3601160936783402, 0.43479247491646505, \n",
    "               0.510353243655409, 0.5867983998951719, 0.6641279436357537, \n",
    "               0.7423418748771545, 0.8214401936193743, 0.901422899862413, \n",
    "               0.9822899936062708, 1.0640414748509475, 1.146677343596443, \n",
    "               1.230197599842758, 1.3146022435898914, 1.3998912748378438, \n",
    "               1.4860646935866155, 1.5731224998362061, 1.6610646935866153, \n",
    "               1.749891274837844, 1.8396022435898913, 1.9301975998427576, \n",
    "               2.0216773435964432, 2.1140414748509473, 2.207289993606271, \n",
    "               2.301422899862413, 2.396440193619374, 2.4923418748771544, \n",
    "               2.5891279436357535, 2.6867983998951717, 2.785353243655409, \n",
    "               2.8847924749164653, 2.9851160936783403, 3.086324099941034, \n",
    "               3.1884164937045467, 3.291393274968879, 3.39525444373403, 3.5])\n",
    "\n",
    "vx = np.array([-3.5, -3.39525444373403, -3.291393274968879, -3.1884164937045467, \n",
    "               -3.086324099941034, -2.9851160936783403, -2.8847924749164653, \n",
    "               -2.785353243655409, -2.6867983998951717, -2.5891279436357535, \n",
    "               -2.4923418748771544, -2.396440193619374, -2.301422899862413, \n",
    "               -2.207289993606271, -2.1140414748509473, -2.0216773435964432, \n",
    "               -1.9301975998427576, -1.8396022435898913, -1.749891274837844, \n",
    "               -1.6610646935866153, -1.5731224998362061, -1.4860646935866155, \n",
    "               -1.3998912748378438, -1.3146022435898914, -1.230197599842758, \n",
    "               -1.146677343596443, -1.0640414748509475, -0.9822899936062708, \n",
    "               -0.901422899862413, -0.8214401936193743, -0.7423418748771545, \n",
    "               -0.6641279436357537, -0.5867983998951719, -0.510353243655409, \n",
    "               -0.43479247491646505, -0.3601160936783402, -0.2863240999410342, \n",
    "               -0.21341649370454718, -0.14139327496887916, -0.07025444373403009, \n",
    "               0.07025444373403009, 0.14139327496887916, 0.21341649370454718, \n",
    "               0.2863240999410342, 0.3601160936783402, 0.43479247491646505, \n",
    "               0.510353243655409, 0.5867983998951719, 0.6641279436357537, \n",
    "               0.7423418748771545, 0.8214401936193743, 0.901422899862413, \n",
    "               0.9822899936062708, 1.0640414748509475, 1.146677343596443, \n",
    "               1.230197599842758, 1.3146022435898914, 1.3998912748378438, \n",
    "               1.4860646935866155, 1.5731224998362061, 1.6610646935866153, \n",
    "               1.749891274837844, 1.8396022435898913, 1.9301975998427576, \n",
    "               2.0216773435964432, 2.1140414748509473, 2.207289993606271, \n",
    "               2.301422899862413, 2.396440193619374, 2.4923418748771544, \n",
    "               2.5891279436357535, 2.6867983998951717, 2.785353243655409, \n",
    "               2.8847924749164653, 2.9851160936783403, 3.086324099941034, \n",
    "               3.1884164937045467, 3.291393274968879, 3.39525444373403, 3.5])\n",
    "\n",
    "''' \n",
    "Version 01\n",
    "Authors: Julio Balbin, Carlo Becerra\n",
    "Date: August 17th, 2024\n",
    "'''\n",
    "def Make_dVr_dVx(vr: np.ndarray\n",
    "                ,vx: np.ndarray):\n",
    "    ''' \n",
    "    vr & vx are from:\n",
    "    -> 1090904024_950to1050.sav\n",
    "\n",
    "    Constructs velocity space differentials for distribution functions\n",
    "    used by Kinetic_Neutrals.pro, Kinetic_H2.pro, Kinetic_H2.pro\n",
    "\n",
    "    The abs(difference) between vol variable in python & IDL is in the range: \n",
    "    <(np.float64(1.433306555442826e-06), np.float64(6.70904781382986e-12)>\n",
    "    '''\n",
    "\n",
    "    # nvr & nvx are taking the shape of vr & vx respectively\n",
    "    nvr = vr.size\n",
    "    nvx = vx.size\n",
    "\n",
    "    # Calculations for r-dimension\n",
    "    _vr     = np.append(vr, 2 * vr[-1] - vr[-2])\n",
    "    vr_mid  = np.concatenate(([0.0], 0.5 * (_vr + np.roll(_vr, -1))))\n",
    "\n",
    "    vrR = np.roll(vr_mid, -1)[0:nvr]\n",
    "    vrL = copy.copy(vr_mid)[0:nvr]\n",
    "\n",
    "    Vr2pidVr    =         np.pi * (vrR**2 - vrL**2)\n",
    "    VrVr4pidVr  = (4/3) * np.pi * (vrR**3 - vrL**3)\n",
    "\n",
    "    # Calculations for x-dimension\n",
    "    _vx = np.concatenate(([2 * vx[0] - vx[1]], vx, [2 * vx[-1] - vx[-2]]))\n",
    "\n",
    "    vxR = 0.5 * (np.roll(_vx, -1) + _vx)[1:nvx+1]\n",
    "    vxL = 0.5 * (np.roll(_vx,  1) + _vx)[1:nvx+1]\n",
    "\n",
    "    dVx = vxR - vxL\n",
    "\n",
    "    # Calc. volumen\n",
    "    vol = np.zeros((nvr, nvx), dtype=np.float64)\n",
    "    for i in tqdm(range(nvr), desc=f\"Make_dVr_dVx: calc. vol\"): \n",
    "        vol[i, :] = Vr2pidVr[i] * dVx\n",
    "        \n",
    "    Deltavx = vxR - vxL\n",
    "    Deltavr = vrR - vrL\n",
    "\n",
    "    vth_Deltavx =np.zeros((nvr+2,nvx+2),dtype = np.float64)\n",
    "    vx_Deltavx  =np.zeros((nvr+2,nvx+2),dtype = np.float64)\n",
    "    vr_Deltavr  =np.zeros((nvr+2,nvx+2),dtype = np.float64)\n",
    "\n",
    "    for j in tqdm(range(1,nvr+1),desc=f\"Make_dVr_dVx: calc. vth & vx\"):\n",
    "        vth_Deltavx[j,1:nvx+1] = 1.0/Deltavx    # vth_Deltavx(i,1:nvx)=1.0/Deltavx\n",
    "        vx_Deltavx[ j,1:nvx+1] =  vx/Deltavx     #  vx_Deltavx(i,1:nvx)= vx/Deltavx\n",
    "\n",
    "    for k in tqdm(range(1,nvx+1),desc=f\"Make_dVr_dVx: calc. vr\"):\n",
    "        vr_Deltavr[ 1:nvr+1,k] =  vr/Deltavr     #  vr_Deltavr(1:nvr,j)=vr/Deltavr\n",
    "    \n",
    "    # Compute v^2\n",
    "    vr2vx2=np.zeros((nvr,nvx), dtype=np.float64)\n",
    "    for l in range(0,nvr):\n",
    "        vr2vx2[l,:] = vr[l]**2 + vx**2\n",
    "\n",
    "    # vx's positive index\n",
    "    jp = copy.copy(np.where(vx>0)[0])   # This saves the positives index of vx\n",
    "    jpa = int(jp[0])                    # This saves the first index of jp\n",
    "    jpb = int(jp[len(jp)-1])            # This saves the last index of jp\n",
    "\n",
    "    # vx's negative index   \n",
    "    jn = copy.copy(np.where(vx<0)[0])   # This saves the negatives index of vx\n",
    "    jna = int(jn[0])                    # This saves the first index of jp\n",
    "    jnb = int(jn[len(jn)-1])            # This saves the last index of jp\n",
    "\n",
    "    return Vr2pidVr, VrVr4pidVr,dVx,vrL,vrR,vxL,vxR,\\\n",
    "           vol,vth_Deltavx,vx_Deltavx,vr_Deltavr,vr2vx2,\\\n",
    "           jpa,jpb,jna,jnb\n",
    "\n",
    "Vr2pidVr, VrVr4pidVr,dVx,vrL,vrR,vxL,vxR,\\\n",
    "    vol,vth_Deltavx,vx_Deltavx,vr_Deltavr,vr2vx2,\\\n",
    "    jpa,jpb,jna,jnb = Make_dVr_dVx(vr,vx)"
   ]
  },
  {
   "cell_type": "code",
   "execution_count": null,
   "metadata": {},
   "outputs": [],
   "source": [
    "vr = np.array([0.07025444373403009, 0.14139327496887916, 0.21341649370454718,  \n",
    "      0.2863240999410342, 0.3601160936783402, 0.43479247491646505,  \n",
    "      0.510353243655409, 0.5867983998951719, 0.6641279436357537,  \n",
    "      0.7423418748771545, 0.8214401936193743, 0.901422899862413,  \n",
    "      0.9822899936062708, 1.0640414748509475, 1.146677343596443,  \n",
    "      1.230197599842758, 1.3146022435898914, 1.3998912748378438,  \n",
    "      1.4860646935866155, 1.5731224998362061, 1.6610646935866153,  \n",
    "      1.749891274837844, 1.8396022435898913, 1.9301975998427576,  \n",
    "      2.0216773435964432, 2.1140414748509473, 2.207289993606271,  \n",
    "      2.301422899862413, 2.396440193619374, 2.4923418748771544,  \n",
    "      2.5891279436357535, 2.6867983998951717, 2.785353243655409,  \n",
    "      2.8847924749164653, 2.9851160936783403, 3.086324099941034,  \n",
    "      3.1884164937045467, 3.291393274968879, 3.39525444373403, 3.5]\n",
    ")\n",
    "vx = np.array([-3.5, -3.39525444373403, -3.291393274968879, -3.1884164937045467,  \n",
    "      -3.086324099941034, -2.9851160936783403, -2.8847924749164653,  \n",
    "      -2.785353243655409, -2.6867983998951717, -2.5891279436357535,  \n",
    "      -2.4923418748771544, -2.396440193619374, -2.301422899862413,  \n",
    "      -2.207289993606271, -2.1140414748509473, -2.0216773435964432,  \n",
    "      -1.9301975998427576, -1.8396022435898913, -1.749891274837844,  \n",
    "      -1.6610646935866153, -1.5731224998362061, -1.4860646935866155,  \n",
    "      -1.3998912748378438, -1.3146022435898914, -1.230197599842758,  \n",
    "      -1.146677343596443, -1.0640414748509475, -0.9822899936062708,  \n",
    "      -0.901422899862413, -0.8214401936193743, -0.7423418748771545,  \n",
    "      -0.6641279436357537, -0.5867983998951719, -0.510353243655409,  \n",
    "      -0.43479247491646505, -0.3601160936783402, -0.2863240999410342,  \n",
    "      -0.21341649370454718, -0.14139327496887916, -0.07025444373403009,  \n",
    "      0.07025444373403009, 0.14139327496887916, 0.21341649370454718,  \n",
    "      0.2863240999410342, 0.3601160936783402, 0.43479247491646505,  \n",
    "      0.510353243655409, 0.5867983998951719, 0.6641279436357537,  \n",
    "      0.7423418748771545, 0.8214401936193743, 0.901422899862413,  \n",
    "      0.9822899936062708, 1.0640414748509475, 1.146677343596443,  \n",
    "      1.230197599842758, 1.3146022435898914, 1.3998912748378438,  \n",
    "      1.4860646935866155, 1.5731224998362061, 1.6610646935866153,  \n",
    "      1.749891274837844, 1.8396022435898913, 1.9301975998427576,  \n",
    "      2.0216773435964432, 2.1140414748509473, 2.207289993606271,  \n",
    "      2.301422899862413, 2.396440193619374, 2.4923418748771544,  \n",
    "      2.5891279436357535, 2.6867983998951717, 2.785353243655409,  \n",
    "      2.8847924749164653, 2.9851160936783403, 3.086324099941034,  \n",
    "      3.1884164937045467, 3.291393274968879, 3.39525444373403, 3.5])\n",
    "vx_shift = [0.0]\n",
    "Tmaxwell = [0.02524895]\n",
    "mol = 2\n",
    "mu  = 2.0\n",
    "q   = 1.602177e-19\n",
    "mH  = 1.6726231e-27\n",
    "Tnorm = 74.317975\n",
    "\n"
   ]
  },
  {
   "cell_type": "code",
   "execution_count": 5,
   "metadata": {},
   "outputs": [
    {
     "name": "stdout",
     "output_type": "stream",
     "text": [
      "84372.93078875131\n"
     ]
    }
   ],
   "source": [
    "nvr = len(vr)\n",
    "nvx = len(vx)\n",
    "nx = len(vx_shift)\n",
    "vth=np.sqrt(2*q*Tnorm/(mu*mH))\n",
    "print(vth)"
   ]
  },
  {
   "cell_type": "code",
   "execution_count": 6,
   "metadata": {},
   "outputs": [
    {
     "name": "stdout",
     "output_type": "stream",
     "text": [
      "7118791449.883419\n"
     ]
    }
   ],
   "source": [
    "vth2=vth*vth\n",
    "print(vth2)"
   ]
  },
  {
   "cell_type": "code",
   "execution_count": 7,
   "metadata": {},
   "outputs": [
    {
     "name": "stdout",
     "output_type": "stream",
     "text": [
      "(40, 80, 1)\n"
     ]
    }
   ],
   "source": [
    "AN = np.zeros((nvr,nvx,2), dtype=np.float64)\n",
    "BN = np.zeros((nvr,nvx,2), dtype=np.float64)\n",
    "maxwell = np.zeros((nvr,nvx,nx),dtype=np.float32)\n",
    "sgn=[1,-1]\n",
    "print(maxwell.shape)"
   ]
  },
  {
   "cell_type": "code",
   "execution_count": 8,
   "metadata": {},
   "outputs": [
    {
     "data": {
      "text/latex": [
       "$\\displaystyle 11$"
      ],
      "text/plain": [
       "11"
      ]
     },
     "execution_count": 8,
     "metadata": {},
     "output_type": "execute_result"
    }
   ],
   "source": [
    "import sympy as sp\n",
    "sp.Matrix([1, 2]).dot(sp.Matrix([3, 4]))"
   ]
  },
  {
   "cell_type": "code",
   "execution_count": 9,
   "metadata": {},
   "outputs": [
    {
     "data": {
      "text/plain": [
       "array([[  0.        ,   0.        ,   0.        , ...,   0.        ,\n",
       "          0.        ,   0.        ],\n",
       "       [  0.        , -33.41430534, -32.55172568, ...,  32.55172568,\n",
       "         33.41430534,   0.        ],\n",
       "       [  0.        , -33.41430534, -32.55172568, ...,  32.55172568,\n",
       "         33.41430534,   0.        ],\n",
       "       ...,\n",
       "       [  0.        , -33.41430534, -32.55172568, ...,  32.55172568,\n",
       "         33.41430534,   0.        ],\n",
       "       [  0.        , -33.41430534, -32.55172568, ...,  32.55172568,\n",
       "         33.41430534,   0.        ],\n",
       "       [  0.        ,   0.        ,   0.        , ...,   0.        ,\n",
       "          0.        ,   0.        ]])"
      ]
     },
     "execution_count": 9,
     "metadata": {},
     "output_type": "execute_result"
    }
   ],
   "source": [
    "vx_Deltavx"
   ]
  },
  {
   "cell_type": "code",
   "execution_count": 10,
   "metadata": {},
   "outputs": [],
   "source": [
    "# from scipy.linalg import blas\n",
    "# result = blas.sgemm(alpha=1.0, a=maxwell[:, :, k], b=(vx * dVx), trans_b=False)\n",
    "# print(result)"
   ]
  },
  {
   "cell_type": "code",
   "execution_count": 44,
   "metadata": {},
   "outputs": [
    {
     "name": "stdout",
     "output_type": "stream",
     "text": [
      "84372.42723949559\n",
      "TB1: [1.28950102e-13 0.00000000e+00] ib: 0\n",
      "denom: -11788422308118.031 ib: 0\n",
      "TB1: [ 1.28950102e-13 -2.67999946e-17] ib: 1\n",
      "denom: -145461001427.47366 ib: 1\n",
      "(40, 80)\n"
     ]
    }
   ],
   "source": [
    "import matplotlib.pyplot as plt\n",
    "for k in range(nx):\n",
    "    if Tmaxwell[k]>0.0:\n",
    "        for i in range(nvr):\n",
    "            arg = -((vr[i]**2 + ((vx) - (vx_shift[k] / vth))**2) * mol * Tnorm / Tmaxwell[k])  # Error de \\pm 3e-3\n",
    "            arg = np.where(np.logical_and((-80 < arg),(arg < 0.0)), arg, -80)\n",
    "            maxwell[i,:,k] = np.exp(arg)\n",
    "        # maxwell[:,:,k] = copy.copy(maxwell[:,:,k]/(np.nansum(Vr2pidVr*np.matmul(maxwell[:,:,k],dVx.T))))\n",
    "        variable = np.array(sp.Matrix(maxwell[:, :, k]) * sp.Matrix(dVx), dtype=float).flatten()\n",
    "        maxwell[:,:,k] = copy.copy(maxwell[:,:,k]/(np.nansum(Vr2pidVr*variable)))\n",
    "        # print(maxwell[:,:,k].max())\n",
    "        # Compute desired moments\n",
    "        WxD = copy.copy(vx_shift[k])\n",
    "        # print('WxD:',WxD)\n",
    "        ED = (WxD**2)+3*q*(Tmaxwell[k])/(mol*mu*mH)\n",
    "        # print('ED:',ED)\n",
    "        # Compute present moments of Maxwell, WxMax, and EMax \n",
    "        vx_dvx = vx*dVx\n",
    "        # maxwell = maxwell.astype(np.float64)\n",
    "        # print(np.matmul(maxwell[:, :, k], (vx * dVx)))\n",
    "        # result = np.sum(maxwell[:, :, k] * np.expand_dims(vx * dVx, axis=0), axis=1)\n",
    "        # print(result)\n",
    "        maxwell_2d = copy.copy(maxwell[:, :, k])\n",
    "        # print(maxwell_2d.shape)\n",
    "        # print(np.matmul(maxwell_2d,vx_dvx))\n",
    "        # print(np.matmul(maxwell[:, :, k], (vx * dVx)))\n",
    "        # print(Vr2pidVr)\n",
    "\n",
    "        # df = pd.DataFrame(maxwell[:,:,k])\n",
    "        # vector = pd.Series(vx_dvx)\n",
    "\n",
    "        # print(df.dot(vector))\n",
    "\n",
    "        # print(maxwell[:, :, k].dot((vx*dVx).T))\n",
    "        # print(np.array(sp.Matrix(maxwell[:, :, k]) * sp.Matrix(vx * dVx), dtype=float).flatten())\n",
    "        # print(sp.Matrix(vx * dVx).shape)\n",
    "        # print((sp.Matrix(maxwell[:, :, k]) * sp.Matrix(vx * dVx)).shape)\n",
    "        max_2d_xd = np.array(sp.Matrix(maxwell[:, :, k]) * sp.Matrix(vx * dVx), dtype=float).flatten()\n",
    "        # print(max_2d_xd)\n",
    "        # print(np.array(np.matrix(maxwell[:, :, k]*np.matrix(vx * dVx).T), dtype=float).flatten())\n",
    "        # print(np.nansum(Vr2pidVr * (np.matmul(maxwell[:, :, k], (vx * dVx),dtype=np.float64)) ))\n",
    "        # WxMax = vth * (np.nansum(Vr2pidVr * (np.matmul(maxwell[:, :, k], (vx * dVx),dtype=np.float64)) ))\n",
    "        WxMax = vth * (np.nansum(Vr2pidVr * (max_2d_xd) ))\n",
    "        # print('WxMax:',WxMax)\n",
    "        EMax=vth2*(np.nansum(Vr2pidVr*(np.matmul((vr2vx2*maxwell[:,:,k]),dVx))))\n",
    "        # print('EMax:',EMax)\n",
    "\n",
    "\n",
    "        # Compute Nij from Maxwell, padded with zeros\n",
    "        Nij = np.zeros((nvr+2,nvx+2), dtype=np.float64)  # The order of the error is maintained with float64, but not for float 32\n",
    "        Nij[1:nvr+1,1:nvx+1] = maxwell[:,:,k]*vol\n",
    "        auxNij = Nij*vx_Deltavx\n",
    "        Nijp1_vx_Dvx = np.roll(auxNij, shift=-1, axis=1)\n",
    "        Nij_vx_Dvx  =Nij*vx_Deltavx\n",
    "        Nijm1_vx_Dvx = np.roll(auxNij, shift=1, axis=1)\n",
    "        auxNij2 = Nij*vr_Deltavr\n",
    "        Nip1j_vr_Dvr = np.roll(auxNij2, shift=-1,axis=0 )\n",
    "        Nij_vr_Dvr   =Nij*vr_Deltavr\n",
    "        Nim1j_vr_Dvr = np.roll(auxNij2, shift=1, axis=0)\n",
    "        \n",
    "        \n",
    "        \n",
    "        # Compute Ap, Am, Bp, and Bm (0=p 1=m)\n",
    "        aux_AN = np.zeros((nvx+2,nvr+2),dtype=np.float64)\n",
    "        aux_AN = Nij*vth_Deltavx\n",
    "\n",
    "        _AN = np.zeros((nvx+2,nvr+2), dtype=np.float64)\n",
    "        _AN = np.roll(aux_AN, shift=1, axis=1) - aux_AN\n",
    "        \n",
    "        AN[:,:,0] = copy.copy(_AN[1:nvr+1,1:nvx+1])\n",
    " \n",
    "        _AN = np.zeros((nvx+2,nvr+2), dtype=np.float64)\n",
    "        _AN = -np.roll(aux_AN, shift=-1, axis=1) + aux_AN\n",
    "\n",
    "        AN[:,:,1] = copy.copy(_AN[1:nvr+1,1:nvx+1])\n",
    "\n",
    "        # print(AN[:,:,1].shape)\n",
    "        # np.savetxt('salida.dat', AN[:,:,1], fmt='%.4e',delimiter='\\t')\n",
    "\n",
    "        BN[:,jpa+1:jpb+1,0] = Nijm1_vx_Dvx[1:nvr+1,jpa+2:jpb+2] - Nij_vx_Dvx[1:nvr+1,jpa+2:jpb+2]\n",
    "        BN[:,jpa,0] = -Nij_vx_Dvx[1:nvr+1,jpa+1]\n",
    "        BN[:,jnb,0] =  Nij_vx_Dvx[1:nvr+1,jnb+1]\n",
    "        BN[:,jna:jnb,0] = -Nijp1_vx_Dvx[1:nvr+1,jna+1:jnb+1] + Nij_vx_Dvx[1:nvr+1,jna+1:jnb+1]\n",
    "        BN[:,:,0]   = BN[:,:,0] + Nim1j_vr_Dvr[1:nvr+1,1:nvx+1] - Nij_vr_Dvr[1:nvr+1,1:nvx+1]\n",
    "        \n",
    "\n",
    "\n",
    "        BN[:,jpa+1:jpb+1,1] = -Nijp1_vx_Dvx[1:nvr+1,jpa+2:jpb+2] + Nij_vx_Dvx[1:nvr+1,jpa+2:jpb+2]\n",
    "        BN[:,jpa,1] = -Nijp1_vx_Dvx[1:nvr+1,jpa+1]\n",
    "        BN[:,jnb,1] =  Nijm1_vx_Dvx[1:nvr+1,jnb+1]\n",
    "        BN[:,jna:jnb,1] = Nijm1_vx_Dvx[1:nvr+1,jna+1:jnb+1] - Nij_vx_Dvx[1:nvr+1,jna+1:jnb+1]\n",
    "        BN[1:nvr,:,1] = BN[1:nvr,:,1] - Nip1j_vr_Dvr[2:nvr+1,1:nvx+1] + Nij_vr_Dvr[2:nvr+1,1:nvx+1]\n",
    "        BN[0,:,1] = BN[0,:,1] - Nip1j_vr_Dvr[1,1:nvx+1]\n",
    "        # np.savetxt('salida.dat', BN[:,:,0], fmt='%.4e',delimiter='\\t')\n",
    "        # print(BN.shape)\n",
    "\n",
    "\n",
    "        # Remove padded zeros in Nij\n",
    "        Nij = Nij[1:nvr+1,1:nvx+1]\n",
    "        # print(Nij.shape)\n",
    "        # np.savetxt('salida.dat', Nij, fmt='%.4e',delimiter='\\t')\n",
    "\n",
    "        # Cycle through 4 possibilies of sign(a_Max),sign(b_Max)\n",
    "        TB1 = np.zeros(2)#, dtype=np.float32)\n",
    "        TB2 = np.zeros(2)#, dtype=np.float32)\n",
    "        # print(type(TB1))\n",
    "        ia=0\n",
    "        while ia<2:\n",
    "            # Compute TA1, TA2    \n",
    "            aux_TA1 = np.array(sp.Matrix(AN[:,:,ia]*sp.Matrix(vx)),dtype=float).flatten()\n",
    "            TA1 = vth*np.sum(aux_TA1)\n",
    "            print(TA1)\n",
    "            # TA1 = vth*np.sum(AN[:,:,ia]*vx)\n",
    "            TA2 = vth2*np.sum(vr2vx2*AN[:,:,ia])\n",
    "            ib=0\n",
    "            while ib<2:\n",
    "                # Compute TB1, TB2\n",
    "                if TB1[ib]==0:\n",
    "                    aux_TB1 = np.array(sp.Matrix(BN[:,:,ib])*sp.Matrix(vx),dtype=float).flatten()\n",
    "                    # TB1[ib] = vth*np.sum(BN[:,:,ib]*vx)\n",
    "                    TB1[ib] = vth*np.sum(aux_TB1)\n",
    "                    print('TB1:',TB1, 'ib:',ib)\n",
    "                if TB2[ib]==0:\n",
    "                    TB2[ib] = vth2*np.sum(vr2vx2*BN[:,:,ib])\n",
    "                denom = TA2*TB1[ib]-TA1*TB2[ib]\n",
    "                print('denom:',denom, 'ib:',ib)\n",
    "                b_Max = 0.0\n",
    "                a_Max = 0.0\n",
    "                if denom!=0 and TA1 !=0:\n",
    "                    b_Max = (TA2*(WxD-WxMax) - TA1*(ED-EMax))/denom\n",
    "                    a_Max = (WxD-WxMax-TB1[ib]*b_Max)/TA1\n",
    "                    # print('WxD:',WxD)\n",
    "                    # print('WxMax:',WxMax)\n",
    "                if a_Max*sgn[ia] > 0 and b_Max*sgn[ib]>0:\n",
    "                    maxwell[:,:,k] = (Nij + AN[:,:,ia]*a_Max + BN[:,:,ib]*b_Max)/vol\n",
    "                    np.savetxt('salida_23.dat', maxwell[:,:,k], fmt='%.4e',delimiter='\\t')\n",
    "                    ia=2\n",
    "                    ib=2\n",
    "                ib = ib+1\n",
    "            ia=ia+1\n",
    "\n",
    "        aux_maxwell = np.array(sp.Matrix(maxwell[:,:,k])*sp.Matrix(dVx),dtype=float).flatten()\n",
    "        maxwell[:,:,k] = maxwell[:,:,k]/np.sum(Vr2pidVr*aux_maxwell)\n",
    "        print(maxwell[:,:,k].shape)\n",
    "        np.savetxt('salida.dat', maxwell[:,:,k], fmt='%.4e',delimiter='\\t')\n",
    "                    \n",
    "        \n",
    "        "
   ]
  },
  {
   "cell_type": "code",
   "execution_count": 12,
   "metadata": {},
   "outputs": [
    {
     "name": "stdout",
     "output_type": "stream",
     "text": [
      "[[234 345 456 567 123]\n",
      " [  0   2  89  -1 -91]\n",
      " [ 20   5  26  31   3]\n",
      " [ 70  32  78 -50 -51]]\n",
      "#\n",
      "[[123 234 345 456 567]\n",
      " [-91   0   2  89  -1]\n",
      " [  3  20   5  26  31]\n",
      " [-51  70  32  78 -50]]\n",
      "#\n",
      "[[  3  20   5  26  31]\n",
      " [-51  70  32  78 -50]\n",
      " [123 234 345 456 567]\n",
      " [-91   0   2  89  -1]]\n"
     ]
    }
   ],
   "source": [
    "import numpy as np\n",
    "\n",
    "demo_shift2 = np.array([\n",
    "    [-91, 0, 2, 89, -1],\n",
    "    [3, 20, 5, 26, 31],\n",
    "    [-51, 70, 32, 78, -50],\n",
    "    [123, 234, 345, 456, 567]\n",
    "])\n",
    "# Ejemplo 1: Desplazar 1 posición hacia la izquierda (dimensión 1)\n",
    "result1 = np.roll(demo_shift2, shift=-1, axis=1)\n",
    "result1 = np.roll(result1, shift=1, axis=0)\n",
    "# Ejemplo 2: Desplazar 1 posición hacia abajo (dimensión 2)\n",
    "result2 = np.roll(demo_shift2, shift=1, axis=0)\n",
    "# Ejemplo 3: Desplazar 1 posición en ambas dimensiones\n",
    "result3 = np.roll(demo_shift2, shift=0, axis=1)\n",
    "result3 = np.roll(result3, shift=-1, axis=0)\n",
    "print(result1)\n",
    "print('#')\n",
    "print(result2)\n",
    "print('#')\n",
    "print(result3)"
   ]
  },
  {
   "cell_type": "code",
   "execution_count": 13,
   "metadata": {},
   "outputs": [
    {
     "ename": "SyntaxError",
     "evalue": "'break' outside loop (668683560.py, line 1)",
     "output_type": "error",
     "traceback": [
      "\u001b[1;36m  Cell \u001b[1;32mIn[13], line 1\u001b[1;36m\u001b[0m\n\u001b[1;33m    break\u001b[0m\n\u001b[1;37m    ^\u001b[0m\n\u001b[1;31mSyntaxError\u001b[0m\u001b[1;31m:\u001b[0m 'break' outside loop\n"
     ]
    }
   ],
   "source": [
    "break"
   ]
  },
  {
   "cell_type": "code",
   "execution_count": null,
   "metadata": {},
   "outputs": [],
   "source": []
  },
  {
   "cell_type": "code",
   "execution_count": null,
   "metadata": {},
   "outputs": [
    {
     "name": "stdout",
     "output_type": "stream",
     "text": [
      "1.0\n"
     ]
    }
   ],
   "source": [
    "number = 3.9051036573634155e-18\n",
    "complement = 1.0 - number\n",
    "print(complement)\n"
   ]
  },
  {
   "cell_type": "code",
   "execution_count": 24,
   "metadata": {},
   "outputs": [
    {
     "name": "stdout",
     "output_type": "stream",
     "text": [
      "[[   -10    -40    -90]\n",
      " [  -300   -800  -1500]\n",
      " [ -2000  -6000 -15000]]\n"
     ]
    }
   ],
   "source": [
    "d = np.array([[1,2,3],[30,40,50],[200,300,500]])\n",
    "e = np.array([[-1,-2,-3],[-30,-40,-50],[-200,-300,-500]])\n",
    "f = np.array([-10,-20,-30])\n",
    "d*e\n",
    "print(d*f)"
   ]
  },
  {
   "cell_type": "code",
   "execution_count": 26,
   "metadata": {},
   "outputs": [
    {
     "data": {
      "text/latex": [
       "$\\displaystyle \\left[\\begin{matrix}-140\\\\-2600\\\\-23000\\end{matrix}\\right]$"
      ],
      "text/plain": [
       "Matrix([\n",
       "[  -140],\n",
       "[ -2600],\n",
       "[-23000]])"
      ]
     },
     "execution_count": 26,
     "metadata": {},
     "output_type": "execute_result"
    }
   ],
   "source": [
    "sp.Matrix(d)*sp.Matrix(f) "
   ]
  },
  {
   "cell_type": "code",
   "execution_count": 22,
   "metadata": {},
   "outputs": [
    {
     "data": {
      "text/plain": [
       "matrix([[   -661,    -982,   -1603],\n",
       "        [ -11230,  -16660,  -27090],\n",
       "        [-109200, -162400, -265600]])"
      ]
     },
     "execution_count": 22,
     "metadata": {},
     "output_type": "execute_result"
    }
   ],
   "source": [
    "np.asmatrix(d).dot(np.asmatrix(e))"
   ]
  },
  {
   "cell_type": "code",
   "execution_count": null,
   "metadata": {},
   "outputs": [],
   "source": [
    "max_idl = [\n",
    "    -1.2140179e-17, -2.6675281e-23, -2.6675281e-23, -2.6675281e-23, -2.6675281e-23,\n",
    "    -2.6675281e-23, -2.6675281e-23, -2.6675281e-23, -2.6675281e-23, -2.6675281e-23,\n",
    "    -2.6675281e-23, -2.6675281e-23, -2.6675281e-23, -2.6675281e-23, -2.6675281e-23,\n",
    "    -2.6675281e-23, -2.6675281e-23, -2.6675281e-23, -2.6675281e-23, -2.6675281e-23,\n",
    "    -2.6675281e-23, -2.6675281e-23, -2.6675281e-23, -2.6675281e-23, -2.6675281e-23,\n",
    "    -2.6675281e-23, -2.6675281e-23, -2.6675281e-23, -2.6675281e-23, -2.6675281e-23,\n",
    "    -2.6675281e-23, -2.6675281e-23, -2.6675281e-23, -2.6675281e-23, -2.6675281e-23,\n",
    "    -2.6675281e-23, -2.6675281e-23, -2.6675281e-23, -2.6675281e-23, -2.6675281e-23\n",
    "]\n",
    "max_py = np.matmul(maxwell[:, :, k], (vx * dVx))"
   ]
  },
  {
   "cell_type": "code",
   "execution_count": null,
   "metadata": {},
   "outputs": [
    {
     "data": {
      "text/plain": [
       "np.float64(1.2316248146251566e-16)"
      ]
     },
     "execution_count": 18,
     "metadata": {},
     "output_type": "execute_result"
    },
    {
     "data": {
      "image/png": "[encoded data removed]",
      "text/plain": [
       "<Figure size 640x480 with 1 Axes>"
      ]
     },
     "metadata": {},
     "output_type": "display_data"
    }
   ],
   "source": [
    "plt.hist(max_py-max_idl)\n",
    "plt.axvline(np.quantile(max_py-max_idl,0.98))\n",
    "np.max(max_py-max_idl)"
   ]
  },
  {
   "cell_type": "code",
   "execution_count": null,
   "metadata": {},
   "outputs": [
    {
     "ename": "SyntaxError",
     "evalue": "'break' outside loop (668683560.py, line 1)",
     "output_type": "error",
     "traceback": [
      "\u001b[1;36m  Cell \u001b[1;32mIn[19], line 1\u001b[1;36m\u001b[0m\n\u001b[1;33m    break\u001b[0m\n\u001b[1;37m    ^\u001b[0m\n\u001b[1;31mSyntaxError\u001b[0m\u001b[1;31m:\u001b[0m 'break' outside loop\n"
     ]
    }
   ],
   "source": [
    "break"
   ]
  },
  {
   "cell_type": "code",
   "execution_count": null,
   "metadata": {},
   "outputs": [],
   "source": [
    "vx*dVx"
   ]
  },
  {
   "cell_type": "code",
   "execution_count": null,
   "metadata": {},
   "outputs": [],
   "source": [
    "shifted_maxwellian_debug=0"
   ]
  },
  {
   "cell_type": "code",
   "execution_count": null,
   "metadata": {},
   "outputs": [],
   "source": [
    "from scipy.io import readsav\n",
    "matrix_40x80 = readsav('matrix_40x80.sav')\n",
    "m40_x80 = matrix_40x80['matrix'].T"
   ]
  },
  {
   "cell_type": "code",
   "execution_count": null,
   "metadata": {},
   "outputs": [],
   "source": [
    "m40_x80 = copy.copy(m40_x80.flatten())"
   ]
  },
  {
   "cell_type": "code",
   "execution_count": null,
   "metadata": {},
   "outputs": [],
   "source": [
    "maxwell[:,:,k].shape"
   ]
  },
  {
   "cell_type": "code",
   "execution_count": null,
   "metadata": {},
   "outputs": [],
   "source": [
    "np.where(maxwell[:,:,k].flatten()==np.max(maxwell[:,:,k].flatten()))\n",
    "# np.where(m40_x80==np.max(m40_x80))"
   ]
  },
  {
   "cell_type": "code",
   "execution_count": null,
   "metadata": {},
   "outputs": [],
   "source": [
    "mpy40x80 = copy.copy(maxwell[:,:,k].flatten())\n",
    "plt.hist(mpy40x80-m40_x80)\n",
    "plt.axvline(np.quantile(mpy40x80-m40_x80,0.98))\n",
    "(mpy40x80-m40_x80).max()"
   ]
  },
  {
   "cell_type": "code",
   "execution_count": null,
   "metadata": {},
   "outputs": [],
   "source": [
    "mpy40x80.max()"
   ]
  },
  {
   "cell_type": "code",
   "execution_count": null,
   "metadata": {},
   "outputs": [],
   "source": []
  },
  {
   "cell_type": "code",
   "execution_count": null,
   "metadata": {},
   "outputs": [],
   "source": []
  },
  {
   "cell_type": "code",
   "execution_count": null,
   "metadata": {},
   "outputs": [],
   "source": [
    "import numpy as np\n",
    "import copy\n",
    "from tqdm import tqdm\n",
    "# Definir vr y vx\n",
    "vr = np.array([0.07025444373403009, 0.14139327496887916, 0.21341649370454718, \n",
    "               0.2863240999410342, 0.3601160936783402, 0.43479247491646505, \n",
    "               0.510353243655409, 0.5867983998951719, 0.6641279436357537, \n",
    "               0.7423418748771545, 0.8214401936193743, 0.901422899862413, \n",
    "               0.9822899936062708, 1.0640414748509475, 1.146677343596443, \n",
    "               1.230197599842758, 1.3146022435898914, 1.3998912748378438, \n",
    "               1.4860646935866155, 1.5731224998362061, 1.6610646935866153, \n",
    "               1.749891274837844, 1.8396022435898913, 1.9301975998427576, \n",
    "               2.0216773435964432, 2.1140414748509473, 2.207289993606271, \n",
    "               2.301422899862413, 2.396440193619374, 2.4923418748771544, \n",
    "               2.5891279436357535, 2.6867983998951717, 2.785353243655409, \n",
    "               2.8847924749164653, 2.9851160936783403, 3.086324099941034, \n",
    "               3.1884164937045467, 3.291393274968879, 3.39525444373403, 3.5])\n",
    "\n",
    "vx = np.array([-3.5, -3.39525444373403, -3.291393274968879, -3.1884164937045467, \n",
    "               -3.086324099941034, -2.9851160936783403, -2.8847924749164653, \n",
    "               -2.785353243655409, -2.6867983998951717, -2.5891279436357535, \n",
    "               -2.4923418748771544, -2.396440193619374, -2.301422899862413, \n",
    "               -2.207289993606271, -2.1140414748509473, -2.0216773435964432, \n",
    "               -1.9301975998427576, -1.8396022435898913, -1.749891274837844, \n",
    "               -1.6610646935866153, -1.5731224998362061, -1.4860646935866155, \n",
    "               -1.3998912748378438, -1.3146022435898914, -1.230197599842758, \n",
    "               -1.146677343596443, -1.0640414748509475, -0.9822899936062708, \n",
    "               -0.901422899862413, -0.8214401936193743, -0.7423418748771545, \n",
    "               -0.6641279436357537, -0.5867983998951719, -0.510353243655409, \n",
    "               -0.43479247491646505, -0.3601160936783402, -0.2863240999410342, \n",
    "               -0.21341649370454718, -0.14139327496887916, -0.07025444373403009, \n",
    "               0.07025444373403009, 0.14139327496887916, 0.21341649370454718, \n",
    "               0.2863240999410342, 0.3601160936783402, 0.43479247491646505, \n",
    "               0.510353243655409, 0.5867983998951719, 0.6641279436357537, \n",
    "               0.7423418748771545, 0.8214401936193743, 0.901422899862413, \n",
    "               0.9822899936062708, 1.0640414748509475, 1.146677343596443, \n",
    "               1.230197599842758, 1.3146022435898914, 1.3998912748378438, \n",
    "               1.4860646935866155, 1.5731224998362061, 1.6610646935866153, \n",
    "               1.749891274837844, 1.8396022435898913, 1.9301975998427576, \n",
    "               2.0216773435964432, 2.1140414748509473, 2.207289993606271, \n",
    "               2.301422899862413, 2.396440193619374, 2.4923418748771544, \n",
    "               2.5891279436357535, 2.6867983998951717, 2.785353243655409, \n",
    "               2.8847924749164653, 2.9851160936783403, 3.086324099941034, \n",
    "               3.1884164937045467, 3.291393274968879, 3.39525444373403, 3.5])\n",
    "\n",
    "''' \n",
    "Version 01\n",
    "Authors: Julio Balbin, Carlo Becerra\n",
    "Date: August 17th, 2024\n",
    "'''\n",
    "def Make_dVr_dVx(vr: np.ndarray\n",
    "                ,vx: np.ndarray):\n",
    "    ''' \n",
    "    vr & vx are from:\n",
    "    -> 1090904024_950to1050.sav\n",
    "\n",
    "    Constructs velocity space differentials for distribution functions\n",
    "    used by Kinetic_Neutrals.pro, Kinetic_H2.pro, Kinetic_H2.pro\n",
    "\n",
    "    The abs(difference) between vol variable in python & IDL is in the range: \n",
    "    <(np.float64(1.433306555442826e-06), np.float64(6.70904781382986e-12)>\n",
    "    '''\n",
    "\n",
    "    # nvr & nvx are taking the shape of vr & vx respectively\n",
    "    nvr = vr.size\n",
    "    nvx = vx.size\n",
    "\n",
    "    # Calculations for r-dimension\n",
    "    _vr     = np.append(vr, 2 * vr[-1] - vr[-2])\n",
    "    vr_mid  = np.concatenate(([0.0], 0.5 * (_vr + np.roll(_vr, -1))))\n",
    "\n",
    "    vrR = np.roll(vr_mid, -1)[0:nvr]\n",
    "    vrL = copy.copy(vr_mid)[0:nvr]\n",
    "\n",
    "    Vr2pidVr    =         np.pi * (vrR**2 - vrL**2)\n",
    "    VrVr4pidVr  = (4/3) * np.pi * (vrR**3 - vrL**3)\n",
    "\n",
    "    # Calculations for x-dimension\n",
    "    _vx = np.concatenate(([2 * vx[0] - vx[1]], vx, [2 * vx[-1] - vx[-2]]))\n",
    "\n",
    "    vxR = 0.5 * (np.roll(_vx, -1) + _vx)[1:nvx+1]\n",
    "    vxL = 0.5 * (np.roll(_vx,  1) + _vx)[1:nvx+1]\n",
    "\n",
    "    dVx = vxR - vxL\n",
    "\n",
    "    # Calc. volumen\n",
    "    vol = np.zeros((nvr, nvx), dtype=np.float64)\n",
    "    for i in tqdm(range(nvr), desc=f\"Make_dVr_dVx: calc. vol\"): \n",
    "        vol[i, :] = Vr2pidVr[i] * dVx\n",
    "        \n",
    "    Deltavx = vxR - vxL\n",
    "    Deltavr = vrR - vrL\n",
    "\n",
    "    vth_Deltavx =np.zeros((nvr+2,nvx+2))\n",
    "    vx_Deltavx  =np.zeros((nvr+2,nvx+2))\n",
    "    vr_Deltavr  =np.zeros((nvr+2,nvx+2))\n",
    "\n",
    "    for j in tqdm(range(1,nvr+1),desc=f\"Make_dVr_dVx: calc. vth & vx\"):\n",
    "        vth_Deltavx[j,1:nvx+1] = 1.0/Deltavx    # vth_Deltavx(i,1:nvx)=1.0/Deltavx\n",
    "        vx_Deltavx[ j,1:nvx+1] =  vx/Deltavx     #  vx_Deltavx(i,1:nvx)= vx/Deltavx\n",
    "\n",
    "    for k in tqdm(range(1,nvx+1),desc=f\"Make_dVr_dVx: calc. vr\"):\n",
    "        vr_Deltavr[ 1:nvr+1,k] =  vr/Deltavr     #  vr_Deltavr(1:nvr,j)=vr/Deltavr\n",
    "    \n",
    "    # Compute v^2\n",
    "    vr2vx2=np.zeros((nvr,nvx), dtype=np.float64)\n",
    "    for l in range(0,nvr):\n",
    "        vr2vx2[l,:] = vr[l]**2 + vx**2\n",
    "\n",
    "    # vx's positive index\n",
    "    jp = copy.copy(np.where(vx>0)[0])   # This saves the positives index of vx\n",
    "    jpa = int(jp[0])                    # This saves the first index of jp\n",
    "    jpb = int(jp[len(jp)-1])            # This saves the last index of jp\n",
    "\n",
    "    # vx's negative index   \n",
    "    jn = copy.copy(np.where(vx<0)[0])   # This saves the negatives index of vx\n",
    "    jna = int(jn[0])                    # This saves the first index of jp\n",
    "    jnb = int(jn[len(jn)-1])            # This saves the last index of jp\n",
    "\n",
    "    return Vr2pidVr, VrVr4pidVr,dVx,vrL,vrR,vxL,vxR,\\\n",
    "           vol,vth_Deltavx,vx_Deltavx,vr_Deltavr,vr2vx2,\\\n",
    "           jpa,jpb,jna,jnb\n",
    "\n",
    "Vr2pidVr, VrVr4pidVr,dVx,vrL,vrR,vxL,vxR,\\\n",
    "    vol,vth_Deltavx,vx_Deltavx,vr_Deltavr,vr2vx2,\\\n",
    "    jpa,jpb,jna,jnb = Make_dVr_dVx(vr,vx)"
   ]
  },
  {
   "cell_type": "code",
   "execution_count": null,
   "metadata": {},
   "outputs": [],
   "source": [
    "Vr2pidVr"
   ]
  },
  {
   "cell_type": "code",
   "execution_count": null,
   "metadata": {},
   "outputs": [],
   "source": [
    "Vr2pidVr_idl = np.array([0.0351817, 0.0636920, 0.0972721, 0.132060, 0.168071, 0.205319, 0.243820,\n",
    "        0.283587, 0.324637, 0.366983, 0.410640, 0.455622, 0.501947, 0.549626,\n",
    "        0.598675, 0.649109, 0.700943, 0.754191, 0.808870, 0.864991, 0.922571,\n",
    "        0.981624, 1.04217, 1.10421, 1.16777, 1.23287, 1.29951, 1.36771,\n",
    "        1.43749, 1.50886, 1.58185, 1.65644, 1.73267, 1.81055, 1.89011,\n",
    "        1.97134, 2.05426, 2.13889, 2.22525, 2.30348])"
   ]
  },
  {
   "cell_type": "code",
   "execution_count": null,
   "metadata": {},
   "outputs": [],
   "source": [
    "np.min(Vr2pidVr-Vr2pidVr_idl),Vr2pidVr"
   ]
  },
  {
   "cell_type": "code",
   "execution_count": null,
   "metadata": {},
   "outputs": [],
   "source": [
    "Vr2pidVr-Vr2pidVr_idl\n",
    "\n",
    "plt.hist((Vr2pidVr-Vr2pidVr_idl))\n",
    "plt.xlabel('Difference between Vr2pidVr and Vr2pidVr_idl')\n",
    "plt.axvline(np.quantile((Vr2pidVr-Vr2pidVr_idl),0.98))"
   ]
  },
  {
   "cell_type": "code",
   "execution_count": null,
   "metadata": {},
   "outputs": [],
   "source": [
    "(dVx.shape, np.asmatrix(dVx).shape)"
   ]
  },
  {
   "cell_type": "code",
   "execution_count": null,
   "metadata": {},
   "outputs": [],
   "source": [
    "np.nansum(Vr2pidVr*np.matmul(maxwell[:,:,k],dVx.T))"
   ]
  },
  {
   "cell_type": "code",
   "execution_count": null,
   "metadata": {},
   "outputs": [],
   "source": [
    "data_py = Vr2pidVr*np.matmul(maxwell[:,:,k],dVx.T)"
   ]
  },
  {
   "cell_type": "code",
   "execution_count": null,
   "metadata": {},
   "outputs": [],
   "source": [
    "data_idl = [4.3117735e-28, 8.1672370e-36, 1.2473214e-35, 1.6934093e-35, 2.1551766e-35,\n",
    "        2.6328129e-35, 3.1265100e-35, 3.6364453e-35, 4.1628228e-35, 4.7058256e-35,\n",
    "        5.2656414e-35, 5.8424516e-35, 6.4364661e-35, 7.0478621e-35, 7.6768106e-35,\n",
    "        8.3235377e-35, 8.9882054e-35, 9.6710026e-35, 1.0372149e-34, 1.1091784e-34,\n",
    "        1.1830139e-34, 1.2587376e-34, 1.3363698e-34, 1.4159306e-34, 1.4974373e-34,\n",
    "        1.5809082e-34, 1.6663604e-34, 1.7538201e-34, 1.8432986e-34, 1.9348152e-34,\n",
    "        2.0284026e-34, 2.1240529e-34, 2.2218108e-34, 2.3216738e-34, 2.4236900e-34,\n",
    "        2.5278502e-34, 2.6341773e-34, 2.7427015e-34, 2.8534389e-34, 2.9537574e-34]\n"
   ]
  },
  {
   "cell_type": "code",
   "execution_count": null,
   "metadata": {},
   "outputs": [],
   "source": [
    "plt.hist(data_idl-data_py)\n",
    "plt.axvline(np.nanquantile(data_idl-data_py,0.98))"
   ]
  },
  {
   "cell_type": "code",
   "execution_count": null,
   "metadata": {},
   "outputs": [],
   "source": [
    "maxwell_dvx_py = np.matmul(maxwell[:,:,k],dVx.T)"
   ]
  },
  {
   "cell_type": "code",
   "execution_count": null,
   "metadata": {},
   "outputs": [],
   "source": [
    "maxwell_dvx_idl = [1.2255721e-26, 1.2823010e-34, 1.2823010e-34, 1.2823010e-34, 1.2823010e-34,\n",
    "        1.2823010e-34, 1.2823010e-34, 1.2823010e-34, 1.2823010e-34, 1.2823010e-34,\n",
    "        1.2823010e-34, 1.2823010e-34, 1.2823010e-34, 1.2823010e-34, 1.2823010e-34,\n",
    "        1.2823010e-34, 1.2823010e-34, 1.2823010e-34, 1.2823010e-34, 1.2823010e-34,\n",
    "        1.2823010e-34, 1.2823010e-34, 1.2823010e-34, 1.2823010e-34, 1.2823010e-34,\n",
    "        1.2823010e-34, 1.2823010e-34, 1.2823010e-34, 1.2823010e-34, 1.2823010e-34,\n",
    "        1.2823010e-34, 1.2823010e-34, 1.2823010e-34, 1.2823010e-34, 1.2823010e-34,\n",
    "        1.2823010e-34, 1.2823010e-34, 1.2823010e-34, 1.2823010e-34, 1.2823010e-34]"
   ]
  },
  {
   "cell_type": "code",
   "execution_count": null,
   "metadata": {},
   "outputs": [],
   "source": [
    "plt.hist(maxwell_dvx_idl-maxwell_dvx_py)\n",
    "plt.axvline(np.quantile(maxwell_dvx_idl-maxwell_dvx_py,0.98))"
   ]
  },
  {
   "cell_type": "code",
   "execution_count": null,
   "metadata": {},
   "outputs": [],
   "source": [
    "dVx"
   ]
  },
  {
   "cell_type": "code",
   "execution_count": null,
   "metadata": {},
   "outputs": [],
   "source": [
    "Vr2pidVr"
   ]
  },
  {
   "cell_type": "code",
   "execution_count": null,
   "metadata": {},
   "outputs": [],
   "source": [
    "(Vr2pidVr*np.matmul(maxwell[:,:,k],dVx.T)), np.shape(Vr2pidVr*np.matmul(maxwell[:,:,k],dVx.T))"
   ]
  },
  {
   "cell_type": "code",
   "execution_count": null,
   "metadata": {},
   "outputs": [],
   "source": [
    "producto_matricial_py = Vr2pidVr*np.matmul(maxwell[:,:,k],dVx.T)"
   ]
  },
  {
   "cell_type": "code",
   "execution_count": null,
   "metadata": {},
   "outputs": [],
   "source": [
    "producto_matricial_idl = np.array([0.99998822, 1.8941489e-08, 2.8927928e-08, 3.9273616e-08, 4.9982941e-08,\n",
    "        6.1060301e-08, 7.2510144e-08, 8.4336584e-08, 9.6544353e-08, 1.0913770e-07,\n",
    "        1.2212097e-07, 1.3549837e-07, 1.4927478e-07, 1.6345430e-07, 1.7804090e-07,\n",
    "        1.9303982e-07, 2.0845482e-07, 2.2429028e-07, 2.4055129e-07, 2.5724110e-07,\n",
    "        2.7436506e-07, 2.9192694e-07, 3.0993141e-07, 3.2838318e-07, 3.4728626e-07,\n",
    "        3.6664485e-07, 3.8646298e-07, 4.0674665e-07, 4.2749854e-07, 4.4872311e-07,\n",
    "        4.7042794e-07, 4.9261120e-07, 5.1528323e-07, 5.3844351e-07, 5.6210316e-07,\n",
    "        5.8626002e-07, 6.1091945e-07, 6.3608843e-07, 6.6177068e-07, 6.8503660e-07])"
   ]
  },
  {
   "cell_type": "code",
   "execution_count": null,
   "metadata": {},
   "outputs": [],
   "source": [
    "i = -1\n",
    "producto_matricial_py[i], producto_matricial_idl[i]"
   ]
  },
  {
   "cell_type": "code",
   "execution_count": null,
   "metadata": {},
   "outputs": [],
   "source": [
    "np.argmin((producto_matricial_py-producto_matricial_idl)[1:])\n"
   ]
  },
  {
   "cell_type": "code",
   "execution_count": null,
   "metadata": {},
   "outputs": [],
   "source": [
    "plt.hist((producto_matricial_py-producto_matricial_idl),bins=10)\n",
    "plt.xlabel('Difference between arg_k_i and arg_idl')\n",
    "# plt.axvline(np.quantile((producto_matricial_py-producto_matricial_idl),0.98))\n",
    "plt.xlim(np.quantile((producto_matricial_py-producto_matricial_idl),0.005),np.quantile((producto_matricial_py-producto_matricial_idl),0.98))\n",
    "plt.grid(True)\n",
    "plt.show()"
   ]
  },
  {
   "cell_type": "code",
   "execution_count": null,
   "metadata": {},
   "outputs": [],
   "source": [
    "arg_idl = np.array([-7.2142564e+04, -6.7890824e+04, -6.3802532e+04, -5.9874435e+04,\n",
    "       -5.6103326e+04, -5.2485997e+04, -4.9019313e+04, -4.5700114e+04,\n",
    "       -4.2525312e+04, -3.9491827e+04, -3.6596594e+04, -3.3836610e+04,\n",
    "       -3.1208859e+04, -2.8710387e+04, -2.6338252e+04, -2.4089530e+04,\n",
    "       -2.1961350e+04, -1.9950847e+04, -1.8055193e+04, -1.6271585e+04,\n",
    "       -1.4597246e+04, -1.3029433e+04, -1.1565425e+04, -1.0202530e+04,\n",
    "       -8.9380820e+03, -7.7694487e+03, -6.6940173e+03, -5.7092075e+03,\n",
    "       -4.8124668e+03, -4.0012679e+03, -3.2731123e+03, -2.6255299e+03,\n",
    "       -2.0560773e+03, -1.5623385e+03, -1.1419259e+03, -7.9247912e+02,\n",
    "       -5.1166556e+02, -2.9717997e+02, -1.4674507e+02, -5.8110973e+01,\n",
    "       -5.8110973e+01, -1.4674507e+02, -2.9717997e+02, -5.1166556e+02,\n",
    "       -7.9247912e+02, -1.1419259e+03, -1.5623385e+03, -2.0560773e+03,\n",
    "       -2.6255299e+03, -3.2731123e+03, -4.0012679e+03, -4.8124668e+03,\n",
    "       -5.7092075e+03, -6.6940173e+03, -7.7694487e+03, -8.9380820e+03,\n",
    "       -1.0202530e+04, -1.1565425e+04, -1.3029433e+04, -1.4597246e+04,\n",
    "       -1.6271585e+04, -1.8055193e+04, -1.9950847e+04, -2.1961350e+04,\n",
    "       -2.4089530e+04, -2.6338252e+04, -2.8710387e+04, -3.1208859e+04,\n",
    "       -3.3836610e+04, -3.6596594e+04, -3.9491827e+04, -4.2525312e+04,\n",
    "       -4.5700114e+04, -4.9019313e+04, -5.2485997e+04, -5.6103326e+04,\n",
    "       -5.9874435e+04, -6.3802532e+04, -6.7890824e+04, -7.2142564e+04])"
   ]
  },
  {
   "cell_type": "code",
   "execution_count": null,
   "metadata": {},
   "outputs": [],
   "source": [
    "plt.hist(arg_k_i-arg_idl)\n",
    "plt.xlabel('Difference between arg_k_i and arg_idl')\n",
    "plt.axvline(np.quantile(arg_k_i-arg_idl,0.98))"
   ]
  },
  {
   "cell_type": "code",
   "execution_count": null,
   "metadata": {},
   "outputs": [],
   "source": [
    "arg_idl = np.array([-94045.803, -89794.063, -85705.771, -81777.675, -78006.565,\n",
    "                 -74389.236, -70922.552, -67603.354, -64428.552, -61395.067,\n",
    "                 -58499.833, -55739.849, -53112.098, -50613.626, -48241.491,\n",
    "                 -45992.769, -43864.590, -41854.086, -39958.432, -38174.824,\n",
    "                 -36500.486, -34932.672, -33468.664, -32105.769, -30841.321,\n",
    "                 -29672.688, -28597.257, -27612.447, -26715.706, -25904.507,\n",
    "                 -25176.352, -24528.769, -23959.317, -23465.578, -23045.165,\n",
    "                 -22695.718, -22414.905, -22200.419, -22049.984, -21961.350,\n",
    "                 -21961.350, -22049.984, -22200.419, -22414.905, -22695.718,\n",
    "                 -23045.165, -23465.578, -23959.317, -24528.769, -25176.352,\n",
    "                 -25904.507, -26715.706, -27612.447, -28597.257, -29672.688,\n",
    "                 -30841.321, -32105.769, -33468.664, -34932.672, -36500.486,\n",
    "                 -38174.824, -39958.432, -41854.086, -43864.590, -45992.769,\n",
    "                 -48241.491, -50613.626, -53112.098, -55739.849, -58499.833,\n",
    "                 -61395.067, -64428.552, -67603.354, -70922.552, -74389.236,\n",
    "                 -78006.565, -81777.675, -85705.771, -89794.063, -94045.803])\n"
   ]
  },
  {
   "cell_type": "code",
   "execution_count": null,
   "metadata": {},
   "outputs": [],
   "source": [
    "plt.hist(arg_k_i-arg_idl)\n",
    "plt.xlabel('Difference between arg_k_i and arg_idl')\n",
    "plt.axvline(np.quantile(arg_k_i-arg_idl,0.98))"
   ]
  },
  {
   "cell_type": "code",
   "execution_count": null,
   "metadata": {},
   "outputs": [],
   "source": [
    "break"
   ]
  },
  {
   "cell_type": "code",
   "execution_count": null,
   "metadata": {},
   "outputs": [],
   "source": [
    "data_file = readsav('000_maxwell_data.sav')\n",
    "data_file['maxwell'].shape"
   ]
  },
  {
   "cell_type": "markdown",
   "metadata": {},
   "source": [
    "# Python"
   ]
  },
  {
   "cell_type": "code",
   "execution_count": 70,
   "metadata": {},
   "outputs": [
    {
     "ename": "ModuleNotFoundError",
     "evalue": "No module named 'p000_variables'",
     "output_type": "error",
     "traceback": [
      "\u001b[1;31m---------------------------------------------------------------------------\u001b[0m",
      "\u001b[1;31mModuleNotFoundError\u001b[0m                       Traceback (most recent call last)",
      "Cell \u001b[1;32mIn[70], line 1\u001b[0m\n\u001b[1;32m----> 1\u001b[0m \u001b[38;5;28;01mfrom\u001b[39;00m \u001b[38;5;21;01mp000_variables\u001b[39;00m     \u001b[38;5;28;01mimport\u001b[39;00m VARIABLES\n\u001b[0;32m      2\u001b[0m \u001b[38;5;28;01mfrom\u001b[39;00m \u001b[38;5;21;01mp001_Make_dVr_dVx\u001b[39;00m  \u001b[38;5;28;01mimport\u001b[39;00m Make_dVr_dVx\n\u001b[0;32m      3\u001b[0m \u001b[38;5;28;01mfrom\u001b[39;00m \u001b[38;5;21;01mtqdm\u001b[39;00m \u001b[38;5;28;01mimport\u001b[39;00m tqdm\n",
      "\u001b[1;31mModuleNotFoundError\u001b[0m: No module named 'p000_variables'"
     ]
    }
   ],
   "source": [
    "from p000_variables     import VARIABLES\n",
    "from p001_Make_dVr_dVx  import Make_dVr_dVx\n",
    "from tqdm import tqdm\n",
    "import numpy as np\n",
    "import sympy as sp\n",
    "import copy\n",
    "\n",
    "\n",
    "def create_maxwellian_include(vr:np.ndarray, vx:np.ndarray, vx_shift:np.ndarray,Tmaxwell:np.ndarray,Tnorm: np.float32,mu:np.float32,mol:np.int32):\n",
    "    q   = VARIABLES.q\n",
    "    mH  = VARIABLES.mH\n",
    "\n",
    "    Vr2pidVr, VrVr4pidVr,dVx,vrL,vrR,vxL,vxR,vol,vth_Deltavx,vx_Deltavx,vr_Deltavr,vr2vx2,jpa,jpb,jna,jnb = Make_dVr_dVx(vr,vx)\n",
    "\n",
    "    nvr = len(vr)\n",
    "    nvx = len(vx)\n",
    "    nx  = len(vx_shift)\n",
    "    vth = np.sqrt(2*q*Tnorm/(mu*mH))\n",
    "    vth2= vth *vth\n",
    "    vth3= vth2*vth\n",
    "    vr2vx2_ran2=np.zeros((nvr,nvx), dtype = np.float64)\n",
    "    \n",
    "    \n",
    "    AN  = np.zeros((nvr,nvx,2), dtype=np.float64)\n",
    "    BN  = np.zeros((nvr,nvx,2), dtype=np.float64)\n",
    "    sgn = [1,-1]\n",
    "    maxwell = np.zeros((nvr,nvx,nx),dtype=np.float32)\n",
    "    #################################################################\n",
    "    for k in tqdm(range(nx),desc=f'k'):\n",
    "        if Tmaxwell[k]>0.0:\n",
    "            for i in tqdm(range(nvr),desc=f'i'):\n",
    "                arg = -((vr[i]**2 + ((vx) - (vx_shift[k] / vth))**2) * mol * Tnorm / Tmaxwell[k])  # Error de \\pm 3e-3\n",
    "                arg = np.where(np.logical_and((-80 < arg),(arg < 0.0)), arg, -80)\n",
    "                maxwell[i,:,k] = np.exp(arg)\n",
    "            variable = np.array(sp.Matrix(maxwell[:, :, k]) * sp.Matrix(dVx), dtype=float).flatten()\n",
    "            maxwell[:,:,k] = copy.copy(maxwell[:,:,k]/(np.nansum(Vr2pidVr*variable)))\n",
    "            # Compute desired moments\n",
    "            WxD = copy.copy(vx_shift[k])\n",
    "            ED = (WxD**2)+3*q*(Tmaxwell[k])/(mol*mu*mH)\n",
    "            # Compute present moments of Maxwell, WxMax, and EMax \n",
    "            vx_dvx = vx*dVx\n",
    "            maxwell_2d  = copy.copy(maxwell[:, :, k])\n",
    "            max_2d_xd   = np.array(sp.Matrix(maxwell[:, :, k]) * sp.Matrix(vx * dVx), dtype=float).flatten()\n",
    "            WxMax       = vth  * (np.nansum(Vr2pidVr * (max_2d_xd) ))\n",
    "            EMax        = vth2 * (np.nansum(Vr2pidVr*(np.matmul((vr2vx2*maxwell[:,:,k]),dVx))))\n",
    "            # Compute Nij from Maxwell, padded with zeros\n",
    "            Nij = np.zeros((nvr+2,nvx+2), dtype=np.float64)  # The order of the error is maintained with float64, but not for float 32\n",
    "            Nij[1:nvr+1,1:nvx+1]    = maxwell[:,:,k]*vol\n",
    "            auxNij                  = Nij*vx_Deltavx\n",
    "            Nijp1_vx_Dvx            = np.roll(auxNij, shift=-1, axis=1)\n",
    "            Nij_vx_Dvx              = Nij*vx_Deltavx\n",
    "            Nijm1_vx_Dvx            = np.roll(auxNij, shift=1, axis=1)\n",
    "            auxNij2                 = Nij*vr_Deltavr\n",
    "            Nip1j_vr_Dvr            = np.roll(auxNij2, shift=-1,axis=0 )\n",
    "            Nij_vr_Dvr              = Nij*vr_Deltavr\n",
    "            Nim1j_vr_Dvr            = np.roll(auxNij2, shift=1, axis=0)\n",
    "            # Compute Ap, Am, Bp, and Bm (0=p 1=m)\n",
    "            aux_AN = np.zeros((nvx+2,nvr+2),dtype=np.float64)\n",
    "            aux_AN = Nij*vth_Deltavx\n",
    "\n",
    "            _AN         = np.zeros((nvx+2,nvr+2), dtype=np.float64)\n",
    "            _AN         = np.roll(aux_AN, shift=1, axis=1) - aux_AN\n",
    "            AN[:,:,0]   = copy.copy(_AN[1:nvr+1,1:nvx+1])\n",
    "            \n",
    "            _AN         = np.zeros((nvx+2,nvr+2), dtype=np.float64)\n",
    "            _AN         = -np.roll(aux_AN, shift=-1, axis=1) + aux_AN\n",
    "            AN[:,:,1]   = copy.copy(_AN[1:nvr+1,1:nvx+1])\n",
    "\n",
    "            BN[:,jpa+1:jpb+1,0] =  Nijm1_vx_Dvx[1:nvr+1,jpa+2:jpb+2] - Nij_vx_Dvx[1:nvr+1,jpa+2:jpb+2]\n",
    "            BN[:,jpa,0]         = -Nij_vx_Dvx[1:nvr+1,jpa+1]\n",
    "            BN[:,jnb,0]         =  Nij_vx_Dvx[1:nvr+1,jnb+1]\n",
    "            BN[:,jna:jnb,0]     = -Nijp1_vx_Dvx[1:nvr+1,jna+1:jnb+1] + Nij_vx_Dvx[1:nvr+1,jna+1:jnb+1]\n",
    "            BN[:,:,0]           =  BN[:,:,0] + Nim1j_vr_Dvr[1:nvr+1,1:nvx+1] - Nij_vr_Dvr[1:nvr+1,1:nvx+1]\n",
    "\n",
    "            BN[:,jpa+1:jpb+1,1] = -Nijp1_vx_Dvx[1:nvr+1,jpa+2:jpb+2] + Nij_vx_Dvx[1:nvr+1,jpa+2:jpb+2]\n",
    "            BN[:,jpa,1]         = -Nijp1_vx_Dvx[1:nvr+1,jpa+1]\n",
    "            BN[:,jnb,1]         =  Nijm1_vx_Dvx[1:nvr+1,jnb+1]\n",
    "            BN[:,jna:jnb,1]     =  Nijm1_vx_Dvx[1:nvr+1,jna+1:jnb+1] - Nij_vx_Dvx[1:nvr+1,jna+1:jnb+1]\n",
    "            BN[1:nvr,:,1]       =  BN[1:nvr,:,1] - Nip1j_vr_Dvr[2:nvr+1,1:nvx+1] + Nij_vr_Dvr[2:nvr+1,1:nvx+1]\n",
    "            BN[0,:,1]           =  BN[0,:,1] - Nip1j_vr_Dvr[1,1:nvx+1]\n",
    "\n",
    "            # Remove padded zeros in Nij\n",
    "            Nij = Nij[1:nvr+1,1:nvx+1]\n",
    "\n",
    "            # Cycle through 4 possibilies of sign(a_Max),sign(b_Max)\n",
    "            TB1 = np.zeros(2)#, dtype=np.float32)\n",
    "            TB2 = np.zeros(2)#, dtype=np.float32)\n",
    "            ia=0\n",
    "            while ia<2:\n",
    "                # Compute TA1, TA2    \n",
    "                aux_TA1 = np.array(sp.Matrix(AN[:,:,ia]*sp.Matrix(vx)),dtype=float).flatten()\n",
    "                TA1 = vth*np.sum(aux_TA1)\n",
    "                TA2 = vth2*np.sum(vr2vx2*AN[:,:,ia])\n",
    "                ib  = 0\n",
    "                while ib<2:\n",
    "                    # Compute TB1, TB2\n",
    "                    if TB1[ib]==0:\n",
    "                        aux_TB1 = np.array(sp.Matrix(BN[:,:,ib])*sp.Matrix(vx),dtype=float).flatten()\n",
    "                        TB1[ib] = vth*np.sum(aux_TB1)\n",
    "                        # print('TB1:',TB1, 'ib:',ib)\n",
    "                    if TB2[ib]==0:\n",
    "                        TB2[ib] = vth2*np.sum(vr2vx2*BN[:,:,ib])\n",
    "                    denom = TA2*TB1[ib]-TA1*TB2[ib]\n",
    "                    # print('denom:',denom, 'ib:',ib)\n",
    "                    b_Max = 0.0\n",
    "                    a_Max = 0.0\n",
    "                    if denom!=0 and TA1 !=0:\n",
    "                        b_Max = (TA2*(WxD-WxMax) - TA1*(ED-EMax))/denom\n",
    "                        a_Max = (WxD-WxMax-TB1[ib]*b_Max)/TA1\n",
    "                    if a_Max*sgn[ia] > 0 and b_Max*sgn[ib]>0:\n",
    "                        maxwell[:,:,k] = (Nij + AN[:,:,ia]*a_Max + BN[:,:,ib]*b_Max)/vol\n",
    "                        # np.savetxt('salida_23.dat', maxwell[:,:,k], fmt='%.4e',delimiter='\\t')\n",
    "                        ia = 2\n",
    "                        ib = 2\n",
    "                    ib = ib + 1\n",
    "                ia= ia + 1\n",
    "\n",
    "            aux_maxwell = np.array(sp.Matrix(maxwell[:,:,k])*sp.Matrix(dVx),dtype=float).flatten()\n",
    "            maxwell[:,:,k] = maxwell[:,:,k]/np.sum(Vr2pidVr*aux_maxwell)\n",
    "            \n",
    "    return maxwell\n",
    "                    \n",
    "if __name__ == \"__main__\":\n",
    "    # vr = np.array([ 0.07025444373403009,    0.14139327496887916,    0.21341649370454718,  \n",
    "    #                 0.2863240999410342,     0.3601160936783402,     0.43479247491646505,  \n",
    "    #                 0.510353243655409,      0.5867983998951719,     0.6641279436357537,  \n",
    "    #                 0.7423418748771545,     0.8214401936193743,     0.901422899862413,  \n",
    "    #                 0.9822899936062708,     1.0640414748509475,     1.146677343596443,  \n",
    "    #                 1.230197599842758,      1.3146022435898914,     1.3998912748378438,  \n",
    "    #                 1.4860646935866155,     1.5731224998362061,     1.6610646935866153,  \n",
    "    #                 1.749891274837844,      1.8396022435898913,     1.9301975998427576,  \n",
    "    #                 2.0216773435964432,     2.1140414748509473,     2.207289993606271,  \n",
    "    #                 2.301422899862413,      2.396440193619374,      2.4923418748771544,  \n",
    "    #                 2.5891279436357535,     2.6867983998951717,     2.785353243655409,  \n",
    "    #                 2.8847924749164653,     2.9851160936783403,     3.086324099941034,  \n",
    "    #                 3.1884164937045467,     3.291393274968879,      3.39525444373403, 3.5])\n",
    "    # vx = np.array([-3.5,                   -3.39525444373403,      -3.291393274968879,  -3.1884164937045467,  \n",
    "    #                -3.086324099941034,     -2.9851160936783403,    -2.8847924749164653,  \n",
    "    #                -2.785353243655409,     -2.6867983998951717,    -2.5891279436357535,  \n",
    "    #                -2.4923418748771544,    -2.396440193619374,     -2.301422899862413,  \n",
    "    #                -2.207289993606271,     -2.1140414748509473,    -2.0216773435964432,  \n",
    "    #                 -1.9301975998427576,   -1.8396022435898913,    -1.749891274837844,  \n",
    "    #                 -1.6610646935866153, -  1.5731224998362061,    -1.4860646935866155,  \n",
    "    #                 -1.3998912748378438,   -1.3146022435898914,    -1.230197599842758,  \n",
    "    #                 -1.146677343596443,    -1.0640414748509475,    -0.9822899936062708,  \n",
    "    #                 -0.901422899862413,    -0.8214401936193743,    -0.7423418748771545,  \n",
    "    #                 -0.6641279436357537,   -0.5867983998951719,    -0.510353243655409,  \n",
    "    #                 -0.43479247491646505,  -0.3601160936783402,    -0.2863240999410342,  \n",
    "    #                 -0.21341649370454718,  -0.14139327496887916,   -0.07025444373403009,  \n",
    "    #                  0.07025444373403009,   0.14139327496887916,    0.21341649370454718,  \n",
    "    #                  0.2863240999410342,    0.3601160936783402,     0.43479247491646505,  \n",
    "    #                  0.510353243655409,     0.5867983998951719,     0.6641279436357537,  \n",
    "    #                  0.7423418748771545,    0.8214401936193743,     0.901422899862413,  \n",
    "    #                  0.9822899936062708,    1.0640414748509475,     1.146677343596443,  \n",
    "    #                  1.230197599842758,     1.3146022435898914,     1.3998912748378438,  \n",
    "    #                  1.4860646935866155,    1.5731224998362061,     1.6610646935866153,  \n",
    "    #                  1.749891274837844,     1.8396022435898913,     1.9301975998427576,  \n",
    "    #                  2.0216773435964432,    2.1140414748509473,     2.207289993606271,  \n",
    "    #                  2.301422899862413,     2.396440193619374,      2.4923418748771544,  \n",
    "    #                  2.5891279436357535,    2.6867983998951717,     2.785353243655409,  \n",
    "    #                  2.8847924749164653,    2.9851160936783403,     3.086324099941034,  \n",
    "    #                  3.1884164937045467,    3.291393274968879,      3.39525444373403,   3.5])\n",
    "    # vx_shift = [0.0]\n",
    "    # Tmaxwell = [0.02524895]\n",
    "    # Tnorm = 74.317975\n",
    "    # mol = 2\n",
    "    # mu  = 2.0\n",
    "    vr = np.array([0.06271136712987961, 0.1372425903513508, 0.2235936696644137, 0.3217646050690682, 0.4317553965653143, 0.553566044153152,  \n",
    "            0.6871965478325813, 0.8326469076036023, 0.9899171234662149, 1.159007195420419, 1.339917123466215, 1.532646907603602,  \n",
    "            1.737196547832581, 1.953566044153152, 2.181755396565315, 2.421764605069068, 2.673593669664414, 2.937242590351351,  \n",
    "            3.21271136712988, 3.5])\n",
    "    vx = np.array([-3.5, -3.21271136712988, -2.937242590351351, -2.673593669664414, -2.421764605069068, -2.181755396565315,  \n",
    "            -1.953566044153152, -1.737196547832581, -1.532646907603602, -1.339917123466215, -1.159007195420419, -0.9899171234662149,  \n",
    "            -0.8326469076036023, -0.6871965478325813, -0.553566044153152, -0.4317553965653143, -0.3217646050690682, -0.2235936696644137,  \n",
    "            -0.1372425903513508, -0.06271136712987961, 0.06271136712987961, 0.1372425903513508, 0.2235936696644137, 0.3217646050690682,  \n",
    "            0.4317553965653143, 0.553566044153152, 0.6871965478325813, 0.8326469076036023, 0.9899171234662149, 1.159007195420419,  \n",
    "            1.339917123466215, 1.532646907603602, 1.737196547832581, 1.953566044153152, 2.181755396565315, 2.421764605069068,  \n",
    "            2.673593669664414, 2.937242590351351, 3.21271136712988, 3.5])\n",
    "\n",
    "    vx_shift = np.array([0.0, 0.0, 0.0, 0.0, 0.0, 0.0, 0.0, 0.0, 0.0, 0.0, 0.0, 0.0, 0.0, 0.0, 0.0, 0.0, 0.0, 0.0, 0.0, 0.0, 0.0, 0.0, 0.0, 0.0, 0.0, 0.0, 0.0, 0.0, 0.0, 0.0, 0.0, 0.0, 0.0, 0.0, 0.0, 0.0, 0.0, 0.0, 0.0, 0.0, 0.0, 0.0, 0.0, 0.0, 0.0, 0.0, 0.0, 0.0, 0.0, 0.0, 0.0, 0.0, 0.0, 0.0, 0.0, 0.0, 0.0, 0.0, 0.0, 0.0, 0.0, 0.0, 0.0, 0.0, 0.0, 0.0, 0.0, 0.0, 0.0, 0.0, 0.0, 0.0, 0.0, 0.0, 0.0, 0.0, 0.0, 0.0, 0.0, 0.0, 0.0, 0.0, 0.0, 0.0, 0.0, 0.0, 0.0, 0.0, 0.0, 0.0, 0.0, 0.0, 0.0, 0.0, 0.0, 0.0, 0.0, 0.0, 0.0, 0.0, 0.0, 0.0, 0.0, 0.0, 0.0, 0.0, 0.0, 0.0, 0.0, 0.0, 0.0, 0.0, 0.0, 0.0, 0.0, 0.0, 0.0, 0.0, 0.0, 0.0, 0.0, 0.0, 0.0, 0.0, 0.0, 0.0, 0.0, 0.0, 0.0, 0.0, 0.0, 0.0, 0.0, 0.0, 0.0, 0.0, 0.0, 0.0, 0.0, 0.0, 0.0, 0.0, 0.0, 0.0, 0.0])\n",
    "    Tmaxwell = np.array([9.34678840637207, 9.34678840637207, 9.34678840637207, 9.34678840637207, 9.34678840637207, 9.34678840637207, 9.34678840637207, 9.34678840637207, 9.34678840637207, 9.34678840637207, 9.34678840637207, 9.34678840637207, 9.34678840637207, 9.34678840637207, 9.34678840637207, 9.34678840637207, 9.34678840637207, 9.34678840637207, 9.353203155001086, 9.373764910512076, 9.396642210011589, 9.550901584045615, 9.744629809912034, 10.016827740354117, 10.41942009712586, 10.850431675580952, 11.302672083203914, 11.760846052108441, 12.249747256184866, 12.786011649146529, 13.335317899146544, 13.896924241165312, 14.461812273677445, 15.00772384603196, 15.524990855997217, 16.03142479493324, 16.46155264211707, 16.86981647052882, 17.223224797860684, 17.51513957277031, 17.780571329996604, 17.92301563922854, 18.029535333340856, 18.089501488199303, 18.108104705810547, 18.108104705810547, 18.108104705810547, 18.108104705810547, 18.108104705810547, 18.108104705810547, 18.109179352983897, 18.12300873972003, 18.142228410937125, 18.20386173910835, 18.306568486992262, 18.440815409165822, 18.651521976548644, 18.900970038016787, 19.205109057532855, 19.55525068296369, 19.93960698368101, 20.367488545683496, 20.82293073944747, 21.292028852033454, 21.77093977995033, 22.255296792640355, 22.737303568252862, 23.217501779866353, 23.711961179043584, 24.219425077414506, 24.75868421143798, 25.381276154797376, 26.085629814082754, 26.989239760057785, 28.072608607904115, 29.327058033111054, 30.762856449396622, 32.39069096405154, 34.31278264239886, 36.504714014121475, 39.01950698141633, 41.95052863465907, 45.383581218535916, 48.894830313202256, 52.47814567891719, 56.13221024260849, 59.85522399943026, 63.669470874430374, 67.30889626515891, 70.76738782792263, 74.12886042388425, 77.48437862513902, 80.83153765158241, 84.14353032793755, 87.41589319964561, 90.66862540859704, 93.91925609236498, 97.16686839705258, 100.40976547702215, 103.64686015728022, 106.88131941761233, 110.1153191780616, 113.3486302592922, 116.58109768056578, 119.81235607406389, 123.04318839475347, 126.27402107946864, 129.5048540076918, 132.7357154141247, 135.96659684261434, 139.19747161267233, 142.42832779928563, 145.65916564339616, 148.89000490120873, 152.12083297176895, 155.35165142219745, 158.5824483330587, 161.8132068782287, 165.04391078447878, 168.27451936462916, 171.50510443327252, 174.7356847540415, 177.96626260155332, 181.19682978905342, 184.42740785164548, 187.65798816993612, 190.88856843769906, 194.1191480988735, 197.34972895824856, 200.5802971068594, 203.81087268925387, 207.041468607837, 210.27208268930386, 213.50268786102865, 216.73328037967832, 219.96386318443487, 223.19443730760614, 226.42500549640351, 229.65557300691512, 232.88615217720064, 236.11672324806247, 239.34729750446513, 242.57787344421757, 245.80844116938783, 249.03902202876293])\n",
    "    Tnorm = 74.3179779562261\n",
    "    mol = 1\n",
    "    mu = 2.0\n",
    "\n",
    "    maxwell = create_maxwellian_include(vr, vx, vx_shift,Tmaxwell,Tnorm,mu,mol)\n",
    "    print(maxwell.shape)\n",
    "    print(maxwell[:,:,5])\n",
    "    np.savetxt('salida.dat', maxwell[:,:,5], fmt='%.4e',delimiter='\\t')\n",
    "    import matplotlib.pyplot as plt\n",
    "    plt.imshow(maxwell[:,:,5])"
   ]
  },
  {
   "cell_type": "code",
   "execution_count": null,
   "metadata": {},
   "outputs": [],
   "source": []
  }
 ],
 "metadata": {
  "kernelspec": {
   "display_name": "venv_kn1d",
   "language": "python",
   "name": "python3"
  },
  "language_info": {
   "codemirror_mode": {
    "name": "ipython",
    "version": 3
   },
   "file_extension": ".py",
   "mimetype": "text/x-python",
   "name": "python",
   "nbconvert_exporter": "python",
   "pygments_lexer": "ipython3",
   "version": "3.11.2"
  }
 },
 "nbformat": 4,
 "nbformat_minor": 2
}
