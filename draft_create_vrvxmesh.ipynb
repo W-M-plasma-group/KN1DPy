{
 "cells": [
  {
   "cell_type": "code",
   "execution_count": 14,
   "metadata": {},
   "outputs": [],
   "source": [
    "import numpy as np\n",
    "import copy\n",
    "from tqdm import tqdm"
   ]
  },
  {
   "cell_type": "code",
   "execution_count": 16,
   "metadata": {},
   "outputs": [],
   "source": [
    "Ti = np.array([9.34678841, 9.34678841, 9.34678841, 9.34678841, 9.34678841,  \n",
    "      9.34678841, 9.34678841, 9.34678841, 9.34678841, 9.34678841,  \n",
    "      9.34678841, 9.34678841, 9.34678841, 9.34678841, 9.34678841,  \n",
    "      9.34678841, 9.34678841, 9.34678841, 9.35320316, 9.37376491,  \n",
    "      9.39664221, 9.55090158, 9.74462981, 10.01682774, 10.4194201,  \n",
    "      10.85043168, 11.30267208, 11.76084605, 12.24974726, 12.78601165,  \n",
    "      13.3353179, 13.89692424, 14.46181227, 15.00772385, 15.52499086,  \n",
    "      16.03142479, 16.46155264, 16.86981647, 17.2232248, 17.51513957,  \n",
    "      17.78057133, 17.92301564, 18.02953533, 18.08950149, 18.10810471,  \n",
    "      18.10810471, 18.10810471, 18.10810471, 18.10810471, 18.10810471,  \n",
    "      18.10917935, 18.12300874, 18.14222841, 18.20386174, 18.30656849,  \n",
    "      18.44081541, 18.65152198, 18.90097004, 19.20510906, 19.55525068,  \n",
    "      19.93960698, 20.36748855, 20.82293074, 21.29202885, 21.77093978,  \n",
    "      22.25529679, 22.73730357, 23.21750178, 23.71196118, 24.21942508,  \n",
    "      24.75868421, 25.38127615, 26.08562981, 26.98923976, 28.07260861,  \n",
    "      29.32705803, 30.76285645, 32.39069096, 34.31278264, 36.50471401,  \n",
    "      39.01950698, 41.95052863, 45.38358122, 48.89483031, 52.47814568,  \n",
    "      56.13221024, 59.855224, 63.66947087, 67.30889627, 70.76738783,  \n",
    "      74.12886042, 77.48437863, 80.83153765, 84.14353033, 87.4158932,  \n",
    "      90.66862541, 93.91925609, 97.1668684, 100.40976548, 103.64686016,  \n",
    "      106.88131942, 110.11531918, 113.34863026, 116.58109768, 119.81235607,  \n",
    "      123.04318839, 126.27402108, 129.50485401, 132.73571541, 135.96659684,  \n",
    "      139.19747161, 142.4283278, 145.65916564, 148.8900049, 152.12083297,  \n",
    "      155.35165142, 158.58244833, 161.81320688, 165.04391078, 168.27451936,  \n",
    "      171.50510443, 174.73568475, 177.9662626, 181.19682979, 184.42740785,  \n",
    "      187.65798817, 190.88856844, 194.1191481, 197.34972896, 200.58029711,  \n",
    "      203.81087269, 207.04146861, 210.27208269, 213.50268786, 216.73328038,  \n",
    "      219.96386318, 223.19443731, 226.4250055, 229.65557301, 232.88615218,  \n",
    "      236.11672325, 239.3472975, 242.57787344, 245.80844117, 249.03902203])\n",
    "nv = 20"
   ]
  },
  {
   "cell_type": "code",
   "execution_count": 21,
   "metadata": {},
   "outputs": [
    {
     "name": "stderr",
     "output_type": "stream",
     "text": [
      "create_vrvxmesh.py: calc. v: 100%|██████████| 1/1 [00:00<?, ?it/s]"
     ]
    },
    {
     "name": "stdout",
     "output_type": "stream",
     "text": [
      "(array([], dtype=int64),)\n",
      "[0.06271137 0.13724259 0.22359367 0.32176461 0.4317554  0.55356604\n",
      " 0.68719655 0.83264691 0.98991712 1.1590072  1.33991712 1.53264691\n",
      " 1.73719655 1.95356604 2.1817554  2.42176461 2.67359367 2.93724259\n",
      " 3.21271137 3.5       ]\n"
     ]
    },
    {
     "name": "stderr",
     "output_type": "stream",
     "text": [
      "\n"
     ]
    }
   ],
   "source": [
    "''' \n",
    "Version 01\n",
    "Authors: Julio Balbin, Carlo Becerra\n",
    "Date: August 20th, 2024\n",
    "'''\n",
    "# def create_vr_vx_mesh(nv: np.int32, Ti: np.ndarray, E0: np.ndarray = None, Tmax: np.float64 = 0.0):\n",
    "#     if E0 is None:\n",
    "#         E0 = np.array([0.0])\n",
    "def create_vr_vx_mesh(nv:np.int32, Ti:np.array, E0=np.array([0.0]), Tmax: np.float64 = 0.0):\n",
    "\n",
    "    ''' \n",
    "    nv & Ti are from:\n",
    "    -> 1090904024_950to1050.sav\n",
    "\n",
    "    Sets up optimum vr and vx velocity space mesh for Kinetic_Neutrals procedure \n",
    "    Input: \n",
    "    nv:     np.integer, number of elements desired in vr mesh\n",
    "    Ti:     np.arrray,  Ti profile\n",
    "    E0:     np.array,   energy where a velocity is desired ( optional )\n",
    "    Tmax:   np.float64, ignore Ti above this value\n",
    "    '''\n",
    "    _Ti = copy.copy(Ti)  \n",
    "\n",
    "    _Ti = np.concatenate((Ti, E0[E0 > 0]))  # Añadir valores de E0 a Ti\n",
    "    if Tmax > 0:\n",
    "        ii = np.where(_Ti < Tmax)\n",
    "        _Ti = copy.copy(_Ti[ii])\n",
    "\n",
    "    maxTi = np.nanmax(_Ti)\n",
    "    minTi = np.nanmin(_Ti) \n",
    "\n",
    "    # Tnorm = np.nansum(_Ti)/len(_Ti) # np.count_nonzero(~np.isnan(data))\n",
    "    Tnorm = np.nanmean(_Ti) # np.count_nonzero(~np.isnan(data))\n",
    "    vmax  = 3.5\n",
    "\n",
    "    if maxTi-minTi < 0.1*maxTi:\n",
    "        v = np.arange(nv+1, dtype=np.float64)*(vmax/nv)\n",
    "        print(v)\n",
    "    else:\n",
    "        G = 2*nv*np.sqrt(minTi/maxTi)/(1-np.sqrt(minTi/maxTi))\n",
    "        b = vmax/(nv*(nv+G))\n",
    "        a = G*b\n",
    "        v = (a*np.arange(nv+1, dtype=np.float64)) + \\\n",
    "            (b*np.arange(nv+1, dtype=np.float64)**2)\n",
    "    v0 = 0.0\n",
    "    # Option: add velocity bins corresponding to E0\n",
    "    for k in tqdm(range(0,len(E0)),desc=f'create_vrvxmesh.py: calc. v'):\n",
    "        if E0[k]>0.0:\n",
    "            v0 = np.sqrt(E0[k]/Tnorm)\n",
    "            ii = np.where(v>v0)\n",
    "            if len(ii[0]) > 0:\n",
    "                v = np.concatenate((v[:ii[0][0]], [v0], v[ii[0][0]:]))\n",
    "            else:\n",
    "                v = np.concatenate((v, [v0]))\n",
    "\n",
    "    vr = v[1:]\n",
    "\n",
    "    vr_reversed = np.array(list(reversed(vr)))\n",
    "    vx = np.concatenate((-vr_reversed, vr))\n",
    "\n",
    "    ixE0 = np.where(np.abs(vx)==v0)\n",
    "    if len(ixE0[0]==1):\n",
    "        ixE0=ixE0[0]\n",
    "\n",
    "    irE0 = np.where(vr==v0)\n",
    "    print(irE0)\n",
    "    if len(irE0[0]==1):\n",
    "        irE0=irE0[0]\n",
    "\n",
    "    return vx,vr,Tnorm,ixE0,irE0\n",
    "\n",
    "vx,vr,Tnorm,ixE0,irE0 = create_vr_vx_mesh(nv, Ti)\n",
    "print(vr)"
   ]
  }
 ],
 "metadata": {
  "kernelspec": {
   "display_name": "venv_kn1d",
   "language": "python",
   "name": "python3"
  },
  "language_info": {
   "codemirror_mode": {
    "name": "ipython",
    "version": 3
   },
   "file_extension": ".py",
   "mimetype": "text/x-python",
   "name": "python",
   "nbconvert_exporter": "python",
   "pygments_lexer": "ipython3",
   "version": "3.12.4"
  }
 },
 "nbformat": 4,
 "nbformat_minor": 2
}
