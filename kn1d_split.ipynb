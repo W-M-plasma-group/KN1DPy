{
 "cells": [
  {
   "cell_type": "code",
   "execution_count": 4,
   "metadata": {},
   "outputs": [],
   "source": [
    "from KN1D import KN1D\n",
    "import scipy.io as sio\n",
    "from scipy.io import readsav\n",
    "import numpy as np"
   ]
  },
  {
   "cell_type": "code",
   "execution_count": 6,
   "metadata": {},
   "outputs": [],
   "source": [
    "def read_sav(file_name):\n",
    "\n",
    "# This function will print the data from an IDL .sav file\n",
    "# Inputs:\n",
    "#   file name - the name of the .sav file\n",
    "# Outputs:\n",
    "#   sav_data - a dictionary containing all of the data\n",
    "    path = 'C:/Users/julio/projects_git/kn1d_gl2/kn1d_python/sav_files_2/' + file_name\n",
    "    sav_data = readsav(path)\n",
    "    return sav_data"
   ]
  },
  {
   "cell_type": "code",
   "execution_count": 7,
   "metadata": {},
   "outputs": [],
   "source": [
    "data_file = read_sav('1090904018_950to1050.sav')\n"
   ]
  },
  {
   "cell_type": "code",
   "execution_count": 12,
   "metadata": {},
   "outputs": [
    {
     "name": "stdout",
     "output_type": "stream",
     "text": [
      "0 \t shot\n",
      "1 \t ta\n",
      "2 \t tb\n",
      "3 \t x\n",
      "4 \t x_lim\n",
      "5 \t x_sep\n",
      "6 \t p_wall\n",
      "7 \t mu\n",
      "8 \t t_i\n",
      "9 \t t_e\n",
      "10 \t n_e\n",
      "11 \t vx\n",
      "12 \t vx1\n",
      "13 \t vx2\n",
      "14 \t lc\n",
      "15 \t d_pipe\n",
      "16 \t gammai\n",
      "17 \t xh2\n",
      "18 \t nh2\n",
      "19 \t gammaxh2\n",
      "20 \t th2\n",
      "21 \t qxh2_total\n",
      "22 \t nhp\n",
      "23 \t thp\n",
      "24 \t sh\n",
      "25 \t sp\n",
      "26 \t xh\n",
      "27 \t nh\n",
      "28 \t gammaxh\n",
      "29 \t th\n",
      "30 \t qxh_total\n",
      "31 \t nethsource\n",
      "32 \t sion\n",
      "33 \t qh_total\n",
      "34 \t sidewallh\n",
      "35 \t lyman\n",
      "36 \t balmer\n",
      "37 \t gammahlim\n",
      "38 \t pih_xx\n",
      "39 \t pih_yy\n",
      "40 \t pih_zz\n",
      "41 \t rxhcx\n",
      "42 \t rxh2_h\n",
      "43 \t rxp_h\n",
      "44 \t rxw_h\n",
      "45 \t ehcx\n",
      "46 \t eh2_h\n",
      "47 \t ep_h\n",
      "48 \t ew_h\n",
      "49 \t epara_perph_h\n",
      "50 \t sourceh\n",
      "51 \t srecomb\n",
      "52 \t l_ne\n",
      "53 \t l_te\n",
      "54 \t l_nh\n",
      "55 \t d_eff\n",
      "56 \t sep_rmid\n"
     ]
    }
   ],
   "source": [
    "for key_count, key_tkm in enumerate(data_file.keys()):\n",
    "    print(key_count,'\\t',key_tkm)"
   ]
  },
  {
   "cell_type": "code",
   "execution_count": 13,
   "metadata": {},
   "outputs": [
    {
     "name": "stdout",
     "output_type": "stream",
     "text": [
      "['shot', 'ta', 'tb', 'x', 'x_lim', 'x_sep', 'p_wall', 'mu', 't_i', 't_e', 'n_e', 'vx', 'vx1', 'vx2', 'lc', 'd_pipe', 'gammai', 'xh2', 'nh2', 'gammaxh2', 'th2', 'qxh2_total', 'nhp', 'thp', 'sh', 'sp', 'xh', 'nh', 'gammaxh', 'th', 'qxh_total', 'nethsource', 'sion', 'qh_total', 'sidewallh', 'lyman', 'balmer', 'gammahlim', 'pih_xx', 'pih_yy', 'pih_zz', 'rxhcx', 'rxh2_h', 'rxp_h', 'rxw_h', 'ehcx', 'eh2_h', 'ep_h', 'ew_h', 'epara_perph_h', 'sourceh', 'srecomb', 'l_ne', 'l_te', 'l_nh', 'd_eff', 'sep_rmid']\n"
     ]
    }
   ],
   "source": [
    "keys = data_file.keys() # gets the keys from the dictionary  \n",
    "keys_list = list(keys)  # puts the keys into a list \n",
    "print(keys_list)"
   ]
  },
  {
   "cell_type": "code",
   "execution_count": null,
   "metadata": {},
   "outputs": [],
   "source": []
  }
 ],
 "metadata": {
  "kernelspec": {
   "display_name": "Python 3",
   "language": "python",
   "name": "python3"
  },
  "language_info": {
   "codemirror_mode": {
    "name": "ipython",
    "version": 3
   },
   "file_extension": ".py",
   "mimetype": "text/x-python",
   "name": "python",
   "nbconvert_exporter": "python",
   "pygments_lexer": "ipython3",
   "version": "3.12.4"
  }
 },
 "nbformat": 4,
 "nbformat_minor": 2
}
